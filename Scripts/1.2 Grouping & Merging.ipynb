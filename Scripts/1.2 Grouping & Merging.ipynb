{
 "cells": [
  {
   "cell_type": "markdown",
   "id": "499bf442",
   "metadata": {},
   "source": [
    "# Content"
   ]
  },
  {
   "cell_type": "markdown",
   "id": "2c7f7556",
   "metadata": {},
   "source": [
    "### 00. Import Libraries\n",
    "### 01. Import Data Sets\n",
    "### 02. Merge Clean Datasets\n",
    "### 03. Export Final Data Set\n"
   ]
  },
  {
   "cell_type": "markdown",
   "id": "297f763b",
   "metadata": {},
   "source": [
    "## 00. Import Libraries"
   ]
  },
  {
   "cell_type": "code",
   "execution_count": 1,
   "id": "908a69d1",
   "metadata": {},
   "outputs": [],
   "source": [
    "# Import libraries\n",
    "import pandas as pd\n",
    "import numpy as np\n",
    "import pycountry\n",
    "import os"
   ]
  },
  {
   "cell_type": "markdown",
   "id": "67a19dca",
   "metadata": {},
   "source": [
    "## 01. Import Data Sets"
   ]
  },
  {
   "cell_type": "code",
   "execution_count": 2,
   "id": "242a9eab",
   "metadata": {},
   "outputs": [],
   "source": [
    "# Create folder path\n",
    "path = r\"C:\\Users\\Juliana\\Documents\\DATA ANALYTICS COURSE\\IMMERSION\\6\""
   ]
  },
  {
   "cell_type": "code",
   "execution_count": 3,
   "id": "a09bbbeb",
   "metadata": {},
   "outputs": [],
   "source": [
    "# Import natural disasters data\n",
    "nat_events= pd.read_csv(os.path.join(path,'02 Data','Cleaned Data', 'nat_disasters_clean.csv'))"
   ]
  },
  {
   "cell_type": "code",
   "execution_count": 4,
   "id": "1b5de11d",
   "metadata": {},
   "outputs": [],
   "source": [
    "# Import temperature changes data\n",
    "temp_change = pd.read_csv(os.path.join(path,'02 Data','Cleaned Data', 'temp_changes_clean.csv'))"
   ]
  },
  {
   "cell_type": "code",
   "execution_count": 42,
   "id": "3988b82c",
   "metadata": {},
   "outputs": [],
   "source": [
    "# Import migration data\n",
    "net_migration = pd.read_csv(os.path.join(path,'02 Data','Cleaned Data', 'net_migration_clean.csv'))"
   ]
  },
  {
   "cell_type": "code",
   "execution_count": 6,
   "id": "51a5e7cf",
   "metadata": {},
   "outputs": [],
   "source": [
    "# Import population data\n",
    "population = pd.read_csv(os.path.join(path,'02 Data','Cleaned Data', 'population_clean.csv'))"
   ]
  },
  {
   "cell_type": "code",
   "execution_count": 7,
   "id": "6279c5b8",
   "metadata": {},
   "outputs": [],
   "source": [
    "# Import CO2 emissions data\n",
    "co2_emissions = pd.read_csv(os.path.join(path,'02 Data','Cleaned Data', 'co2_emissions_filtered_clean.csv'))"
   ]
  },
  {
   "cell_type": "code",
   "execution_count": 8,
   "id": "8ddb54a8",
   "metadata": {},
   "outputs": [],
   "source": [
    "# Import energy consumtion data\n",
    "energy_consumption = pd.read_csv(os.path.join(path,'02 Data','Cleaned Data', 'energy_consumption_filtered_clean.csv'))"
   ]
  },
  {
   "cell_type": "markdown",
   "id": "98ffbab7",
   "metadata": {},
   "source": [
    "## 02. Merge Clean Datasets"
   ]
  },
  {
   "cell_type": "code",
   "execution_count": 9,
   "id": "9ae040a5",
   "metadata": {},
   "outputs": [
    {
     "data": {
      "text/html": [
       "<div>\n",
       "<style scoped>\n",
       "    .dataframe tbody tr th:only-of-type {\n",
       "        vertical-align: middle;\n",
       "    }\n",
       "\n",
       "    .dataframe tbody tr th {\n",
       "        vertical-align: top;\n",
       "    }\n",
       "\n",
       "    .dataframe thead th {\n",
       "        text-align: right;\n",
       "    }\n",
       "</style>\n",
       "<table border=\"1\" class=\"dataframe\">\n",
       "  <thead>\n",
       "    <tr style=\"text-align: right;\">\n",
       "      <th></th>\n",
       "      <th>Unnamed: 0</th>\n",
       "      <th>Year</th>\n",
       "      <th>Event_type</th>\n",
       "      <th>Event_Category</th>\n",
       "      <th>Disaster Subtype</th>\n",
       "      <th>Country</th>\n",
       "      <th>Country_Code</th>\n",
       "      <th>Region</th>\n",
       "      <th>Continent</th>\n",
       "      <th>Total_deaths</th>\n",
       "      <th>No_Affected</th>\n",
       "    </tr>\n",
       "  </thead>\n",
       "  <tbody>\n",
       "    <tr>\n",
       "      <th>0</th>\n",
       "      <td>353</td>\n",
       "      <td>1965</td>\n",
       "      <td>Geophysical</td>\n",
       "      <td>Earthquake</td>\n",
       "      <td>Ground movement</td>\n",
       "      <td>Indonesia</td>\n",
       "      <td>IDN</td>\n",
       "      <td>South-Eastern Asia</td>\n",
       "      <td>Asia</td>\n",
       "      <td>71.0</td>\n",
       "      <td>15000.0</td>\n",
       "    </tr>\n",
       "    <tr>\n",
       "      <th>1</th>\n",
       "      <td>354</td>\n",
       "      <td>1965</td>\n",
       "      <td>Hydrological</td>\n",
       "      <td>Landslide</td>\n",
       "      <td>Landslide</td>\n",
       "      <td>Argentina</td>\n",
       "      <td>ARG</td>\n",
       "      <td>South America</td>\n",
       "      <td>Americas</td>\n",
       "      <td>45.0</td>\n",
       "      <td>NaN</td>\n",
       "    </tr>\n",
       "    <tr>\n",
       "      <th>2</th>\n",
       "      <td>355</td>\n",
       "      <td>1965</td>\n",
       "      <td>Meteorological</td>\n",
       "      <td>Storm</td>\n",
       "      <td>Tropical cyclone</td>\n",
       "      <td>Bangladesh</td>\n",
       "      <td>BGD</td>\n",
       "      <td>Southern Asia</td>\n",
       "      <td>Asia</td>\n",
       "      <td>36000.0</td>\n",
       "      <td>10000000.0</td>\n",
       "    </tr>\n",
       "    <tr>\n",
       "      <th>3</th>\n",
       "      <td>356</td>\n",
       "      <td>1965</td>\n",
       "      <td>Meteorological</td>\n",
       "      <td>Storm</td>\n",
       "      <td>Tropical cyclone</td>\n",
       "      <td>Bangladesh</td>\n",
       "      <td>BGD</td>\n",
       "      <td>Southern Asia</td>\n",
       "      <td>Asia</td>\n",
       "      <td>12047.0</td>\n",
       "      <td>NaN</td>\n",
       "    </tr>\n",
       "    <tr>\n",
       "      <th>4</th>\n",
       "      <td>357</td>\n",
       "      <td>1965</td>\n",
       "      <td>Meteorological</td>\n",
       "      <td>Storm</td>\n",
       "      <td>Tropical cyclone</td>\n",
       "      <td>Bangladesh</td>\n",
       "      <td>BGD</td>\n",
       "      <td>Southern Asia</td>\n",
       "      <td>Asia</td>\n",
       "      <td>874.0</td>\n",
       "      <td>60000.0</td>\n",
       "    </tr>\n",
       "  </tbody>\n",
       "</table>\n",
       "</div>"
      ],
      "text/plain": [
       "   Unnamed: 0  Year      Event_type Event_Category  Disaster Subtype  \\\n",
       "0         353  1965     Geophysical     Earthquake   Ground movement   \n",
       "1         354  1965    Hydrological      Landslide         Landslide   \n",
       "2         355  1965  Meteorological          Storm  Tropical cyclone   \n",
       "3         356  1965  Meteorological          Storm  Tropical cyclone   \n",
       "4         357  1965  Meteorological          Storm  Tropical cyclone   \n",
       "\n",
       "      Country Country_Code              Region Continent  Total_deaths  \\\n",
       "0   Indonesia          IDN  South-Eastern Asia      Asia          71.0   \n",
       "1   Argentina          ARG       South America  Americas          45.0   \n",
       "2  Bangladesh          BGD       Southern Asia      Asia       36000.0   \n",
       "3  Bangladesh          BGD       Southern Asia      Asia       12047.0   \n",
       "4  Bangladesh          BGD       Southern Asia      Asia         874.0   \n",
       "\n",
       "   No_Affected  \n",
       "0      15000.0  \n",
       "1          NaN  \n",
       "2   10000000.0  \n",
       "3          NaN  \n",
       "4      60000.0  "
      ]
     },
     "execution_count": 9,
     "metadata": {},
     "output_type": "execute_result"
    }
   ],
   "source": [
    "nat_events.head()"
   ]
  },
  {
   "cell_type": "code",
   "execution_count": 10,
   "id": "b4957ca0",
   "metadata": {},
   "outputs": [
    {
     "data": {
      "text/plain": [
       "(14724, 11)"
      ]
     },
     "execution_count": 10,
     "metadata": {},
     "output_type": "execute_result"
    }
   ],
   "source": [
    "nat_events.shape"
   ]
  },
  {
   "cell_type": "code",
   "execution_count": 11,
   "id": "e119ce4b",
   "metadata": {},
   "outputs": [],
   "source": [
    "# Calculate Number_of_Events and add it as a new column\n",
    "nat_events['Number_of_Events'] = nat_events.groupby(['Year', 'Country'])['Event_type'].transform('count')"
   ]
  },
  {
   "cell_type": "code",
   "execution_count": 12,
   "id": "4f2ce533",
   "metadata": {},
   "outputs": [
    {
     "data": {
      "text/html": [
       "<div>\n",
       "<style scoped>\n",
       "    .dataframe tbody tr th:only-of-type {\n",
       "        vertical-align: middle;\n",
       "    }\n",
       "\n",
       "    .dataframe tbody tr th {\n",
       "        vertical-align: top;\n",
       "    }\n",
       "\n",
       "    .dataframe thead th {\n",
       "        text-align: right;\n",
       "    }\n",
       "</style>\n",
       "<table border=\"1\" class=\"dataframe\">\n",
       "  <thead>\n",
       "    <tr style=\"text-align: right;\">\n",
       "      <th></th>\n",
       "      <th>Unnamed: 0</th>\n",
       "      <th>Year</th>\n",
       "      <th>Event_type</th>\n",
       "      <th>Event_Category</th>\n",
       "      <th>Disaster Subtype</th>\n",
       "      <th>Country</th>\n",
       "      <th>Country_Code</th>\n",
       "      <th>Region</th>\n",
       "      <th>Continent</th>\n",
       "      <th>Total_deaths</th>\n",
       "      <th>No_Affected</th>\n",
       "      <th>Number_of_Events</th>\n",
       "    </tr>\n",
       "  </thead>\n",
       "  <tbody>\n",
       "    <tr>\n",
       "      <th>0</th>\n",
       "      <td>353</td>\n",
       "      <td>1965</td>\n",
       "      <td>Geophysical</td>\n",
       "      <td>Earthquake</td>\n",
       "      <td>Ground movement</td>\n",
       "      <td>Indonesia</td>\n",
       "      <td>IDN</td>\n",
       "      <td>South-Eastern Asia</td>\n",
       "      <td>Asia</td>\n",
       "      <td>71.0</td>\n",
       "      <td>15000.0</td>\n",
       "      <td>1</td>\n",
       "    </tr>\n",
       "    <tr>\n",
       "      <th>1</th>\n",
       "      <td>354</td>\n",
       "      <td>1965</td>\n",
       "      <td>Hydrological</td>\n",
       "      <td>Landslide</td>\n",
       "      <td>Landslide</td>\n",
       "      <td>Argentina</td>\n",
       "      <td>ARG</td>\n",
       "      <td>South America</td>\n",
       "      <td>Americas</td>\n",
       "      <td>45.0</td>\n",
       "      <td>NaN</td>\n",
       "      <td>1</td>\n",
       "    </tr>\n",
       "    <tr>\n",
       "      <th>2</th>\n",
       "      <td>355</td>\n",
       "      <td>1965</td>\n",
       "      <td>Meteorological</td>\n",
       "      <td>Storm</td>\n",
       "      <td>Tropical cyclone</td>\n",
       "      <td>Bangladesh</td>\n",
       "      <td>BGD</td>\n",
       "      <td>Southern Asia</td>\n",
       "      <td>Asia</td>\n",
       "      <td>36000.0</td>\n",
       "      <td>10000000.0</td>\n",
       "      <td>3</td>\n",
       "    </tr>\n",
       "    <tr>\n",
       "      <th>3</th>\n",
       "      <td>356</td>\n",
       "      <td>1965</td>\n",
       "      <td>Meteorological</td>\n",
       "      <td>Storm</td>\n",
       "      <td>Tropical cyclone</td>\n",
       "      <td>Bangladesh</td>\n",
       "      <td>BGD</td>\n",
       "      <td>Southern Asia</td>\n",
       "      <td>Asia</td>\n",
       "      <td>12047.0</td>\n",
       "      <td>NaN</td>\n",
       "      <td>3</td>\n",
       "    </tr>\n",
       "    <tr>\n",
       "      <th>4</th>\n",
       "      <td>357</td>\n",
       "      <td>1965</td>\n",
       "      <td>Meteorological</td>\n",
       "      <td>Storm</td>\n",
       "      <td>Tropical cyclone</td>\n",
       "      <td>Bangladesh</td>\n",
       "      <td>BGD</td>\n",
       "      <td>Southern Asia</td>\n",
       "      <td>Asia</td>\n",
       "      <td>874.0</td>\n",
       "      <td>60000.0</td>\n",
       "      <td>3</td>\n",
       "    </tr>\n",
       "  </tbody>\n",
       "</table>\n",
       "</div>"
      ],
      "text/plain": [
       "   Unnamed: 0  Year      Event_type Event_Category  Disaster Subtype  \\\n",
       "0         353  1965     Geophysical     Earthquake   Ground movement   \n",
       "1         354  1965    Hydrological      Landslide         Landslide   \n",
       "2         355  1965  Meteorological          Storm  Tropical cyclone   \n",
       "3         356  1965  Meteorological          Storm  Tropical cyclone   \n",
       "4         357  1965  Meteorological          Storm  Tropical cyclone   \n",
       "\n",
       "      Country Country_Code              Region Continent  Total_deaths  \\\n",
       "0   Indonesia          IDN  South-Eastern Asia      Asia          71.0   \n",
       "1   Argentina          ARG       South America  Americas          45.0   \n",
       "2  Bangladesh          BGD       Southern Asia      Asia       36000.0   \n",
       "3  Bangladesh          BGD       Southern Asia      Asia       12047.0   \n",
       "4  Bangladesh          BGD       Southern Asia      Asia         874.0   \n",
       "\n",
       "   No_Affected  Number_of_Events  \n",
       "0      15000.0                 1  \n",
       "1          NaN                 1  \n",
       "2   10000000.0                 3  \n",
       "3          NaN                 3  \n",
       "4      60000.0                 3  "
      ]
     },
     "execution_count": 12,
     "metadata": {},
     "output_type": "execute_result"
    }
   ],
   "source": [
    "nat_events.head()"
   ]
  },
  {
   "cell_type": "code",
   "execution_count": 13,
   "id": "2ec514f4",
   "metadata": {},
   "outputs": [
    {
     "data": {
      "text/html": [
       "<div>\n",
       "<style scoped>\n",
       "    .dataframe tbody tr th:only-of-type {\n",
       "        vertical-align: middle;\n",
       "    }\n",
       "\n",
       "    .dataframe tbody tr th {\n",
       "        vertical-align: top;\n",
       "    }\n",
       "\n",
       "    .dataframe thead th {\n",
       "        text-align: right;\n",
       "    }\n",
       "</style>\n",
       "<table border=\"1\" class=\"dataframe\">\n",
       "  <thead>\n",
       "    <tr style=\"text-align: right;\">\n",
       "      <th></th>\n",
       "      <th>Unnamed: 0</th>\n",
       "      <th>Year</th>\n",
       "      <th>Total_deaths</th>\n",
       "      <th>No_Affected</th>\n",
       "      <th>Number_of_Events</th>\n",
       "    </tr>\n",
       "  </thead>\n",
       "  <tbody>\n",
       "    <tr>\n",
       "      <th>count</th>\n",
       "      <td>14724.000000</td>\n",
       "      <td>14724.000000</td>\n",
       "      <td>1.042300e+04</td>\n",
       "      <td>9.061000e+03</td>\n",
       "      <td>14724.000000</td>\n",
       "    </tr>\n",
       "    <tr>\n",
       "      <th>mean</th>\n",
       "      <td>8477.911098</td>\n",
       "      <td>2000.788509</td>\n",
       "      <td>5.100138e+02</td>\n",
       "      <td>8.867238e+05</td>\n",
       "      <td>7.254007</td>\n",
       "    </tr>\n",
       "    <tr>\n",
       "      <th>std</th>\n",
       "      <td>4393.425172</td>\n",
       "      <td>13.567642</td>\n",
       "      <td>1.603767e+04</td>\n",
       "      <td>8.642699e+06</td>\n",
       "      <td>7.917835</td>\n",
       "    </tr>\n",
       "    <tr>\n",
       "      <th>min</th>\n",
       "      <td>353.000000</td>\n",
       "      <td>1965.000000</td>\n",
       "      <td>1.000000e+00</td>\n",
       "      <td>1.000000e+00</td>\n",
       "      <td>1.000000</td>\n",
       "    </tr>\n",
       "    <tr>\n",
       "      <th>25%</th>\n",
       "      <td>4719.750000</td>\n",
       "      <td>1992.000000</td>\n",
       "      <td>5.000000e+00</td>\n",
       "      <td>1.200000e+03</td>\n",
       "      <td>2.000000</td>\n",
       "    </tr>\n",
       "    <tr>\n",
       "      <th>50%</th>\n",
       "      <td>8526.500000</td>\n",
       "      <td>2003.000000</td>\n",
       "      <td>1.700000e+01</td>\n",
       "      <td>1.000000e+04</td>\n",
       "      <td>4.000000</td>\n",
       "    </tr>\n",
       "    <tr>\n",
       "      <th>75%</th>\n",
       "      <td>12242.250000</td>\n",
       "      <td>2011.000000</td>\n",
       "      <td>5.200000e+01</td>\n",
       "      <td>9.000000e+04</td>\n",
       "      <td>9.000000</td>\n",
       "    </tr>\n",
       "    <tr>\n",
       "      <th>max</th>\n",
       "      <td>16125.000000</td>\n",
       "      <td>2021.000000</td>\n",
       "      <td>1.500000e+06</td>\n",
       "      <td>3.300000e+08</td>\n",
       "      <td>43.000000</td>\n",
       "    </tr>\n",
       "  </tbody>\n",
       "</table>\n",
       "</div>"
      ],
      "text/plain": [
       "         Unnamed: 0          Year  Total_deaths   No_Affected  \\\n",
       "count  14724.000000  14724.000000  1.042300e+04  9.061000e+03   \n",
       "mean    8477.911098   2000.788509  5.100138e+02  8.867238e+05   \n",
       "std     4393.425172     13.567642  1.603767e+04  8.642699e+06   \n",
       "min      353.000000   1965.000000  1.000000e+00  1.000000e+00   \n",
       "25%     4719.750000   1992.000000  5.000000e+00  1.200000e+03   \n",
       "50%     8526.500000   2003.000000  1.700000e+01  1.000000e+04   \n",
       "75%    12242.250000   2011.000000  5.200000e+01  9.000000e+04   \n",
       "max    16125.000000   2021.000000  1.500000e+06  3.300000e+08   \n",
       "\n",
       "       Number_of_Events  \n",
       "count      14724.000000  \n",
       "mean           7.254007  \n",
       "std            7.917835  \n",
       "min            1.000000  \n",
       "25%            2.000000  \n",
       "50%            4.000000  \n",
       "75%            9.000000  \n",
       "max           43.000000  "
      ]
     },
     "execution_count": 13,
     "metadata": {},
     "output_type": "execute_result"
    }
   ],
   "source": [
    "nat_events.describe()"
   ]
  },
  {
   "cell_type": "code",
   "execution_count": 14,
   "id": "ab83f73a",
   "metadata": {},
   "outputs": [
    {
     "data": {
      "text/plain": [
       "Index(['Unnamed: 0', 'Year', 'Event_type', 'Event_Category',\n",
       "       'Disaster Subtype', 'Country', 'Country_Code', 'Region', 'Continent',\n",
       "       'Total_deaths', 'No_Affected', 'Number_of_Events'],\n",
       "      dtype='object')"
      ]
     },
     "execution_count": 14,
     "metadata": {},
     "output_type": "execute_result"
    }
   ],
   "source": [
    "nat_events.columns"
   ]
  },
  {
   "cell_type": "code",
   "execution_count": 15,
   "id": "efbf38b6",
   "metadata": {},
   "outputs": [
    {
     "data": {
      "text/plain": [
       "Unnamed: 0             0\n",
       "Year                   0\n",
       "Event_type             0\n",
       "Event_Category         0\n",
       "Disaster Subtype    2780\n",
       "Country                0\n",
       "Country_Code           0\n",
       "Region                 0\n",
       "Continent              0\n",
       "Total_deaths        4301\n",
       "No_Affected         5663\n",
       "Number_of_Events       0\n",
       "dtype: int64"
      ]
     },
     "execution_count": 15,
     "metadata": {},
     "output_type": "execute_result"
    }
   ],
   "source": [
    "nat_events.isnull().sum()"
   ]
  },
  {
   "cell_type": "code",
   "execution_count": 16,
   "id": "a6874791",
   "metadata": {},
   "outputs": [],
   "source": [
    "# Remove unnecessary or irrelevant columns\n",
    "nat_events=nat_events.drop(columns = ['Unnamed: 0','Disaster Subtype', 'Total_deaths', 'No_Affected'])"
   ]
  },
  {
   "cell_type": "code",
   "execution_count": 17,
   "id": "44252ba6",
   "metadata": {},
   "outputs": [
    {
     "data": {
      "text/html": [
       "<div>\n",
       "<style scoped>\n",
       "    .dataframe tbody tr th:only-of-type {\n",
       "        vertical-align: middle;\n",
       "    }\n",
       "\n",
       "    .dataframe tbody tr th {\n",
       "        vertical-align: top;\n",
       "    }\n",
       "\n",
       "    .dataframe thead th {\n",
       "        text-align: right;\n",
       "    }\n",
       "</style>\n",
       "<table border=\"1\" class=\"dataframe\">\n",
       "  <thead>\n",
       "    <tr style=\"text-align: right;\">\n",
       "      <th></th>\n",
       "      <th>Year</th>\n",
       "      <th>Event_type</th>\n",
       "      <th>Event_Category</th>\n",
       "      <th>Country</th>\n",
       "      <th>Country_Code</th>\n",
       "      <th>Region</th>\n",
       "      <th>Continent</th>\n",
       "      <th>Number_of_Events</th>\n",
       "    </tr>\n",
       "  </thead>\n",
       "  <tbody>\n",
       "    <tr>\n",
       "      <th>0</th>\n",
       "      <td>1965</td>\n",
       "      <td>Geophysical</td>\n",
       "      <td>Earthquake</td>\n",
       "      <td>Indonesia</td>\n",
       "      <td>IDN</td>\n",
       "      <td>South-Eastern Asia</td>\n",
       "      <td>Asia</td>\n",
       "      <td>1</td>\n",
       "    </tr>\n",
       "    <tr>\n",
       "      <th>1</th>\n",
       "      <td>1965</td>\n",
       "      <td>Hydrological</td>\n",
       "      <td>Landslide</td>\n",
       "      <td>Argentina</td>\n",
       "      <td>ARG</td>\n",
       "      <td>South America</td>\n",
       "      <td>Americas</td>\n",
       "      <td>1</td>\n",
       "    </tr>\n",
       "    <tr>\n",
       "      <th>2</th>\n",
       "      <td>1965</td>\n",
       "      <td>Meteorological</td>\n",
       "      <td>Storm</td>\n",
       "      <td>Bangladesh</td>\n",
       "      <td>BGD</td>\n",
       "      <td>Southern Asia</td>\n",
       "      <td>Asia</td>\n",
       "      <td>3</td>\n",
       "    </tr>\n",
       "    <tr>\n",
       "      <th>3</th>\n",
       "      <td>1965</td>\n",
       "      <td>Meteorological</td>\n",
       "      <td>Storm</td>\n",
       "      <td>Bangladesh</td>\n",
       "      <td>BGD</td>\n",
       "      <td>Southern Asia</td>\n",
       "      <td>Asia</td>\n",
       "      <td>3</td>\n",
       "    </tr>\n",
       "    <tr>\n",
       "      <th>4</th>\n",
       "      <td>1965</td>\n",
       "      <td>Meteorological</td>\n",
       "      <td>Storm</td>\n",
       "      <td>Bangladesh</td>\n",
       "      <td>BGD</td>\n",
       "      <td>Southern Asia</td>\n",
       "      <td>Asia</td>\n",
       "      <td>3</td>\n",
       "    </tr>\n",
       "  </tbody>\n",
       "</table>\n",
       "</div>"
      ],
      "text/plain": [
       "   Year      Event_type Event_Category     Country Country_Code  \\\n",
       "0  1965     Geophysical     Earthquake   Indonesia          IDN   \n",
       "1  1965    Hydrological      Landslide   Argentina          ARG   \n",
       "2  1965  Meteorological          Storm  Bangladesh          BGD   \n",
       "3  1965  Meteorological          Storm  Bangladesh          BGD   \n",
       "4  1965  Meteorological          Storm  Bangladesh          BGD   \n",
       "\n",
       "               Region Continent  Number_of_Events  \n",
       "0  South-Eastern Asia      Asia                 1  \n",
       "1       South America  Americas                 1  \n",
       "2       Southern Asia      Asia                 3  \n",
       "3       Southern Asia      Asia                 3  \n",
       "4       Southern Asia      Asia                 3  "
      ]
     },
     "execution_count": 17,
     "metadata": {},
     "output_type": "execute_result"
    }
   ],
   "source": [
    "# Verify the updated DataFrame\n",
    "nat_events.head()"
   ]
  },
  {
   "cell_type": "code",
   "execution_count": 18,
   "id": "dde0056e",
   "metadata": {},
   "outputs": [
    {
     "data": {
      "text/html": [
       "<div>\n",
       "<style scoped>\n",
       "    .dataframe tbody tr th:only-of-type {\n",
       "        vertical-align: middle;\n",
       "    }\n",
       "\n",
       "    .dataframe tbody tr th {\n",
       "        vertical-align: top;\n",
       "    }\n",
       "\n",
       "    .dataframe thead th {\n",
       "        text-align: right;\n",
       "    }\n",
       "</style>\n",
       "<table border=\"1\" class=\"dataframe\">\n",
       "  <thead>\n",
       "    <tr style=\"text-align: right;\">\n",
       "      <th></th>\n",
       "      <th>Unnamed: 0</th>\n",
       "      <th>Country</th>\n",
       "      <th>Months</th>\n",
       "      <th>Year</th>\n",
       "      <th>Temperature_Change</th>\n",
       "      <th>Country_Code</th>\n",
       "      <th>Month</th>\n",
       "    </tr>\n",
       "  </thead>\n",
       "  <tbody>\n",
       "    <tr>\n",
       "      <th>0</th>\n",
       "      <td>4</td>\n",
       "      <td>Afghanistan</td>\n",
       "      <td>January</td>\n",
       "      <td>1965</td>\n",
       "      <td>1.834</td>\n",
       "      <td>AFG</td>\n",
       "      <td>1.0</td>\n",
       "    </tr>\n",
       "    <tr>\n",
       "      <th>1</th>\n",
       "      <td>5</td>\n",
       "      <td>Afghanistan</td>\n",
       "      <td>January</td>\n",
       "      <td>1966</td>\n",
       "      <td>3.780</td>\n",
       "      <td>AFG</td>\n",
       "      <td>1.0</td>\n",
       "    </tr>\n",
       "    <tr>\n",
       "      <th>2</th>\n",
       "      <td>6</td>\n",
       "      <td>Afghanistan</td>\n",
       "      <td>January</td>\n",
       "      <td>1967</td>\n",
       "      <td>-1.398</td>\n",
       "      <td>AFG</td>\n",
       "      <td>1.0</td>\n",
       "    </tr>\n",
       "    <tr>\n",
       "      <th>3</th>\n",
       "      <td>7</td>\n",
       "      <td>Afghanistan</td>\n",
       "      <td>January</td>\n",
       "      <td>1968</td>\n",
       "      <td>0.349</td>\n",
       "      <td>AFG</td>\n",
       "      <td>1.0</td>\n",
       "    </tr>\n",
       "    <tr>\n",
       "      <th>4</th>\n",
       "      <td>8</td>\n",
       "      <td>Afghanistan</td>\n",
       "      <td>January</td>\n",
       "      <td>1969</td>\n",
       "      <td>-2.325</td>\n",
       "      <td>AFG</td>\n",
       "      <td>1.0</td>\n",
       "    </tr>\n",
       "  </tbody>\n",
       "</table>\n",
       "</div>"
      ],
      "text/plain": [
       "   Unnamed: 0      Country   Months  Year  Temperature_Change Country_Code  \\\n",
       "0           4  Afghanistan  January  1965               1.834          AFG   \n",
       "1           5  Afghanistan  January  1966               3.780          AFG   \n",
       "2           6  Afghanistan  January  1967              -1.398          AFG   \n",
       "3           7  Afghanistan  January  1968               0.349          AFG   \n",
       "4           8  Afghanistan  January  1969              -2.325          AFG   \n",
       "\n",
       "   Month  \n",
       "0    1.0  \n",
       "1    1.0  \n",
       "2    1.0  \n",
       "3    1.0  \n",
       "4    1.0  "
      ]
     },
     "execution_count": 18,
     "metadata": {},
     "output_type": "execute_result"
    }
   ],
   "source": [
    "temp_change.head()"
   ]
  },
  {
   "cell_type": "markdown",
   "id": "c058f22e",
   "metadata": {},
   "source": [
    "Since the analysis aims to understand the effects of temperature changes, using the mean of absolute values is more useful than the mean of the original values. This approach gives equal weight to positive and negative deviations from the norm"
   ]
  },
  {
   "cell_type": "code",
   "execution_count": 19,
   "id": "ee8eab59",
   "metadata": {},
   "outputs": [],
   "source": [
    "# Group the data by 'Year' and 'Country_Code', calculate the mean of the absolute values\n",
    "temp_change= temp_change.groupby(['Year', 'Country_Code']).agg({'Temperature_Change': 'mean'}).reset_index()"
   ]
  },
  {
   "cell_type": "code",
   "execution_count": 20,
   "id": "17052b65",
   "metadata": {},
   "outputs": [
    {
     "data": {
      "text/html": [
       "<div>\n",
       "<style scoped>\n",
       "    .dataframe tbody tr th:only-of-type {\n",
       "        vertical-align: middle;\n",
       "    }\n",
       "\n",
       "    .dataframe tbody tr th {\n",
       "        vertical-align: top;\n",
       "    }\n",
       "\n",
       "    .dataframe thead th {\n",
       "        text-align: right;\n",
       "    }\n",
       "</style>\n",
       "<table border=\"1\" class=\"dataframe\">\n",
       "  <thead>\n",
       "    <tr style=\"text-align: right;\">\n",
       "      <th></th>\n",
       "      <th>Year</th>\n",
       "      <th>Country_Code</th>\n",
       "      <th>Temperature_Change</th>\n",
       "    </tr>\n",
       "  </thead>\n",
       "  <tbody>\n",
       "    <tr>\n",
       "      <th>0</th>\n",
       "      <td>1965</td>\n",
       "      <td>ABW</td>\n",
       "      <td>-0.108182</td>\n",
       "    </tr>\n",
       "    <tr>\n",
       "      <th>1</th>\n",
       "      <td>1965</td>\n",
       "      <td>AFG</td>\n",
       "      <td>-0.011667</td>\n",
       "    </tr>\n",
       "    <tr>\n",
       "      <th>2</th>\n",
       "      <td>1965</td>\n",
       "      <td>AGO</td>\n",
       "      <td>-0.156083</td>\n",
       "    </tr>\n",
       "    <tr>\n",
       "      <th>3</th>\n",
       "      <td>1965</td>\n",
       "      <td>AIA</td>\n",
       "      <td>-0.270250</td>\n",
       "    </tr>\n",
       "    <tr>\n",
       "      <th>4</th>\n",
       "      <td>1965</td>\n",
       "      <td>ALB</td>\n",
       "      <td>-0.344000</td>\n",
       "    </tr>\n",
       "  </tbody>\n",
       "</table>\n",
       "</div>"
      ],
      "text/plain": [
       "   Year Country_Code  Temperature_Change\n",
       "0  1965          ABW           -0.108182\n",
       "1  1965          AFG           -0.011667\n",
       "2  1965          AGO           -0.156083\n",
       "3  1965          AIA           -0.270250\n",
       "4  1965          ALB           -0.344000"
      ]
     },
     "execution_count": 20,
     "metadata": {},
     "output_type": "execute_result"
    }
   ],
   "source": [
    "temp_change.head()"
   ]
  },
  {
   "cell_type": "code",
   "execution_count": 21,
   "id": "cd5fad7a",
   "metadata": {},
   "outputs": [],
   "source": [
    "# Merge nat_events and temp_change \n",
    "events_temp_merged= pd.merge(nat_events, temp_change, on=['Year', 'Country_Code'], how='outer')"
   ]
  },
  {
   "cell_type": "code",
   "execution_count": 22,
   "id": "654114f6",
   "metadata": {},
   "outputs": [
    {
     "data": {
      "text/plain": [
       "(22224, 9)"
      ]
     },
     "execution_count": 22,
     "metadata": {},
     "output_type": "execute_result"
    }
   ],
   "source": [
    "events_temp_merged.shape"
   ]
  },
  {
   "cell_type": "code",
   "execution_count": 23,
   "id": "9735e00f",
   "metadata": {},
   "outputs": [
    {
     "data": {
      "text/plain": [
       "Index(['Year', 'Event_type', 'Event_Category', 'Country', 'Country_Code',\n",
       "       'Region', 'Continent', 'Number_of_Events', 'Temperature_Change'],\n",
       "      dtype='object')"
      ]
     },
     "execution_count": 23,
     "metadata": {},
     "output_type": "execute_result"
    }
   ],
   "source": [
    "events_temp_merged.columns"
   ]
  },
  {
   "cell_type": "code",
   "execution_count": 24,
   "id": "c47d7e5d",
   "metadata": {},
   "outputs": [
    {
     "data": {
      "text/html": [
       "<div>\n",
       "<style scoped>\n",
       "    .dataframe tbody tr th:only-of-type {\n",
       "        vertical-align: middle;\n",
       "    }\n",
       "\n",
       "    .dataframe tbody tr th {\n",
       "        vertical-align: top;\n",
       "    }\n",
       "\n",
       "    .dataframe thead th {\n",
       "        text-align: right;\n",
       "    }\n",
       "</style>\n",
       "<table border=\"1\" class=\"dataframe\">\n",
       "  <thead>\n",
       "    <tr style=\"text-align: right;\">\n",
       "      <th></th>\n",
       "      <th>Year</th>\n",
       "      <th>Event_type</th>\n",
       "      <th>Event_Category</th>\n",
       "      <th>Country</th>\n",
       "      <th>Country_Code</th>\n",
       "      <th>Region</th>\n",
       "      <th>Continent</th>\n",
       "      <th>Number_of_Events</th>\n",
       "      <th>Temperature_Change</th>\n",
       "    </tr>\n",
       "  </thead>\n",
       "  <tbody>\n",
       "    <tr>\n",
       "      <th>0</th>\n",
       "      <td>1965</td>\n",
       "      <td>Geophysical</td>\n",
       "      <td>Earthquake</td>\n",
       "      <td>Indonesia</td>\n",
       "      <td>IDN</td>\n",
       "      <td>South-Eastern Asia</td>\n",
       "      <td>Asia</td>\n",
       "      <td>1.0</td>\n",
       "      <td>-0.190500</td>\n",
       "    </tr>\n",
       "    <tr>\n",
       "      <th>1</th>\n",
       "      <td>1965</td>\n",
       "      <td>Hydrological</td>\n",
       "      <td>Landslide</td>\n",
       "      <td>Argentina</td>\n",
       "      <td>ARG</td>\n",
       "      <td>South America</td>\n",
       "      <td>Americas</td>\n",
       "      <td>1.0</td>\n",
       "      <td>0.045583</td>\n",
       "    </tr>\n",
       "    <tr>\n",
       "      <th>2</th>\n",
       "      <td>1965</td>\n",
       "      <td>Meteorological</td>\n",
       "      <td>Storm</td>\n",
       "      <td>Bangladesh</td>\n",
       "      <td>BGD</td>\n",
       "      <td>Southern Asia</td>\n",
       "      <td>Asia</td>\n",
       "      <td>3.0</td>\n",
       "      <td>-0.199833</td>\n",
       "    </tr>\n",
       "    <tr>\n",
       "      <th>3</th>\n",
       "      <td>1965</td>\n",
       "      <td>Meteorological</td>\n",
       "      <td>Storm</td>\n",
       "      <td>Bangladesh</td>\n",
       "      <td>BGD</td>\n",
       "      <td>Southern Asia</td>\n",
       "      <td>Asia</td>\n",
       "      <td>3.0</td>\n",
       "      <td>-0.199833</td>\n",
       "    </tr>\n",
       "    <tr>\n",
       "      <th>4</th>\n",
       "      <td>1965</td>\n",
       "      <td>Meteorological</td>\n",
       "      <td>Storm</td>\n",
       "      <td>Bangladesh</td>\n",
       "      <td>BGD</td>\n",
       "      <td>Southern Asia</td>\n",
       "      <td>Asia</td>\n",
       "      <td>3.0</td>\n",
       "      <td>-0.199833</td>\n",
       "    </tr>\n",
       "  </tbody>\n",
       "</table>\n",
       "</div>"
      ],
      "text/plain": [
       "   Year      Event_type Event_Category     Country Country_Code  \\\n",
       "0  1965     Geophysical     Earthquake   Indonesia          IDN   \n",
       "1  1965    Hydrological      Landslide   Argentina          ARG   \n",
       "2  1965  Meteorological          Storm  Bangladesh          BGD   \n",
       "3  1965  Meteorological          Storm  Bangladesh          BGD   \n",
       "4  1965  Meteorological          Storm  Bangladesh          BGD   \n",
       "\n",
       "               Region Continent  Number_of_Events  Temperature_Change  \n",
       "0  South-Eastern Asia      Asia               1.0           -0.190500  \n",
       "1       South America  Americas               1.0            0.045583  \n",
       "2       Southern Asia      Asia               3.0           -0.199833  \n",
       "3       Southern Asia      Asia               3.0           -0.199833  \n",
       "4       Southern Asia      Asia               3.0           -0.199833  "
      ]
     },
     "execution_count": 24,
     "metadata": {},
     "output_type": "execute_result"
    }
   ],
   "source": [
    "#Reviewing the updated merged dataset\n",
    "events_temp_merged.head()"
   ]
  },
  {
   "cell_type": "code",
   "execution_count": 25,
   "id": "a7b31d6a",
   "metadata": {},
   "outputs": [
    {
     "data": {
      "text/plain": [
       "Year                     0\n",
       "Event_type            7500\n",
       "Event_Category        7500\n",
       "Country               7500\n",
       "Country_Code             0\n",
       "Region                7500\n",
       "Continent             7500\n",
       "Number_of_Events      7500\n",
       "Temperature_Change     693\n",
       "dtype: int64"
      ]
     },
     "execution_count": 25,
     "metadata": {},
     "output_type": "execute_result"
    }
   ],
   "source": [
    "# Find missing values in events_temp_merged\n",
    "events_temp_merged.isnull().sum()"
   ]
  },
  {
   "cell_type": "markdown",
   "id": "ba0a2a8a",
   "metadata": {},
   "source": [
    "All missing values will be adressed at the end."
   ]
  },
  {
   "cell_type": "code",
   "execution_count": 26,
   "id": "3e96055e",
   "metadata": {},
   "outputs": [],
   "source": [
    "#Export merged data set\n",
    "events_temp_merged.to_csv(os.path.join(path,'02 Data','Merged Data', 'events_temp_merged.csv'))"
   ]
  },
  {
   "cell_type": "code",
   "execution_count": 43,
   "id": "dfd29760",
   "metadata": {},
   "outputs": [
    {
     "data": {
      "text/html": [
       "<div>\n",
       "<style scoped>\n",
       "    .dataframe tbody tr th:only-of-type {\n",
       "        vertical-align: middle;\n",
       "    }\n",
       "\n",
       "    .dataframe tbody tr th {\n",
       "        vertical-align: top;\n",
       "    }\n",
       "\n",
       "    .dataframe thead th {\n",
       "        text-align: right;\n",
       "    }\n",
       "</style>\n",
       "<table border=\"1\" class=\"dataframe\">\n",
       "  <thead>\n",
       "    <tr style=\"text-align: right;\">\n",
       "      <th></th>\n",
       "      <th>Unnamed: 0</th>\n",
       "      <th>Country_Code</th>\n",
       "      <th>Country</th>\n",
       "      <th>Year</th>\n",
       "      <th>Net_Migration</th>\n",
       "    </tr>\n",
       "  </thead>\n",
       "  <tbody>\n",
       "    <tr>\n",
       "      <th>0</th>\n",
       "      <td>5</td>\n",
       "      <td>ABW</td>\n",
       "      <td>Aruba</td>\n",
       "      <td>1965</td>\n",
       "      <td>-726.0</td>\n",
       "    </tr>\n",
       "    <tr>\n",
       "      <th>1</th>\n",
       "      <td>6</td>\n",
       "      <td>ABW</td>\n",
       "      <td>Aruba</td>\n",
       "      <td>1966</td>\n",
       "      <td>-761.0</td>\n",
       "    </tr>\n",
       "    <tr>\n",
       "      <th>2</th>\n",
       "      <td>7</td>\n",
       "      <td>ABW</td>\n",
       "      <td>Aruba</td>\n",
       "      <td>1967</td>\n",
       "      <td>-1175.0</td>\n",
       "    </tr>\n",
       "    <tr>\n",
       "      <th>3</th>\n",
       "      <td>8</td>\n",
       "      <td>ABW</td>\n",
       "      <td>Aruba</td>\n",
       "      <td>1968</td>\n",
       "      <td>-1219.0</td>\n",
       "    </tr>\n",
       "    <tr>\n",
       "      <th>4</th>\n",
       "      <td>9</td>\n",
       "      <td>ABW</td>\n",
       "      <td>Aruba</td>\n",
       "      <td>1969</td>\n",
       "      <td>-1256.0</td>\n",
       "    </tr>\n",
       "  </tbody>\n",
       "</table>\n",
       "</div>"
      ],
      "text/plain": [
       "   Unnamed: 0 Country_Code Country  Year  Net_Migration\n",
       "0           5          ABW   Aruba  1965         -726.0\n",
       "1           6          ABW   Aruba  1966         -761.0\n",
       "2           7          ABW   Aruba  1967        -1175.0\n",
       "3           8          ABW   Aruba  1968        -1219.0\n",
       "4           9          ABW   Aruba  1969        -1256.0"
      ]
     },
     "execution_count": 43,
     "metadata": {},
     "output_type": "execute_result"
    }
   ],
   "source": [
    "net_migration.head()"
   ]
  },
  {
   "cell_type": "code",
   "execution_count": 44,
   "id": "e2518e76",
   "metadata": {},
   "outputs": [
    {
     "data": {
      "text/html": [
       "<div>\n",
       "<style scoped>\n",
       "    .dataframe tbody tr th:only-of-type {\n",
       "        vertical-align: middle;\n",
       "    }\n",
       "\n",
       "    .dataframe tbody tr th {\n",
       "        vertical-align: top;\n",
       "    }\n",
       "\n",
       "    .dataframe thead th {\n",
       "        text-align: right;\n",
       "    }\n",
       "</style>\n",
       "<table border=\"1\" class=\"dataframe\">\n",
       "  <thead>\n",
       "    <tr style=\"text-align: right;\">\n",
       "      <th></th>\n",
       "      <th>Unnamed: 0</th>\n",
       "      <th>Country</th>\n",
       "      <th>Year</th>\n",
       "      <th>Population</th>\n",
       "      <th>Country_Code</th>\n",
       "    </tr>\n",
       "  </thead>\n",
       "  <tbody>\n",
       "    <tr>\n",
       "      <th>0</th>\n",
       "      <td>1255</td>\n",
       "      <td>Arab World</td>\n",
       "      <td>1965</td>\n",
       "      <td>1.057364e+08</td>\n",
       "      <td>ARB</td>\n",
       "    </tr>\n",
       "    <tr>\n",
       "      <th>1</th>\n",
       "      <td>1256</td>\n",
       "      <td>Caribbean small states</td>\n",
       "      <td>1965</td>\n",
       "      <td>4.580374e+06</td>\n",
       "      <td>CSS</td>\n",
       "    </tr>\n",
       "    <tr>\n",
       "      <th>2</th>\n",
       "      <td>1257</td>\n",
       "      <td>Central Europe and the Baltics</td>\n",
       "      <td>1965</td>\n",
       "      <td>9.544099e+07</td>\n",
       "      <td>CEB</td>\n",
       "    </tr>\n",
       "    <tr>\n",
       "      <th>3</th>\n",
       "      <td>1258</td>\n",
       "      <td>Early-demographic dividend</td>\n",
       "      <td>1965</td>\n",
       "      <td>1.103955e+09</td>\n",
       "      <td>EAR</td>\n",
       "    </tr>\n",
       "    <tr>\n",
       "      <th>4</th>\n",
       "      <td>1259</td>\n",
       "      <td>East Asia &amp; Pacific</td>\n",
       "      <td>1965</td>\n",
       "      <td>1.136691e+09</td>\n",
       "      <td>EAS</td>\n",
       "    </tr>\n",
       "  </tbody>\n",
       "</table>\n",
       "</div>"
      ],
      "text/plain": [
       "   Unnamed: 0                         Country  Year    Population Country_Code\n",
       "0        1255                      Arab World  1965  1.057364e+08          ARB\n",
       "1        1256          Caribbean small states  1965  4.580374e+06          CSS\n",
       "2        1257  Central Europe and the Baltics  1965  9.544099e+07          CEB\n",
       "3        1258      Early-demographic dividend  1965  1.103955e+09          EAR\n",
       "4        1259             East Asia & Pacific  1965  1.136691e+09          EAS"
      ]
     },
     "execution_count": 44,
     "metadata": {},
     "output_type": "execute_result"
    }
   ],
   "source": [
    "population.head()"
   ]
  },
  {
   "cell_type": "code",
   "execution_count": 45,
   "id": "bc1e5eaf",
   "metadata": {},
   "outputs": [
    {
     "data": {
      "text/plain": [
       "Unnamed: 0        0\n",
       "Country           0\n",
       "Year              0\n",
       "Population      147\n",
       "Country_Code      0\n",
       "dtype: int64"
      ]
     },
     "execution_count": 45,
     "metadata": {},
     "output_type": "execute_result"
    }
   ],
   "source": [
    "population.isnull().sum()"
   ]
  },
  {
   "cell_type": "code",
   "execution_count": 46,
   "id": "3623eaa7",
   "metadata": {},
   "outputs": [],
   "source": [
    "# Drop rows where 'Country_Code' is NaN\n",
    "population = population.dropna(subset=['Country_Code'])"
   ]
  },
  {
   "cell_type": "code",
   "execution_count": 47,
   "id": "93fae12b",
   "metadata": {},
   "outputs": [],
   "source": [
    "# Merge net_migration and population \n",
    "migration_population_merged= pd.merge(net_migration, population, on=['Year', 'Country_Code'],how='outer')"
   ]
  },
  {
   "cell_type": "code",
   "execution_count": 48,
   "id": "08da41e4",
   "metadata": {},
   "outputs": [
    {
     "data": {
      "text/plain": [
       "(15159, 8)"
      ]
     },
     "execution_count": 48,
     "metadata": {},
     "output_type": "execute_result"
    }
   ],
   "source": [
    "migration_population_merged.shape"
   ]
  },
  {
   "cell_type": "code",
   "execution_count": 49,
   "id": "d8d8cbc7",
   "metadata": {},
   "outputs": [
    {
     "data": {
      "text/html": [
       "<div>\n",
       "<style scoped>\n",
       "    .dataframe tbody tr th:only-of-type {\n",
       "        vertical-align: middle;\n",
       "    }\n",
       "\n",
       "    .dataframe tbody tr th {\n",
       "        vertical-align: top;\n",
       "    }\n",
       "\n",
       "    .dataframe thead th {\n",
       "        text-align: right;\n",
       "    }\n",
       "</style>\n",
       "<table border=\"1\" class=\"dataframe\">\n",
       "  <thead>\n",
       "    <tr style=\"text-align: right;\">\n",
       "      <th></th>\n",
       "      <th>Unnamed: 0_x</th>\n",
       "      <th>Country_Code</th>\n",
       "      <th>Country_x</th>\n",
       "      <th>Year</th>\n",
       "      <th>Net_Migration</th>\n",
       "      <th>Unnamed: 0_y</th>\n",
       "      <th>Country_y</th>\n",
       "      <th>Population</th>\n",
       "    </tr>\n",
       "  </thead>\n",
       "  <tbody>\n",
       "    <tr>\n",
       "      <th>0</th>\n",
       "      <td>5.0</td>\n",
       "      <td>ABW</td>\n",
       "      <td>Aruba</td>\n",
       "      <td>1965</td>\n",
       "      <td>-726.0</td>\n",
       "      <td>1311.0</td>\n",
       "      <td>Aruba</td>\n",
       "      <td>57360.0</td>\n",
       "    </tr>\n",
       "    <tr>\n",
       "      <th>1</th>\n",
       "      <td>6.0</td>\n",
       "      <td>ABW</td>\n",
       "      <td>Aruba</td>\n",
       "      <td>1966</td>\n",
       "      <td>-761.0</td>\n",
       "      <td>1562.0</td>\n",
       "      <td>Aruba</td>\n",
       "      <td>57715.0</td>\n",
       "    </tr>\n",
       "    <tr>\n",
       "      <th>2</th>\n",
       "      <td>7.0</td>\n",
       "      <td>ABW</td>\n",
       "      <td>Aruba</td>\n",
       "      <td>1967</td>\n",
       "      <td>-1175.0</td>\n",
       "      <td>1813.0</td>\n",
       "      <td>Aruba</td>\n",
       "      <td>58055.0</td>\n",
       "    </tr>\n",
       "    <tr>\n",
       "      <th>3</th>\n",
       "      <td>8.0</td>\n",
       "      <td>ABW</td>\n",
       "      <td>Aruba</td>\n",
       "      <td>1968</td>\n",
       "      <td>-1219.0</td>\n",
       "      <td>2064.0</td>\n",
       "      <td>Aruba</td>\n",
       "      <td>58386.0</td>\n",
       "    </tr>\n",
       "    <tr>\n",
       "      <th>4</th>\n",
       "      <td>9.0</td>\n",
       "      <td>ABW</td>\n",
       "      <td>Aruba</td>\n",
       "      <td>1969</td>\n",
       "      <td>-1256.0</td>\n",
       "      <td>2315.0</td>\n",
       "      <td>Aruba</td>\n",
       "      <td>58726.0</td>\n",
       "    </tr>\n",
       "  </tbody>\n",
       "</table>\n",
       "</div>"
      ],
      "text/plain": [
       "   Unnamed: 0_x Country_Code Country_x  Year  Net_Migration  Unnamed: 0_y  \\\n",
       "0           5.0          ABW     Aruba  1965         -726.0        1311.0   \n",
       "1           6.0          ABW     Aruba  1966         -761.0        1562.0   \n",
       "2           7.0          ABW     Aruba  1967        -1175.0        1813.0   \n",
       "3           8.0          ABW     Aruba  1968        -1219.0        2064.0   \n",
       "4           9.0          ABW     Aruba  1969        -1256.0        2315.0   \n",
       "\n",
       "  Country_y  Population  \n",
       "0     Aruba     57360.0  \n",
       "1     Aruba     57715.0  \n",
       "2     Aruba     58055.0  \n",
       "3     Aruba     58386.0  \n",
       "4     Aruba     58726.0  "
      ]
     },
     "execution_count": 49,
     "metadata": {},
     "output_type": "execute_result"
    }
   ],
   "source": [
    "migration_population_merged.head()"
   ]
  },
  {
   "cell_type": "code",
   "execution_count": 50,
   "id": "50cb9a94",
   "metadata": {},
   "outputs": [
    {
     "data": {
      "text/plain": [
       "Unnamed: 0_x       54\n",
       "Country_Code        0\n",
       "Country_x          54\n",
       "Year                0\n",
       "Net_Migration      54\n",
       "Unnamed: 0_y     1011\n",
       "Country_y        1011\n",
       "Population       1158\n",
       "dtype: int64"
      ]
     },
     "execution_count": 50,
     "metadata": {},
     "output_type": "execute_result"
    }
   ],
   "source": [
    "migration_population_merged.isnull().sum()"
   ]
  },
  {
   "cell_type": "code",
   "execution_count": 51,
   "id": "c23a3643",
   "metadata": {},
   "outputs": [],
   "source": [
    "# Remove unnecessary or irrelevant columns\n",
    "migration_population_merged=migration_population_merged.drop(columns = ['Unnamed: 0_x','Unnamed: 0_y','Country_y' ])"
   ]
  },
  {
   "cell_type": "code",
   "execution_count": 52,
   "id": "c9721025",
   "metadata": {},
   "outputs": [],
   "source": [
    "# Format column names\n",
    "migration_population_merged.rename(columns={'Country_x' : 'Country'}, inplace = True)"
   ]
  },
  {
   "cell_type": "code",
   "execution_count": 53,
   "id": "c142e723",
   "metadata": {},
   "outputs": [
    {
     "data": {
      "text/html": [
       "<div>\n",
       "<style scoped>\n",
       "    .dataframe tbody tr th:only-of-type {\n",
       "        vertical-align: middle;\n",
       "    }\n",
       "\n",
       "    .dataframe tbody tr th {\n",
       "        vertical-align: top;\n",
       "    }\n",
       "\n",
       "    .dataframe thead th {\n",
       "        text-align: right;\n",
       "    }\n",
       "</style>\n",
       "<table border=\"1\" class=\"dataframe\">\n",
       "  <thead>\n",
       "    <tr style=\"text-align: right;\">\n",
       "      <th></th>\n",
       "      <th>Country_Code</th>\n",
       "      <th>Country</th>\n",
       "      <th>Year</th>\n",
       "      <th>Net_Migration</th>\n",
       "      <th>Population</th>\n",
       "    </tr>\n",
       "  </thead>\n",
       "  <tbody>\n",
       "    <tr>\n",
       "      <th>0</th>\n",
       "      <td>ABW</td>\n",
       "      <td>Aruba</td>\n",
       "      <td>1965</td>\n",
       "      <td>-726.0</td>\n",
       "      <td>57360.0</td>\n",
       "    </tr>\n",
       "    <tr>\n",
       "      <th>1</th>\n",
       "      <td>ABW</td>\n",
       "      <td>Aruba</td>\n",
       "      <td>1966</td>\n",
       "      <td>-761.0</td>\n",
       "      <td>57715.0</td>\n",
       "    </tr>\n",
       "    <tr>\n",
       "      <th>2</th>\n",
       "      <td>ABW</td>\n",
       "      <td>Aruba</td>\n",
       "      <td>1967</td>\n",
       "      <td>-1175.0</td>\n",
       "      <td>58055.0</td>\n",
       "    </tr>\n",
       "    <tr>\n",
       "      <th>3</th>\n",
       "      <td>ABW</td>\n",
       "      <td>Aruba</td>\n",
       "      <td>1968</td>\n",
       "      <td>-1219.0</td>\n",
       "      <td>58386.0</td>\n",
       "    </tr>\n",
       "    <tr>\n",
       "      <th>4</th>\n",
       "      <td>ABW</td>\n",
       "      <td>Aruba</td>\n",
       "      <td>1969</td>\n",
       "      <td>-1256.0</td>\n",
       "      <td>58726.0</td>\n",
       "    </tr>\n",
       "  </tbody>\n",
       "</table>\n",
       "</div>"
      ],
      "text/plain": [
       "  Country_Code Country  Year  Net_Migration  Population\n",
       "0          ABW   Aruba  1965         -726.0     57360.0\n",
       "1          ABW   Aruba  1966         -761.0     57715.0\n",
       "2          ABW   Aruba  1967        -1175.0     58055.0\n",
       "3          ABW   Aruba  1968        -1219.0     58386.0\n",
       "4          ABW   Aruba  1969        -1256.0     58726.0"
      ]
     },
     "execution_count": 53,
     "metadata": {},
     "output_type": "execute_result"
    }
   ],
   "source": [
    "migration_population_merged.head()"
   ]
  },
  {
   "cell_type": "code",
   "execution_count": 55,
   "id": "c76cfa32",
   "metadata": {},
   "outputs": [],
   "source": [
    "#Export merge data set\n",
    "migration_population_merged.to_csv(os.path.join(path,'02 Data','Merged Data','migration_population_merged.csv'))"
   ]
  },
  {
   "cell_type": "code",
   "execution_count": 56,
   "id": "f9100be9",
   "metadata": {},
   "outputs": [
    {
     "data": {
      "text/html": [
       "<div>\n",
       "<style scoped>\n",
       "    .dataframe tbody tr th:only-of-type {\n",
       "        vertical-align: middle;\n",
       "    }\n",
       "\n",
       "    .dataframe tbody tr th {\n",
       "        vertical-align: top;\n",
       "    }\n",
       "\n",
       "    .dataframe thead th {\n",
       "        text-align: right;\n",
       "    }\n",
       "</style>\n",
       "<table border=\"1\" class=\"dataframe\">\n",
       "  <thead>\n",
       "    <tr style=\"text-align: right;\">\n",
       "      <th></th>\n",
       "      <th>Unnamed: 0</th>\n",
       "      <th>Country_Code</th>\n",
       "      <th>Country</th>\n",
       "      <th>Year</th>\n",
       "      <th>Carbon_Emissions</th>\n",
       "    </tr>\n",
       "  </thead>\n",
       "  <tbody>\n",
       "    <tr>\n",
       "      <th>0</th>\n",
       "      <td>5</td>\n",
       "      <td>ABW</td>\n",
       "      <td>Aruba</td>\n",
       "      <td>1965</td>\n",
       "      <td>10623.299</td>\n",
       "    </tr>\n",
       "    <tr>\n",
       "      <th>1</th>\n",
       "      <td>6</td>\n",
       "      <td>ABW</td>\n",
       "      <td>Aruba</td>\n",
       "      <td>1966</td>\n",
       "      <td>9933.903</td>\n",
       "    </tr>\n",
       "    <tr>\n",
       "      <th>2</th>\n",
       "      <td>7</td>\n",
       "      <td>ABW</td>\n",
       "      <td>Aruba</td>\n",
       "      <td>1967</td>\n",
       "      <td>12236.779</td>\n",
       "    </tr>\n",
       "    <tr>\n",
       "      <th>3</th>\n",
       "      <td>8</td>\n",
       "      <td>ABW</td>\n",
       "      <td>Aruba</td>\n",
       "      <td>1968</td>\n",
       "      <td>11378.701</td>\n",
       "    </tr>\n",
       "    <tr>\n",
       "      <th>4</th>\n",
       "      <td>9</td>\n",
       "      <td>ABW</td>\n",
       "      <td>Aruba</td>\n",
       "      <td>1969</td>\n",
       "      <td>14891.687</td>\n",
       "    </tr>\n",
       "  </tbody>\n",
       "</table>\n",
       "</div>"
      ],
      "text/plain": [
       "   Unnamed: 0 Country_Code Country  Year  Carbon_Emissions\n",
       "0           5          ABW   Aruba  1965         10623.299\n",
       "1           6          ABW   Aruba  1966          9933.903\n",
       "2           7          ABW   Aruba  1967         12236.779\n",
       "3           8          ABW   Aruba  1968         11378.701\n",
       "4           9          ABW   Aruba  1969         14891.687"
      ]
     },
     "execution_count": 56,
     "metadata": {},
     "output_type": "execute_result"
    }
   ],
   "source": [
    "co2_emissions.head()"
   ]
  },
  {
   "cell_type": "code",
   "execution_count": 57,
   "id": "b7bad7ba",
   "metadata": {},
   "outputs": [
    {
     "data": {
      "text/html": [
       "<div>\n",
       "<style scoped>\n",
       "    .dataframe tbody tr th:only-of-type {\n",
       "        vertical-align: middle;\n",
       "    }\n",
       "\n",
       "    .dataframe tbody tr th {\n",
       "        vertical-align: top;\n",
       "    }\n",
       "\n",
       "    .dataframe thead th {\n",
       "        text-align: right;\n",
       "    }\n",
       "</style>\n",
       "<table border=\"1\" class=\"dataframe\">\n",
       "  <thead>\n",
       "    <tr style=\"text-align: right;\">\n",
       "      <th></th>\n",
       "      <th>Unnamed: 0</th>\n",
       "      <th>Country</th>\n",
       "      <th>Country_Code</th>\n",
       "      <th>Year</th>\n",
       "      <th>Energy_Consumption</th>\n",
       "    </tr>\n",
       "  </thead>\n",
       "  <tbody>\n",
       "    <tr>\n",
       "      <th>0</th>\n",
       "      <td>0</td>\n",
       "      <td>Afghanistan</td>\n",
       "      <td>AFG</td>\n",
       "      <td>1980</td>\n",
       "      <td>7.790772</td>\n",
       "    </tr>\n",
       "    <tr>\n",
       "      <th>1</th>\n",
       "      <td>1</td>\n",
       "      <td>Afghanistan</td>\n",
       "      <td>AFG</td>\n",
       "      <td>1981</td>\n",
       "      <td>8.777320</td>\n",
       "    </tr>\n",
       "    <tr>\n",
       "      <th>2</th>\n",
       "      <td>2</td>\n",
       "      <td>Afghanistan</td>\n",
       "      <td>AFG</td>\n",
       "      <td>1982</td>\n",
       "      <td>9.348327</td>\n",
       "    </tr>\n",
       "    <tr>\n",
       "      <th>3</th>\n",
       "      <td>3</td>\n",
       "      <td>Afghanistan</td>\n",
       "      <td>AFG</td>\n",
       "      <td>1983</td>\n",
       "      <td>11.436162</td>\n",
       "    </tr>\n",
       "    <tr>\n",
       "      <th>4</th>\n",
       "      <td>4</td>\n",
       "      <td>Afghanistan</td>\n",
       "      <td>AFG</td>\n",
       "      <td>1984</td>\n",
       "      <td>11.489043</td>\n",
       "    </tr>\n",
       "  </tbody>\n",
       "</table>\n",
       "</div>"
      ],
      "text/plain": [
       "   Unnamed: 0      Country Country_Code  Year  Energy_Consumption\n",
       "0           0  Afghanistan          AFG  1980            7.790772\n",
       "1           1  Afghanistan          AFG  1981            8.777320\n",
       "2           2  Afghanistan          AFG  1982            9.348327\n",
       "3           3  Afghanistan          AFG  1983           11.436162\n",
       "4           4  Afghanistan          AFG  1984           11.489043"
      ]
     },
     "execution_count": 57,
     "metadata": {},
     "output_type": "execute_result"
    }
   ],
   "source": [
    "energy_consumption.head()"
   ]
  },
  {
   "cell_type": "code",
   "execution_count": 58,
   "id": "e1312e1a",
   "metadata": {},
   "outputs": [
    {
     "data": {
      "text/plain": [
       "Unnamed: 0               0\n",
       "Country                  0\n",
       "Country_Code          2537\n",
       "Year                     0\n",
       "Energy_Consumption       0\n",
       "dtype: int64"
      ]
     },
     "execution_count": 58,
     "metadata": {},
     "output_type": "execute_result"
    }
   ],
   "source": [
    "energy_consumption.isnull().sum()"
   ]
  },
  {
   "cell_type": "code",
   "execution_count": 59,
   "id": "2c24f22e",
   "metadata": {},
   "outputs": [],
   "source": [
    "# Drop rows where 'Country_Code' is NaN\n",
    "energy_consumption = energy_consumption.dropna(subset=['Country_Code'])"
   ]
  },
  {
   "cell_type": "code",
   "execution_count": 60,
   "id": "1263306b",
   "metadata": {},
   "outputs": [],
   "source": [
    "# Merge co2_emissions and energy_consumption\n",
    "co2_energy_merged= pd.merge(co2_emissions, energy_consumption, on=['Year', 'Country_Code'],how='outer')"
   ]
  },
  {
   "cell_type": "code",
   "execution_count": 61,
   "id": "b874702c",
   "metadata": {},
   "outputs": [
    {
     "data": {
      "text/plain": [
       "Index(['Unnamed: 0_x', 'Country_Code', 'Country_x', 'Year', 'Carbon_Emissions',\n",
       "       'Unnamed: 0_y', 'Country_y', 'Energy_Consumption'],\n",
       "      dtype='object')"
      ]
     },
     "execution_count": 61,
     "metadata": {},
     "output_type": "execute_result"
    }
   ],
   "source": [
    "co2_energy_merged.columns"
   ]
  },
  {
   "cell_type": "code",
   "execution_count": 62,
   "id": "31141891",
   "metadata": {},
   "outputs": [],
   "source": [
    "# Remove unnecessary or irrelevant columns\n",
    "co2_energy_merged=co2_energy_merged.drop(columns = ['Unnamed: 0_x','Country_y','Unnamed: 0_y'])"
   ]
  },
  {
   "cell_type": "code",
   "execution_count": 63,
   "id": "5afbaf37",
   "metadata": {},
   "outputs": [],
   "source": [
    "# Format column names\n",
    "co2_energy_merged.rename(columns={'Country_x' : 'Country'}, inplace = True)"
   ]
  },
  {
   "cell_type": "code",
   "execution_count": 64,
   "id": "74e0f84d",
   "metadata": {},
   "outputs": [
    {
     "data": {
      "text/html": [
       "<div>\n",
       "<style scoped>\n",
       "    .dataframe tbody tr th:only-of-type {\n",
       "        vertical-align: middle;\n",
       "    }\n",
       "\n",
       "    .dataframe tbody tr th {\n",
       "        vertical-align: top;\n",
       "    }\n",
       "\n",
       "    .dataframe thead th {\n",
       "        text-align: right;\n",
       "    }\n",
       "</style>\n",
       "<table border=\"1\" class=\"dataframe\">\n",
       "  <thead>\n",
       "    <tr style=\"text-align: right;\">\n",
       "      <th></th>\n",
       "      <th>Country_Code</th>\n",
       "      <th>Country</th>\n",
       "      <th>Year</th>\n",
       "      <th>Carbon_Emissions</th>\n",
       "      <th>Energy_Consumption</th>\n",
       "    </tr>\n",
       "  </thead>\n",
       "  <tbody>\n",
       "    <tr>\n",
       "      <th>0</th>\n",
       "      <td>ABW</td>\n",
       "      <td>Aruba</td>\n",
       "      <td>1965</td>\n",
       "      <td>10623.299</td>\n",
       "      <td>NaN</td>\n",
       "    </tr>\n",
       "    <tr>\n",
       "      <th>1</th>\n",
       "      <td>ABW</td>\n",
       "      <td>Aruba</td>\n",
       "      <td>1966</td>\n",
       "      <td>9933.903</td>\n",
       "      <td>NaN</td>\n",
       "    </tr>\n",
       "    <tr>\n",
       "      <th>2</th>\n",
       "      <td>ABW</td>\n",
       "      <td>Aruba</td>\n",
       "      <td>1967</td>\n",
       "      <td>12236.779</td>\n",
       "      <td>NaN</td>\n",
       "    </tr>\n",
       "    <tr>\n",
       "      <th>3</th>\n",
       "      <td>ABW</td>\n",
       "      <td>Aruba</td>\n",
       "      <td>1968</td>\n",
       "      <td>11378.701</td>\n",
       "      <td>NaN</td>\n",
       "    </tr>\n",
       "    <tr>\n",
       "      <th>4</th>\n",
       "      <td>ABW</td>\n",
       "      <td>Aruba</td>\n",
       "      <td>1969</td>\n",
       "      <td>14891.687</td>\n",
       "      <td>NaN</td>\n",
       "    </tr>\n",
       "  </tbody>\n",
       "</table>\n",
       "</div>"
      ],
      "text/plain": [
       "  Country_Code Country  Year  Carbon_Emissions  Energy_Consumption\n",
       "0          ABW   Aruba  1965         10623.299                 NaN\n",
       "1          ABW   Aruba  1966          9933.903                 NaN\n",
       "2          ABW   Aruba  1967         12236.779                 NaN\n",
       "3          ABW   Aruba  1968         11378.701                 NaN\n",
       "4          ABW   Aruba  1969         14891.687                 NaN"
      ]
     },
     "execution_count": 64,
     "metadata": {},
     "output_type": "execute_result"
    }
   ],
   "source": [
    "co2_energy_merged.head()"
   ]
  },
  {
   "cell_type": "code",
   "execution_count": 65,
   "id": "1f16b732",
   "metadata": {},
   "outputs": [
    {
     "data": {
      "text/plain": [
       "(14544, 5)"
      ]
     },
     "execution_count": 65,
     "metadata": {},
     "output_type": "execute_result"
    }
   ],
   "source": [
    "co2_energy_merged.shape"
   ]
  },
  {
   "cell_type": "code",
   "execution_count": 66,
   "id": "6195d346",
   "metadata": {},
   "outputs": [],
   "source": [
    "# Merge all of the data sets part 1\n",
    "merged_data_1= pd.merge(events_temp_merged, migration_population_merged, on=['Year', 'Country_Code'],how='outer')"
   ]
  },
  {
   "cell_type": "code",
   "execution_count": 67,
   "id": "10d29494",
   "metadata": {},
   "outputs": [
    {
     "data": {
      "text/html": [
       "<div>\n",
       "<style scoped>\n",
       "    .dataframe tbody tr th:only-of-type {\n",
       "        vertical-align: middle;\n",
       "    }\n",
       "\n",
       "    .dataframe tbody tr th {\n",
       "        vertical-align: top;\n",
       "    }\n",
       "\n",
       "    .dataframe thead th {\n",
       "        text-align: right;\n",
       "    }\n",
       "</style>\n",
       "<table border=\"1\" class=\"dataframe\">\n",
       "  <thead>\n",
       "    <tr style=\"text-align: right;\">\n",
       "      <th></th>\n",
       "      <th>Year</th>\n",
       "      <th>Event_type</th>\n",
       "      <th>Event_Category</th>\n",
       "      <th>Country_x</th>\n",
       "      <th>Country_Code</th>\n",
       "      <th>Region</th>\n",
       "      <th>Continent</th>\n",
       "      <th>Number_of_Events</th>\n",
       "      <th>Temperature_Change</th>\n",
       "      <th>Country_y</th>\n",
       "      <th>Net_Migration</th>\n",
       "      <th>Population</th>\n",
       "    </tr>\n",
       "  </thead>\n",
       "  <tbody>\n",
       "    <tr>\n",
       "      <th>0</th>\n",
       "      <td>1965</td>\n",
       "      <td>Geophysical</td>\n",
       "      <td>Earthquake</td>\n",
       "      <td>Indonesia</td>\n",
       "      <td>IDN</td>\n",
       "      <td>South-Eastern Asia</td>\n",
       "      <td>Asia</td>\n",
       "      <td>1.0</td>\n",
       "      <td>-0.190500</td>\n",
       "      <td>Indonesia</td>\n",
       "      <td>-61146.0</td>\n",
       "      <td>100267062.0</td>\n",
       "    </tr>\n",
       "    <tr>\n",
       "      <th>1</th>\n",
       "      <td>1965</td>\n",
       "      <td>Hydrological</td>\n",
       "      <td>Landslide</td>\n",
       "      <td>Argentina</td>\n",
       "      <td>ARG</td>\n",
       "      <td>South America</td>\n",
       "      <td>Americas</td>\n",
       "      <td>1.0</td>\n",
       "      <td>0.045583</td>\n",
       "      <td>Argentina</td>\n",
       "      <td>33973.0</td>\n",
       "      <td>22159650.0</td>\n",
       "    </tr>\n",
       "    <tr>\n",
       "      <th>2</th>\n",
       "      <td>1965</td>\n",
       "      <td>Meteorological</td>\n",
       "      <td>Storm</td>\n",
       "      <td>Bangladesh</td>\n",
       "      <td>BGD</td>\n",
       "      <td>Southern Asia</td>\n",
       "      <td>Asia</td>\n",
       "      <td>3.0</td>\n",
       "      <td>-0.199833</td>\n",
       "      <td>Bangladesh</td>\n",
       "      <td>47618.0</td>\n",
       "      <td>55385112.0</td>\n",
       "    </tr>\n",
       "    <tr>\n",
       "      <th>3</th>\n",
       "      <td>1965</td>\n",
       "      <td>Meteorological</td>\n",
       "      <td>Storm</td>\n",
       "      <td>Bangladesh</td>\n",
       "      <td>BGD</td>\n",
       "      <td>Southern Asia</td>\n",
       "      <td>Asia</td>\n",
       "      <td>3.0</td>\n",
       "      <td>-0.199833</td>\n",
       "      <td>Bangladesh</td>\n",
       "      <td>47618.0</td>\n",
       "      <td>55385112.0</td>\n",
       "    </tr>\n",
       "    <tr>\n",
       "      <th>4</th>\n",
       "      <td>1965</td>\n",
       "      <td>Meteorological</td>\n",
       "      <td>Storm</td>\n",
       "      <td>Bangladesh</td>\n",
       "      <td>BGD</td>\n",
       "      <td>Southern Asia</td>\n",
       "      <td>Asia</td>\n",
       "      <td>3.0</td>\n",
       "      <td>-0.199833</td>\n",
       "      <td>Bangladesh</td>\n",
       "      <td>47618.0</td>\n",
       "      <td>55385112.0</td>\n",
       "    </tr>\n",
       "  </tbody>\n",
       "</table>\n",
       "</div>"
      ],
      "text/plain": [
       "   Year      Event_type Event_Category   Country_x Country_Code  \\\n",
       "0  1965     Geophysical     Earthquake   Indonesia          IDN   \n",
       "1  1965    Hydrological      Landslide   Argentina          ARG   \n",
       "2  1965  Meteorological          Storm  Bangladesh          BGD   \n",
       "3  1965  Meteorological          Storm  Bangladesh          BGD   \n",
       "4  1965  Meteorological          Storm  Bangladesh          BGD   \n",
       "\n",
       "               Region Continent  Number_of_Events  Temperature_Change  \\\n",
       "0  South-Eastern Asia      Asia               1.0           -0.190500   \n",
       "1       South America  Americas               1.0            0.045583   \n",
       "2       Southern Asia      Asia               3.0           -0.199833   \n",
       "3       Southern Asia      Asia               3.0           -0.199833   \n",
       "4       Southern Asia      Asia               3.0           -0.199833   \n",
       "\n",
       "    Country_y  Net_Migration   Population  \n",
       "0   Indonesia       -61146.0  100267062.0  \n",
       "1   Argentina        33973.0   22159650.0  \n",
       "2  Bangladesh        47618.0   55385112.0  \n",
       "3  Bangladesh        47618.0   55385112.0  \n",
       "4  Bangladesh        47618.0   55385112.0  "
      ]
     },
     "execution_count": 67,
     "metadata": {},
     "output_type": "execute_result"
    }
   ],
   "source": [
    "merged_data_1.head()"
   ]
  },
  {
   "cell_type": "code",
   "execution_count": 68,
   "id": "804708de",
   "metadata": {},
   "outputs": [
    {
     "data": {
      "text/plain": [
       "Year                      0\n",
       "Event_type            11619\n",
       "Event_Category        11619\n",
       "Country_x             11619\n",
       "Country_Code              0\n",
       "Region                11619\n",
       "Continent             11619\n",
       "Number_of_Events      11619\n",
       "Temperature_Change     4812\n",
       "Country_y              1876\n",
       "Net_Migration          1876\n",
       "Population             3755\n",
       "dtype: int64"
      ]
     },
     "execution_count": 68,
     "metadata": {},
     "output_type": "execute_result"
    }
   ],
   "source": [
    "merged_data_1.isnull().sum()"
   ]
  },
  {
   "cell_type": "code",
   "execution_count": 69,
   "id": "7dcb58d0",
   "metadata": {},
   "outputs": [
    {
     "data": {
      "text/plain": [
       "Index(['Year', 'Event_type', 'Event_Category', 'Country_x', 'Country_Code',\n",
       "       'Region', 'Continent', 'Number_of_Events', 'Temperature_Change',\n",
       "       'Country_y', 'Net_Migration', 'Population'],\n",
       "      dtype='object')"
      ]
     },
     "execution_count": 69,
     "metadata": {},
     "output_type": "execute_result"
    }
   ],
   "source": [
    "merged_data_1.columns"
   ]
  },
  {
   "cell_type": "code",
   "execution_count": 70,
   "id": "479bdda8",
   "metadata": {},
   "outputs": [],
   "source": [
    "# Remove unnecessary or irrelevant columns\n",
    "merged_data_1=merged_data_1.drop(columns = ['Country_y'])"
   ]
  },
  {
   "cell_type": "code",
   "execution_count": 71,
   "id": "0b162ab7",
   "metadata": {},
   "outputs": [],
   "source": [
    "# Format column names\n",
    "merged_data_1.rename(columns={'Country_x' : 'Country'}, inplace = True)"
   ]
  },
  {
   "cell_type": "code",
   "execution_count": 72,
   "id": "36e9a014",
   "metadata": {},
   "outputs": [
    {
     "data": {
      "text/html": [
       "<div>\n",
       "<style scoped>\n",
       "    .dataframe tbody tr th:only-of-type {\n",
       "        vertical-align: middle;\n",
       "    }\n",
       "\n",
       "    .dataframe tbody tr th {\n",
       "        vertical-align: top;\n",
       "    }\n",
       "\n",
       "    .dataframe thead th {\n",
       "        text-align: right;\n",
       "    }\n",
       "</style>\n",
       "<table border=\"1\" class=\"dataframe\">\n",
       "  <thead>\n",
       "    <tr style=\"text-align: right;\">\n",
       "      <th></th>\n",
       "      <th>Year</th>\n",
       "      <th>Event_type</th>\n",
       "      <th>Event_Category</th>\n",
       "      <th>Country</th>\n",
       "      <th>Country_Code</th>\n",
       "      <th>Region</th>\n",
       "      <th>Continent</th>\n",
       "      <th>Number_of_Events</th>\n",
       "      <th>Temperature_Change</th>\n",
       "      <th>Net_Migration</th>\n",
       "      <th>Population</th>\n",
       "    </tr>\n",
       "  </thead>\n",
       "  <tbody>\n",
       "    <tr>\n",
       "      <th>0</th>\n",
       "      <td>1965</td>\n",
       "      <td>Geophysical</td>\n",
       "      <td>Earthquake</td>\n",
       "      <td>Indonesia</td>\n",
       "      <td>IDN</td>\n",
       "      <td>South-Eastern Asia</td>\n",
       "      <td>Asia</td>\n",
       "      <td>1.0</td>\n",
       "      <td>-0.190500</td>\n",
       "      <td>-61146.0</td>\n",
       "      <td>100267062.0</td>\n",
       "    </tr>\n",
       "    <tr>\n",
       "      <th>1</th>\n",
       "      <td>1965</td>\n",
       "      <td>Hydrological</td>\n",
       "      <td>Landslide</td>\n",
       "      <td>Argentina</td>\n",
       "      <td>ARG</td>\n",
       "      <td>South America</td>\n",
       "      <td>Americas</td>\n",
       "      <td>1.0</td>\n",
       "      <td>0.045583</td>\n",
       "      <td>33973.0</td>\n",
       "      <td>22159650.0</td>\n",
       "    </tr>\n",
       "    <tr>\n",
       "      <th>2</th>\n",
       "      <td>1965</td>\n",
       "      <td>Meteorological</td>\n",
       "      <td>Storm</td>\n",
       "      <td>Bangladesh</td>\n",
       "      <td>BGD</td>\n",
       "      <td>Southern Asia</td>\n",
       "      <td>Asia</td>\n",
       "      <td>3.0</td>\n",
       "      <td>-0.199833</td>\n",
       "      <td>47618.0</td>\n",
       "      <td>55385112.0</td>\n",
       "    </tr>\n",
       "    <tr>\n",
       "      <th>3</th>\n",
       "      <td>1965</td>\n",
       "      <td>Meteorological</td>\n",
       "      <td>Storm</td>\n",
       "      <td>Bangladesh</td>\n",
       "      <td>BGD</td>\n",
       "      <td>Southern Asia</td>\n",
       "      <td>Asia</td>\n",
       "      <td>3.0</td>\n",
       "      <td>-0.199833</td>\n",
       "      <td>47618.0</td>\n",
       "      <td>55385112.0</td>\n",
       "    </tr>\n",
       "    <tr>\n",
       "      <th>4</th>\n",
       "      <td>1965</td>\n",
       "      <td>Meteorological</td>\n",
       "      <td>Storm</td>\n",
       "      <td>Bangladesh</td>\n",
       "      <td>BGD</td>\n",
       "      <td>Southern Asia</td>\n",
       "      <td>Asia</td>\n",
       "      <td>3.0</td>\n",
       "      <td>-0.199833</td>\n",
       "      <td>47618.0</td>\n",
       "      <td>55385112.0</td>\n",
       "    </tr>\n",
       "  </tbody>\n",
       "</table>\n",
       "</div>"
      ],
      "text/plain": [
       "   Year      Event_type Event_Category     Country Country_Code  \\\n",
       "0  1965     Geophysical     Earthquake   Indonesia          IDN   \n",
       "1  1965    Hydrological      Landslide   Argentina          ARG   \n",
       "2  1965  Meteorological          Storm  Bangladesh          BGD   \n",
       "3  1965  Meteorological          Storm  Bangladesh          BGD   \n",
       "4  1965  Meteorological          Storm  Bangladesh          BGD   \n",
       "\n",
       "               Region Continent  Number_of_Events  Temperature_Change  \\\n",
       "0  South-Eastern Asia      Asia               1.0           -0.190500   \n",
       "1       South America  Americas               1.0            0.045583   \n",
       "2       Southern Asia      Asia               3.0           -0.199833   \n",
       "3       Southern Asia      Asia               3.0           -0.199833   \n",
       "4       Southern Asia      Asia               3.0           -0.199833   \n",
       "\n",
       "   Net_Migration   Population  \n",
       "0       -61146.0  100267062.0  \n",
       "1        33973.0   22159650.0  \n",
       "2        47618.0   55385112.0  \n",
       "3        47618.0   55385112.0  \n",
       "4        47618.0   55385112.0  "
      ]
     },
     "execution_count": 72,
     "metadata": {},
     "output_type": "execute_result"
    }
   ],
   "source": [
    "# #Reviewing the updated dataFrame\n",
    "merged_data_1.head()"
   ]
  },
  {
   "cell_type": "code",
   "execution_count": 73,
   "id": "f3fa2737",
   "metadata": {},
   "outputs": [
    {
     "data": {
      "text/plain": [
       "Year                      0\n",
       "Event_type            11619\n",
       "Event_Category        11619\n",
       "Country               11619\n",
       "Country_Code              0\n",
       "Region                11619\n",
       "Continent             11619\n",
       "Number_of_Events      11619\n",
       "Temperature_Change     4812\n",
       "Net_Migration          1876\n",
       "Population             3755\n",
       "dtype: int64"
      ]
     },
     "execution_count": 73,
     "metadata": {},
     "output_type": "execute_result"
    }
   ],
   "source": [
    "merged_data_1.isnull().sum()"
   ]
  },
  {
   "cell_type": "code",
   "execution_count": 74,
   "id": "d9cf8f2b",
   "metadata": {},
   "outputs": [],
   "source": [
    "#Export merged data set\n",
    "merged_data_1.to_csv(os.path.join(path,'02 Data','Merged Data', 'merged_data_1.csv'))"
   ]
  },
  {
   "cell_type": "code",
   "execution_count": 105,
   "id": "9ff340d1",
   "metadata": {},
   "outputs": [],
   "source": [
    "# Merge all of the data sets\n",
    "merged_data_2= pd.merge(merged_data_1, co2_energy_merged, on=['Year', 'Country_Code'],how='outer')"
   ]
  },
  {
   "cell_type": "code",
   "execution_count": 106,
   "id": "f763a034",
   "metadata": {},
   "outputs": [
    {
     "data": {
      "text/html": [
       "<div>\n",
       "<style scoped>\n",
       "    .dataframe tbody tr th:only-of-type {\n",
       "        vertical-align: middle;\n",
       "    }\n",
       "\n",
       "    .dataframe tbody tr th {\n",
       "        vertical-align: top;\n",
       "    }\n",
       "\n",
       "    .dataframe thead th {\n",
       "        text-align: right;\n",
       "    }\n",
       "</style>\n",
       "<table border=\"1\" class=\"dataframe\">\n",
       "  <thead>\n",
       "    <tr style=\"text-align: right;\">\n",
       "      <th></th>\n",
       "      <th>Year</th>\n",
       "      <th>Event_type</th>\n",
       "      <th>Event_Category</th>\n",
       "      <th>Country_x</th>\n",
       "      <th>Country_Code</th>\n",
       "      <th>Region</th>\n",
       "      <th>Continent</th>\n",
       "      <th>Number_of_Events</th>\n",
       "      <th>Temperature_Change</th>\n",
       "      <th>Net_Migration</th>\n",
       "      <th>Population</th>\n",
       "      <th>Country_y</th>\n",
       "      <th>Carbon_Emissions</th>\n",
       "      <th>Energy_Consumption</th>\n",
       "    </tr>\n",
       "  </thead>\n",
       "  <tbody>\n",
       "    <tr>\n",
       "      <th>0</th>\n",
       "      <td>1965</td>\n",
       "      <td>Geophysical</td>\n",
       "      <td>Earthquake</td>\n",
       "      <td>Indonesia</td>\n",
       "      <td>IDN</td>\n",
       "      <td>South-Eastern Asia</td>\n",
       "      <td>Asia</td>\n",
       "      <td>1.0</td>\n",
       "      <td>-0.190500</td>\n",
       "      <td>-61146.0</td>\n",
       "      <td>100267062.0</td>\n",
       "      <td>Indonesia</td>\n",
       "      <td>24689.911</td>\n",
       "      <td>84.51602</td>\n",
       "    </tr>\n",
       "    <tr>\n",
       "      <th>1</th>\n",
       "      <td>1965</td>\n",
       "      <td>Hydrological</td>\n",
       "      <td>Landslide</td>\n",
       "      <td>Argentina</td>\n",
       "      <td>ARG</td>\n",
       "      <td>South America</td>\n",
       "      <td>Americas</td>\n",
       "      <td>1.0</td>\n",
       "      <td>0.045583</td>\n",
       "      <td>33973.0</td>\n",
       "      <td>22159650.0</td>\n",
       "      <td>Argentina</td>\n",
       "      <td>58866.351</td>\n",
       "      <td>328.52762</td>\n",
       "    </tr>\n",
       "    <tr>\n",
       "      <th>2</th>\n",
       "      <td>1965</td>\n",
       "      <td>Meteorological</td>\n",
       "      <td>Storm</td>\n",
       "      <td>Bangladesh</td>\n",
       "      <td>BGD</td>\n",
       "      <td>Southern Asia</td>\n",
       "      <td>Asia</td>\n",
       "      <td>3.0</td>\n",
       "      <td>-0.199833</td>\n",
       "      <td>47618.0</td>\n",
       "      <td>55385112.0</td>\n",
       "      <td>Bangladesh</td>\n",
       "      <td>19974.149</td>\n",
       "      <td>NaN</td>\n",
       "    </tr>\n",
       "    <tr>\n",
       "      <th>3</th>\n",
       "      <td>1965</td>\n",
       "      <td>Meteorological</td>\n",
       "      <td>Storm</td>\n",
       "      <td>Bangladesh</td>\n",
       "      <td>BGD</td>\n",
       "      <td>Southern Asia</td>\n",
       "      <td>Asia</td>\n",
       "      <td>3.0</td>\n",
       "      <td>-0.199833</td>\n",
       "      <td>47618.0</td>\n",
       "      <td>55385112.0</td>\n",
       "      <td>Bangladesh</td>\n",
       "      <td>19974.149</td>\n",
       "      <td>NaN</td>\n",
       "    </tr>\n",
       "    <tr>\n",
       "      <th>4</th>\n",
       "      <td>1965</td>\n",
       "      <td>Meteorological</td>\n",
       "      <td>Storm</td>\n",
       "      <td>Bangladesh</td>\n",
       "      <td>BGD</td>\n",
       "      <td>Southern Asia</td>\n",
       "      <td>Asia</td>\n",
       "      <td>3.0</td>\n",
       "      <td>-0.199833</td>\n",
       "      <td>47618.0</td>\n",
       "      <td>55385112.0</td>\n",
       "      <td>Bangladesh</td>\n",
       "      <td>19974.149</td>\n",
       "      <td>NaN</td>\n",
       "    </tr>\n",
       "  </tbody>\n",
       "</table>\n",
       "</div>"
      ],
      "text/plain": [
       "   Year      Event_type Event_Category   Country_x Country_Code  \\\n",
       "0  1965     Geophysical     Earthquake   Indonesia          IDN   \n",
       "1  1965    Hydrological      Landslide   Argentina          ARG   \n",
       "2  1965  Meteorological          Storm  Bangladesh          BGD   \n",
       "3  1965  Meteorological          Storm  Bangladesh          BGD   \n",
       "4  1965  Meteorological          Storm  Bangladesh          BGD   \n",
       "\n",
       "               Region Continent  Number_of_Events  Temperature_Change  \\\n",
       "0  South-Eastern Asia      Asia               1.0           -0.190500   \n",
       "1       South America  Americas               1.0            0.045583   \n",
       "2       Southern Asia      Asia               3.0           -0.199833   \n",
       "3       Southern Asia      Asia               3.0           -0.199833   \n",
       "4       Southern Asia      Asia               3.0           -0.199833   \n",
       "\n",
       "   Net_Migration   Population   Country_y  Carbon_Emissions  \\\n",
       "0       -61146.0  100267062.0   Indonesia         24689.911   \n",
       "1        33973.0   22159650.0   Argentina         58866.351   \n",
       "2        47618.0   55385112.0  Bangladesh         19974.149   \n",
       "3        47618.0   55385112.0  Bangladesh         19974.149   \n",
       "4        47618.0   55385112.0  Bangladesh         19974.149   \n",
       "\n",
       "   Energy_Consumption  \n",
       "0            84.51602  \n",
       "1           328.52762  \n",
       "2                 NaN  \n",
       "3                 NaN  \n",
       "4                 NaN  "
      ]
     },
     "execution_count": 106,
     "metadata": {},
     "output_type": "execute_result"
    }
   ],
   "source": [
    "merged_data_2.head()"
   ]
  },
  {
   "cell_type": "code",
   "execution_count": 107,
   "id": "ea132eca",
   "metadata": {},
   "outputs": [
    {
     "data": {
      "text/plain": [
       "(26500, 14)"
      ]
     },
     "execution_count": 107,
     "metadata": {},
     "output_type": "execute_result"
    }
   ],
   "source": [
    "merged_data_2.shape"
   ]
  },
  {
   "cell_type": "code",
   "execution_count": 108,
   "id": "a9f1b0ca",
   "metadata": {},
   "outputs": [
    {
     "data": {
      "text/plain": [
       "Index(['Year', 'Event_type', 'Event_Category', 'Country_x', 'Country_Code',\n",
       "       'Region', 'Continent', 'Number_of_Events', 'Temperature_Change',\n",
       "       'Net_Migration', 'Population', 'Country_y', 'Carbon_Emissions',\n",
       "       'Energy_Consumption'],\n",
       "      dtype='object')"
      ]
     },
     "execution_count": 108,
     "metadata": {},
     "output_type": "execute_result"
    }
   ],
   "source": [
    "merged_data_2.columns"
   ]
  },
  {
   "cell_type": "code",
   "execution_count": 109,
   "id": "74881a1a",
   "metadata": {},
   "outputs": [],
   "source": [
    "# Remove unnecessary or irrelevant columns\n",
    "merged_data_2=merged_data_2.drop(columns = ['Country_y'])"
   ]
  },
  {
   "cell_type": "code",
   "execution_count": 110,
   "id": "7c62c22b",
   "metadata": {},
   "outputs": [],
   "source": [
    "# Format column names\n",
    "merged_data_2.rename(columns={'Country_x' : 'Country'}, inplace = True)"
   ]
  },
  {
   "cell_type": "code",
   "execution_count": 111,
   "id": "54c3cc7d",
   "metadata": {},
   "outputs": [
    {
     "data": {
      "text/plain": [
       "(26500, 13)"
      ]
     },
     "execution_count": 111,
     "metadata": {},
     "output_type": "execute_result"
    }
   ],
   "source": [
    "merged_data_2.shape"
   ]
  },
  {
   "cell_type": "code",
   "execution_count": 112,
   "id": "e8db08a6",
   "metadata": {},
   "outputs": [
    {
     "data": {
      "text/html": [
       "<div>\n",
       "<style scoped>\n",
       "    .dataframe tbody tr th:only-of-type {\n",
       "        vertical-align: middle;\n",
       "    }\n",
       "\n",
       "    .dataframe tbody tr th {\n",
       "        vertical-align: top;\n",
       "    }\n",
       "\n",
       "    .dataframe thead th {\n",
       "        text-align: right;\n",
       "    }\n",
       "</style>\n",
       "<table border=\"1\" class=\"dataframe\">\n",
       "  <thead>\n",
       "    <tr style=\"text-align: right;\">\n",
       "      <th></th>\n",
       "      <th>Year</th>\n",
       "      <th>Event_type</th>\n",
       "      <th>Event_Category</th>\n",
       "      <th>Country</th>\n",
       "      <th>Country_Code</th>\n",
       "      <th>Region</th>\n",
       "      <th>Continent</th>\n",
       "      <th>Number_of_Events</th>\n",
       "      <th>Temperature_Change</th>\n",
       "      <th>Net_Migration</th>\n",
       "      <th>Population</th>\n",
       "      <th>Carbon_Emissions</th>\n",
       "      <th>Energy_Consumption</th>\n",
       "    </tr>\n",
       "  </thead>\n",
       "  <tbody>\n",
       "    <tr>\n",
       "      <th>3</th>\n",
       "      <td>1965</td>\n",
       "      <td>Meteorological</td>\n",
       "      <td>Storm</td>\n",
       "      <td>Bangladesh</td>\n",
       "      <td>BGD</td>\n",
       "      <td>Southern Asia</td>\n",
       "      <td>Asia</td>\n",
       "      <td>3.0</td>\n",
       "      <td>-0.199833</td>\n",
       "      <td>47618.0</td>\n",
       "      <td>55385112.0</td>\n",
       "      <td>19974.149</td>\n",
       "      <td>NaN</td>\n",
       "    </tr>\n",
       "    <tr>\n",
       "      <th>4</th>\n",
       "      <td>1965</td>\n",
       "      <td>Meteorological</td>\n",
       "      <td>Storm</td>\n",
       "      <td>Bangladesh</td>\n",
       "      <td>BGD</td>\n",
       "      <td>Southern Asia</td>\n",
       "      <td>Asia</td>\n",
       "      <td>3.0</td>\n",
       "      <td>-0.199833</td>\n",
       "      <td>47618.0</td>\n",
       "      <td>55385112.0</td>\n",
       "      <td>19974.149</td>\n",
       "      <td>NaN</td>\n",
       "    </tr>\n",
       "    <tr>\n",
       "      <th>9</th>\n",
       "      <td>1965</td>\n",
       "      <td>Hydrological</td>\n",
       "      <td>Flood</td>\n",
       "      <td>Brazil</td>\n",
       "      <td>BRA</td>\n",
       "      <td>South America</td>\n",
       "      <td>Americas</td>\n",
       "      <td>2.0</td>\n",
       "      <td>0.001833</td>\n",
       "      <td>10232.0</td>\n",
       "      <td>83373530.0</td>\n",
       "      <td>56398.460</td>\n",
       "      <td>273.869600</td>\n",
       "    </tr>\n",
       "    <tr>\n",
       "      <th>25</th>\n",
       "      <td>1965</td>\n",
       "      <td>Geophysical</td>\n",
       "      <td>Earthquake</td>\n",
       "      <td>Greece</td>\n",
       "      <td>GRC</td>\n",
       "      <td>Southern Europe</td>\n",
       "      <td>Europe</td>\n",
       "      <td>2.0</td>\n",
       "      <td>-0.297500</td>\n",
       "      <td>-87226.0</td>\n",
       "      <td>8550333.0</td>\n",
       "      <td>17025.881</td>\n",
       "      <td>79.146180</td>\n",
       "    </tr>\n",
       "    <tr>\n",
       "      <th>34</th>\n",
       "      <td>1966</td>\n",
       "      <td>Geophysical</td>\n",
       "      <td>Volcanic activity</td>\n",
       "      <td>Indonesia</td>\n",
       "      <td>IDN</td>\n",
       "      <td>South-Eastern Asia</td>\n",
       "      <td>Asia</td>\n",
       "      <td>4.0</td>\n",
       "      <td>-0.011917</td>\n",
       "      <td>-77641.0</td>\n",
       "      <td>103025426.0</td>\n",
       "      <td>23395.460</td>\n",
       "      <td>83.896090</td>\n",
       "    </tr>\n",
       "    <tr>\n",
       "      <th>...</th>\n",
       "      <td>...</td>\n",
       "      <td>...</td>\n",
       "      <td>...</td>\n",
       "      <td>...</td>\n",
       "      <td>...</td>\n",
       "      <td>...</td>\n",
       "      <td>...</td>\n",
       "      <td>...</td>\n",
       "      <td>...</td>\n",
       "      <td>...</td>\n",
       "      <td>...</td>\n",
       "      <td>...</td>\n",
       "      <td>...</td>\n",
       "    </tr>\n",
       "    <tr>\n",
       "      <th>14703</th>\n",
       "      <td>2021</td>\n",
       "      <td>Hydrological</td>\n",
       "      <td>Flood</td>\n",
       "      <td>Uganda</td>\n",
       "      <td>UGA</td>\n",
       "      <td>Eastern Africa</td>\n",
       "      <td>Africa</td>\n",
       "      <td>3.0</td>\n",
       "      <td>1.511333</td>\n",
       "      <td>43465.0</td>\n",
       "      <td>NaN</td>\n",
       "      <td>NaN</td>\n",
       "      <td>35.162792</td>\n",
       "    </tr>\n",
       "    <tr>\n",
       "      <th>14705</th>\n",
       "      <td>2021</td>\n",
       "      <td>Hydrological</td>\n",
       "      <td>Flood</td>\n",
       "      <td>Venezuela (Bolivarian Republic of)</td>\n",
       "      <td>VEN</td>\n",
       "      <td>South America</td>\n",
       "      <td>Americas</td>\n",
       "      <td>2.0</td>\n",
       "      <td>0.723250</td>\n",
       "      <td>-525116.0</td>\n",
       "      <td>NaN</td>\n",
       "      <td>NaN</td>\n",
       "      <td>583.354000</td>\n",
       "    </tr>\n",
       "    <tr>\n",
       "      <th>14710</th>\n",
       "      <td>2021</td>\n",
       "      <td>Meteorological</td>\n",
       "      <td>Storm</td>\n",
       "      <td>Viet Nam</td>\n",
       "      <td>VNM</td>\n",
       "      <td>South-Eastern Asia</td>\n",
       "      <td>Asia</td>\n",
       "      <td>4.0</td>\n",
       "      <td>1.125333</td>\n",
       "      <td>-992.0</td>\n",
       "      <td>NaN</td>\n",
       "      <td>NaN</td>\n",
       "      <td>1206.255700</td>\n",
       "    </tr>\n",
       "    <tr>\n",
       "      <th>14712</th>\n",
       "      <td>2021</td>\n",
       "      <td>Meteorological</td>\n",
       "      <td>Storm</td>\n",
       "      <td>Viet Nam</td>\n",
       "      <td>VNM</td>\n",
       "      <td>South-Eastern Asia</td>\n",
       "      <td>Asia</td>\n",
       "      <td>4.0</td>\n",
       "      <td>1.125333</td>\n",
       "      <td>-992.0</td>\n",
       "      <td>NaN</td>\n",
       "      <td>NaN</td>\n",
       "      <td>1206.255700</td>\n",
       "    </tr>\n",
       "    <tr>\n",
       "      <th>14722</th>\n",
       "      <td>2021</td>\n",
       "      <td>Hydrological</td>\n",
       "      <td>Flood</td>\n",
       "      <td>Yemen</td>\n",
       "      <td>YEM</td>\n",
       "      <td>Western Asia</td>\n",
       "      <td>Asia</td>\n",
       "      <td>2.0</td>\n",
       "      <td>NaN</td>\n",
       "      <td>-101468.0</td>\n",
       "      <td>NaN</td>\n",
       "      <td>NaN</td>\n",
       "      <td>35.621470</td>\n",
       "    </tr>\n",
       "  </tbody>\n",
       "</table>\n",
       "<p>5599 rows × 13 columns</p>\n",
       "</div>"
      ],
      "text/plain": [
       "       Year      Event_type     Event_Category  \\\n",
       "3      1965  Meteorological              Storm   \n",
       "4      1965  Meteorological              Storm   \n",
       "9      1965    Hydrological              Flood   \n",
       "25     1965     Geophysical         Earthquake   \n",
       "34     1966     Geophysical  Volcanic activity   \n",
       "...     ...             ...                ...   \n",
       "14703  2021    Hydrological              Flood   \n",
       "14705  2021    Hydrological              Flood   \n",
       "14710  2021  Meteorological              Storm   \n",
       "14712  2021  Meteorological              Storm   \n",
       "14722  2021    Hydrological              Flood   \n",
       "\n",
       "                                  Country Country_Code              Region  \\\n",
       "3                              Bangladesh          BGD       Southern Asia   \n",
       "4                              Bangladesh          BGD       Southern Asia   \n",
       "9                                  Brazil          BRA       South America   \n",
       "25                                 Greece          GRC     Southern Europe   \n",
       "34                              Indonesia          IDN  South-Eastern Asia   \n",
       "...                                   ...          ...                 ...   \n",
       "14703                              Uganda          UGA      Eastern Africa   \n",
       "14705  Venezuela (Bolivarian Republic of)          VEN       South America   \n",
       "14710                            Viet Nam          VNM  South-Eastern Asia   \n",
       "14712                            Viet Nam          VNM  South-Eastern Asia   \n",
       "14722                               Yemen          YEM        Western Asia   \n",
       "\n",
       "      Continent  Number_of_Events  Temperature_Change  Net_Migration  \\\n",
       "3          Asia               3.0           -0.199833        47618.0   \n",
       "4          Asia               3.0           -0.199833        47618.0   \n",
       "9      Americas               2.0            0.001833        10232.0   \n",
       "25       Europe               2.0           -0.297500       -87226.0   \n",
       "34         Asia               4.0           -0.011917       -77641.0   \n",
       "...         ...               ...                 ...            ...   \n",
       "14703    Africa               3.0            1.511333        43465.0   \n",
       "14705  Americas               2.0            0.723250      -525116.0   \n",
       "14710      Asia               4.0            1.125333         -992.0   \n",
       "14712      Asia               4.0            1.125333         -992.0   \n",
       "14722      Asia               2.0                 NaN      -101468.0   \n",
       "\n",
       "        Population  Carbon_Emissions  Energy_Consumption  \n",
       "3       55385112.0         19974.149                 NaN  \n",
       "4       55385112.0         19974.149                 NaN  \n",
       "9       83373530.0         56398.460          273.869600  \n",
       "25       8550333.0         17025.881           79.146180  \n",
       "34     103025426.0         23395.460           83.896090  \n",
       "...            ...               ...                 ...  \n",
       "14703          NaN               NaN           35.162792  \n",
       "14705          NaN               NaN          583.354000  \n",
       "14710          NaN               NaN         1206.255700  \n",
       "14712          NaN               NaN         1206.255700  \n",
       "14722          NaN               NaN           35.621470  \n",
       "\n",
       "[5599 rows x 13 columns]"
      ]
     },
     "execution_count": 112,
     "metadata": {},
     "output_type": "execute_result"
    }
   ],
   "source": [
    "# Find duplicates for merged_data_2\n",
    "merged_data_2_dups= merged_data_2[merged_data_2.duplicated]\n",
    "#Print the duplicates\n",
    "merged_data_2_dups"
   ]
  },
  {
   "cell_type": "code",
   "execution_count": 113,
   "id": "5bfa8052",
   "metadata": {},
   "outputs": [],
   "source": [
    "#Deleting duplicates\n",
    "merged_data_2=merged_data_2.drop_duplicates()"
   ]
  },
  {
   "cell_type": "code",
   "execution_count": 114,
   "id": "3b3265a1",
   "metadata": {},
   "outputs": [
    {
     "data": {
      "text/plain": [
       "(20901, 13)"
      ]
     },
     "execution_count": 114,
     "metadata": {},
     "output_type": "execute_result"
    }
   ],
   "source": [
    "merged_data_2.shape"
   ]
  },
  {
   "cell_type": "code",
   "execution_count": 115,
   "id": "e24641da",
   "metadata": {},
   "outputs": [
    {
     "data": {
      "text/plain": [
       "Year                      0\n",
       "Event_type            11776\n",
       "Event_Category        11776\n",
       "Country               11776\n",
       "Country_Code              0\n",
       "Region                11776\n",
       "Continent             11776\n",
       "Number_of_Events      11776\n",
       "Temperature_Change     4831\n",
       "Net_Migration          1973\n",
       "Population             3347\n",
       "Carbon_Emissions       4316\n",
       "Energy_Consumption     7039\n",
       "dtype: int64"
      ]
     },
     "execution_count": 115,
     "metadata": {},
     "output_type": "execute_result"
    }
   ],
   "source": [
    "# Check for missing values\n",
    "merged_data_2.isnull().sum()"
   ]
  },
  {
   "cell_type": "code",
   "execution_count": 116,
   "id": "e621e1df",
   "metadata": {},
   "outputs": [],
   "source": [
    "# Since it is reasonable to assume that not every country experiences a natural disaster every year, the missing values in the 'Number_of_Events' column have been replaced with 0, and the missing values in 'Event_type' and 'Event_Category' with \"No Event\".\n",
    "merged_data_2['Number_of_Events'] = merged_data_2['Number_of_Events'].fillna(0)\n",
    "merged_data_2['Event_type'] = merged_data_2['Event_type'].fillna('No Event')\n",
    "merged_data_2['Event_Category'] = merged_data_2['Event_Category'].fillna('No Event')"
   ]
  },
  {
   "cell_type": "code",
   "execution_count": 117,
   "id": "45194a04",
   "metadata": {},
   "outputs": [
    {
     "data": {
      "text/plain": [
       "Year                      0\n",
       "Event_type                0\n",
       "Event_Category            0\n",
       "Country               11776\n",
       "Country_Code              0\n",
       "Region                11776\n",
       "Continent             11776\n",
       "Number_of_Events          0\n",
       "Temperature_Change     4831\n",
       "Net_Migration          1973\n",
       "Population             3347\n",
       "Carbon_Emissions       4316\n",
       "Energy_Consumption     7039\n",
       "dtype: int64"
      ]
     },
     "execution_count": 117,
     "metadata": {},
     "output_type": "execute_result"
    }
   ],
   "source": [
    "# Verify data input\n",
    "merged_data_2.isnull().sum()"
   ]
  },
  {
   "cell_type": "code",
   "execution_count": 125,
   "id": "2290d295",
   "metadata": {},
   "outputs": [],
   "source": [
    "#Input missing data for 'Country,' 'Region,' and 'Continent' using a country database\n",
    "column_names= ['Country_Code', 'Country', 'Region', 'Continent']\n",
    "\n",
    "# Read the excel file with the country data\n",
    "country_data = pd.read_excel(os.path.join(path, '02 Data', 'Cleaned Data', 'Merged Data Sub', 'countries_data.xlsx'), names=column_names, header=None)\n",
    "\n",
    "# Create a dictionary mapping Country_Code to Country, Region, and Continent\n",
    "country_info_dict = dict(zip(country_data['Country_Code'], country_data[['Country', 'Region', 'Continent']].values.tolist()))"
   ]
  },
  {
   "cell_type": "code",
   "execution_count": 126,
   "id": "c3872ed9",
   "metadata": {},
   "outputs": [
    {
     "data": {
      "text/html": [
       "<div>\n",
       "<style scoped>\n",
       "    .dataframe tbody tr th:only-of-type {\n",
       "        vertical-align: middle;\n",
       "    }\n",
       "\n",
       "    .dataframe tbody tr th {\n",
       "        vertical-align: top;\n",
       "    }\n",
       "\n",
       "    .dataframe thead th {\n",
       "        text-align: right;\n",
       "    }\n",
       "</style>\n",
       "<table border=\"1\" class=\"dataframe\">\n",
       "  <thead>\n",
       "    <tr style=\"text-align: right;\">\n",
       "      <th></th>\n",
       "      <th>Country_Code</th>\n",
       "      <th>Country</th>\n",
       "      <th>Region</th>\n",
       "      <th>Continent</th>\n",
       "    </tr>\n",
       "  </thead>\n",
       "  <tbody>\n",
       "    <tr>\n",
       "      <th>0</th>\n",
       "      <td>Country_Code</td>\n",
       "      <td>Country</td>\n",
       "      <td>Region</td>\n",
       "      <td>Continent</td>\n",
       "    </tr>\n",
       "    <tr>\n",
       "      <th>1</th>\n",
       "      <td>SUN</td>\n",
       "      <td>Soviet Union</td>\n",
       "      <td>Russian Federation</td>\n",
       "      <td>Europe</td>\n",
       "    </tr>\n",
       "    <tr>\n",
       "      <th>2</th>\n",
       "      <td>MAR</td>\n",
       "      <td>Morocco</td>\n",
       "      <td>Northern Africa</td>\n",
       "      <td>Africa</td>\n",
       "    </tr>\n",
       "    <tr>\n",
       "      <th>3</th>\n",
       "      <td>DOM</td>\n",
       "      <td>Dominican Republic (the)</td>\n",
       "      <td>Caribbean</td>\n",
       "      <td>Americas</td>\n",
       "    </tr>\n",
       "    <tr>\n",
       "      <th>4</th>\n",
       "      <td>AGO</td>\n",
       "      <td>Angola</td>\n",
       "      <td>Middle Africa</td>\n",
       "      <td>Africa</td>\n",
       "    </tr>\n",
       "  </tbody>\n",
       "</table>\n",
       "</div>"
      ],
      "text/plain": [
       "   Country_Code                   Country              Region  Continent\n",
       "0  Country_Code                   Country              Region  Continent\n",
       "1           SUN              Soviet Union  Russian Federation     Europe\n",
       "2           MAR                   Morocco     Northern Africa     Africa\n",
       "3           DOM  Dominican Republic (the)           Caribbean   Americas\n",
       "4           AGO                    Angola       Middle Africa     Africa"
      ]
     },
     "execution_count": 126,
     "metadata": {},
     "output_type": "execute_result"
    }
   ],
   "source": [
    "country_data.head()"
   ]
  },
  {
   "cell_type": "code",
   "execution_count": 127,
   "id": "678dbc88",
   "metadata": {},
   "outputs": [],
   "source": [
    "# Define a function to fill missing values in columns 'Country', 'Region', and 'Continent'\n",
    "def fill_missing_info(row):\n",
    "    country_code = row['Country_Code']\n",
    "    if pd.isna(row['Country']):\n",
    "        row['Country'] = country_info_dict.get(country_code, [None, None, None])[0]\n",
    "    if pd.isna(row['Region']):\n",
    "        row['Region'] = country_info_dict.get(country_code, [None, None, None])[1]\n",
    "    if pd.isna(row['Continent']):\n",
    "        row['Continent'] = country_info_dict.get(country_code, [None, None, None])[2]\n",
    "    return row"
   ]
  },
  {
   "cell_type": "code",
   "execution_count": 128,
   "id": "11ab5757",
   "metadata": {},
   "outputs": [],
   "source": [
    "# Apply the function to fill missing values in the dataset\n",
    "merged_data_2 = merged_data_2.apply(fill_missing_info, axis=1)"
   ]
  },
  {
   "cell_type": "code",
   "execution_count": 129,
   "id": "fb015305",
   "metadata": {
    "scrolled": true
   },
   "outputs": [
    {
     "data": {
      "text/plain": [
       "Year                     0\n",
       "Event_type               0\n",
       "Event_Category           0\n",
       "Country                 67\n",
       "Country_Code             0\n",
       "Region                  67\n",
       "Continent               67\n",
       "Number_of_Events         0\n",
       "Temperature_Change    4831\n",
       "Net_Migration         1973\n",
       "Population            3347\n",
       "Carbon_Emissions      4316\n",
       "Energy_Consumption    7039\n",
       "dtype: int64"
      ]
     },
     "execution_count": 129,
     "metadata": {},
     "output_type": "execute_result"
    }
   ],
   "source": [
    "merged_data_2.isnull().sum()"
   ]
  },
  {
   "cell_type": "code",
   "execution_count": 130,
   "id": "58f2c5b7",
   "metadata": {},
   "outputs": [
    {
     "data": {
      "text/plain": [
       "(20901, 13)"
      ]
     },
     "execution_count": 130,
     "metadata": {},
     "output_type": "execute_result"
    }
   ],
   "source": [
    "merged_data_2.shape"
   ]
  },
  {
   "cell_type": "markdown",
   "id": "43d339bc",
   "metadata": {},
   "source": [
    "#### Address Missing Values"
   ]
  },
  {
   "cell_type": "code",
   "execution_count": 131,
   "id": "c40ade9d",
   "metadata": {},
   "outputs": [
    {
     "data": {
      "text/plain": [
       "(148, 6)"
      ]
     },
     "execution_count": 131,
     "metadata": {},
     "output_type": "execute_result"
    }
   ],
   "source": [
    "# Create a boolean mask for missing values in specified columns\n",
    "missing_values_mask = merged_data_2[['Temperature_Change', 'Net_Migration', 'Population', 'Carbon_Emissions', 'Energy_Consumption']].isnull()\n",
    "\n",
    "# Group by 'Country' and 'Country_Code' and count the number of missing values in each column for each country\n",
    "missing_values_per_country = missing_values_mask.groupby([merged_data_2['Country'], merged_data_2['Country_Code']])[['Temperature_Change', 'Net_Migration', 'Population', 'Carbon_Emissions', 'Energy_Consumption']].sum()\n",
    "\n",
    "# Create a new column with the aggregated value of missing values across the specified columns\n",
    "missing_values_per_country['Total_Missing_Values'] = missing_values_per_country.sum(axis=1)\n",
    "\n",
    "# Filter for countries with total missing values above 34\n",
    "filtered_countries = missing_values_per_country[missing_values_per_country['Total_Missing_Values'] >= 34]\n",
    "\n",
    "# Print the resulting DataFrame showing countries with total missing values above 34\n",
    "filtered_countries.shape\n"
   ]
  },
  {
   "cell_type": "code",
   "execution_count": 132,
   "id": "38e54d5d",
   "metadata": {},
   "outputs": [],
   "source": [
    "# Remove rows for countries with more than 34 missing values (representing 10% of total observations per country)\n",
    "# Get the list of countries to be deleted\n",
    "countries_to_delete = filtered_countries.index.get_level_values('Country_Code').tolist()\n",
    "\n",
    "# Delete rows where 'Country_Code' is in the list of countries to be deleted\n",
    "merged_data_2 = merged_data_2[~merged_data_2['Country_Code'].isin(countries_to_delete)]"
   ]
  },
  {
   "cell_type": "code",
   "execution_count": 133,
   "id": "d8294d71",
   "metadata": {},
   "outputs": [
    {
     "data": {
      "text/html": [
       "<div>\n",
       "<style scoped>\n",
       "    .dataframe tbody tr th:only-of-type {\n",
       "        vertical-align: middle;\n",
       "    }\n",
       "\n",
       "    .dataframe tbody tr th {\n",
       "        vertical-align: top;\n",
       "    }\n",
       "\n",
       "    .dataframe thead th {\n",
       "        text-align: right;\n",
       "    }\n",
       "</style>\n",
       "<table border=\"1\" class=\"dataframe\">\n",
       "  <thead>\n",
       "    <tr style=\"text-align: right;\">\n",
       "      <th></th>\n",
       "      <th>Year</th>\n",
       "      <th>Event_type</th>\n",
       "      <th>Event_Category</th>\n",
       "      <th>Country</th>\n",
       "      <th>Country_Code</th>\n",
       "      <th>Region</th>\n",
       "      <th>Continent</th>\n",
       "      <th>Number_of_Events</th>\n",
       "      <th>Temperature_Change</th>\n",
       "      <th>Net_Migration</th>\n",
       "      <th>Population</th>\n",
       "      <th>Carbon_Emissions</th>\n",
       "      <th>Energy_Consumption</th>\n",
       "    </tr>\n",
       "  </thead>\n",
       "  <tbody>\n",
       "    <tr>\n",
       "      <th>0</th>\n",
       "      <td>1965</td>\n",
       "      <td>Geophysical</td>\n",
       "      <td>Earthquake</td>\n",
       "      <td>Indonesia</td>\n",
       "      <td>IDN</td>\n",
       "      <td>South-Eastern Asia</td>\n",
       "      <td>Asia</td>\n",
       "      <td>1.0</td>\n",
       "      <td>-0.190500</td>\n",
       "      <td>-61146.0</td>\n",
       "      <td>100267062.0</td>\n",
       "      <td>24689.911</td>\n",
       "      <td>84.51602</td>\n",
       "    </tr>\n",
       "    <tr>\n",
       "      <th>1</th>\n",
       "      <td>1965</td>\n",
       "      <td>Hydrological</td>\n",
       "      <td>Landslide</td>\n",
       "      <td>Argentina</td>\n",
       "      <td>ARG</td>\n",
       "      <td>South America</td>\n",
       "      <td>Americas</td>\n",
       "      <td>1.0</td>\n",
       "      <td>0.045583</td>\n",
       "      <td>33973.0</td>\n",
       "      <td>22159650.0</td>\n",
       "      <td>58866.351</td>\n",
       "      <td>328.52762</td>\n",
       "    </tr>\n",
       "    <tr>\n",
       "      <th>2</th>\n",
       "      <td>1965</td>\n",
       "      <td>Meteorological</td>\n",
       "      <td>Storm</td>\n",
       "      <td>Bangladesh</td>\n",
       "      <td>BGD</td>\n",
       "      <td>Southern Asia</td>\n",
       "      <td>Asia</td>\n",
       "      <td>3.0</td>\n",
       "      <td>-0.199833</td>\n",
       "      <td>47618.0</td>\n",
       "      <td>55385112.0</td>\n",
       "      <td>19974.149</td>\n",
       "      <td>NaN</td>\n",
       "    </tr>\n",
       "    <tr>\n",
       "      <th>5</th>\n",
       "      <td>1965</td>\n",
       "      <td>Hydrological</td>\n",
       "      <td>Landslide</td>\n",
       "      <td>Bulgaria</td>\n",
       "      <td>BGR</td>\n",
       "      <td>Eastern Europe</td>\n",
       "      <td>Europe</td>\n",
       "      <td>1.0</td>\n",
       "      <td>-0.382333</td>\n",
       "      <td>1838.0</td>\n",
       "      <td>8204168.0</td>\n",
       "      <td>46317.877</td>\n",
       "      <td>119.92565</td>\n",
       "    </tr>\n",
       "    <tr>\n",
       "      <th>6</th>\n",
       "      <td>1965</td>\n",
       "      <td>Meteorological</td>\n",
       "      <td>Storm</td>\n",
       "      <td>Bahamas (the)</td>\n",
       "      <td>BHS</td>\n",
       "      <td>Caribbean</td>\n",
       "      <td>Americas</td>\n",
       "      <td>1.0</td>\n",
       "      <td>-0.014917</td>\n",
       "      <td>2493.0</td>\n",
       "      <td>140059.0</td>\n",
       "      <td>1316.453</td>\n",
       "      <td>NaN</td>\n",
       "    </tr>\n",
       "  </tbody>\n",
       "</table>\n",
       "</div>"
      ],
      "text/plain": [
       "   Year      Event_type Event_Category        Country Country_Code  \\\n",
       "0  1965     Geophysical     Earthquake      Indonesia          IDN   \n",
       "1  1965    Hydrological      Landslide      Argentina          ARG   \n",
       "2  1965  Meteorological          Storm     Bangladesh          BGD   \n",
       "5  1965    Hydrological      Landslide       Bulgaria          BGR   \n",
       "6  1965  Meteorological          Storm  Bahamas (the)          BHS   \n",
       "\n",
       "               Region Continent  Number_of_Events  Temperature_Change  \\\n",
       "0  South-Eastern Asia      Asia               1.0           -0.190500   \n",
       "1       South America  Americas               1.0            0.045583   \n",
       "2       Southern Asia      Asia               3.0           -0.199833   \n",
       "5      Eastern Europe    Europe               1.0           -0.382333   \n",
       "6           Caribbean  Americas               1.0           -0.014917   \n",
       "\n",
       "   Net_Migration   Population  Carbon_Emissions  Energy_Consumption  \n",
       "0       -61146.0  100267062.0         24689.911            84.51602  \n",
       "1        33973.0   22159650.0         58866.351           328.52762  \n",
       "2        47618.0   55385112.0         19974.149                 NaN  \n",
       "5         1838.0    8204168.0         46317.877           119.92565  \n",
       "6         2493.0     140059.0          1316.453                 NaN  "
      ]
     },
     "execution_count": 133,
     "metadata": {},
     "output_type": "execute_result"
    }
   ],
   "source": [
    "# #Reviewing the updated merged_data_2\n",
    "merged_data_2.head()"
   ]
  },
  {
   "cell_type": "code",
   "execution_count": 134,
   "id": "b0972fb9",
   "metadata": {},
   "outputs": [
    {
     "data": {
      "text/plain": [
       "(12559, 13)"
      ]
     },
     "execution_count": 134,
     "metadata": {},
     "output_type": "execute_result"
    }
   ],
   "source": [
    "merged_data_2.shape"
   ]
  },
  {
   "cell_type": "code",
   "execution_count": 135,
   "id": "acd98db8",
   "metadata": {},
   "outputs": [
    {
     "data": {
      "text/plain": [
       "Year                     0\n",
       "Event_type               0\n",
       "Event_Category           0\n",
       "Country                 53\n",
       "Country_Code             0\n",
       "Region                  53\n",
       "Continent               53\n",
       "Number_of_Events         0\n",
       "Temperature_Change      38\n",
       "Net_Migration          226\n",
       "Population             943\n",
       "Carbon_Emissions       711\n",
       "Energy_Consumption    1646\n",
       "dtype: int64"
      ]
     },
     "execution_count": 135,
     "metadata": {},
     "output_type": "execute_result"
    }
   ],
   "source": [
    "merged_data_2.isnull().sum()"
   ]
  },
  {
   "cell_type": "code",
   "execution_count": 141,
   "id": "08324868",
   "metadata": {},
   "outputs": [],
   "source": [
    "# Remove rows corresponding to the following country codes as they are not relevant to the analysis.\n",
    "not_countries = ['AFE', 'AFW', 'ATF', 'CEB', 'EAP', 'EAR', 'EAS', 'ECA', 'ECS', 'EMU', 'EUU', 'FCS', 'HIC', 'HPC', 'IBD', 'IBT', 'IDA', 'IDB', 'IDX', 'INX', 'LAC', 'LCN', 'LDC', 'LIC', 'LMC', 'LMY', 'LTE', 'MEA', 'MIC', 'MNA', 'NAC', 'OED', 'OSS', 'OWID_USS', 'OWID_WRL', 'PRE', 'PSS', 'PST', 'SAS', 'SSA', 'SSF', 'SST', 'TEA', 'TEC', 'TLA', 'TMN', 'TSA', 'TSS', 'UMC', 'WLD','WLF']\n",
    "\n",
    "merged_data_2 = merged_data_2[~merged_data_2['Country_Code'].isin(not_countries)]"
   ]
  },
  {
   "cell_type": "code",
   "execution_count": 142,
   "id": "54a6e363",
   "metadata": {},
   "outputs": [
    {
     "data": {
      "text/plain": [
       "Year                     0\n",
       "Event_type               0\n",
       "Event_Category           0\n",
       "Country                  0\n",
       "Country_Code             0\n",
       "Region                   0\n",
       "Continent                0\n",
       "Number_of_Events         0\n",
       "Temperature_Change      38\n",
       "Net_Migration          168\n",
       "Population             885\n",
       "Carbon_Emissions       653\n",
       "Energy_Consumption    1588\n",
       "dtype: int64"
      ]
     },
     "execution_count": 142,
     "metadata": {},
     "output_type": "execute_result"
    }
   ],
   "source": [
    "merged_data_2.isnull().sum()"
   ]
  },
  {
   "cell_type": "code",
   "execution_count": 143,
   "id": "57490217",
   "metadata": {},
   "outputs": [
    {
     "data": {
      "text/html": [
       "<div>\n",
       "<style scoped>\n",
       "    .dataframe tbody tr th:only-of-type {\n",
       "        vertical-align: middle;\n",
       "    }\n",
       "\n",
       "    .dataframe tbody tr th {\n",
       "        vertical-align: top;\n",
       "    }\n",
       "\n",
       "    .dataframe thead th {\n",
       "        text-align: right;\n",
       "    }\n",
       "</style>\n",
       "<table border=\"1\" class=\"dataframe\">\n",
       "  <thead>\n",
       "    <tr style=\"text-align: right;\">\n",
       "      <th></th>\n",
       "      <th>Year</th>\n",
       "      <th>Event_type</th>\n",
       "      <th>Event_Category</th>\n",
       "      <th>Country</th>\n",
       "      <th>Country_Code</th>\n",
       "      <th>Region</th>\n",
       "      <th>Continent</th>\n",
       "      <th>Number_of_Events</th>\n",
       "      <th>Temperature_Change</th>\n",
       "      <th>Net_Migration</th>\n",
       "      <th>Population</th>\n",
       "      <th>Carbon_Emissions</th>\n",
       "      <th>Energy_Consumption</th>\n",
       "    </tr>\n",
       "  </thead>\n",
       "  <tbody>\n",
       "  </tbody>\n",
       "</table>\n",
       "</div>"
      ],
      "text/plain": [
       "Empty DataFrame\n",
       "Columns: [Year, Event_type, Event_Category, Country, Country_Code, Region, Continent, Number_of_Events, Temperature_Change, Net_Migration, Population, Carbon_Emissions, Energy_Consumption]\n",
       "Index: []"
      ]
     },
     "execution_count": 143,
     "metadata": {},
     "output_type": "execute_result"
    }
   ],
   "source": [
    "# Find duplicates for data_merged_2\n",
    "merged_data_2_dups= merged_data_2[merged_data_2.duplicated]\n",
    "#Print the duplicates\n",
    "merged_data_2_dups"
   ]
  },
  {
   "cell_type": "code",
   "execution_count": 144,
   "id": "59012371",
   "metadata": {},
   "outputs": [
    {
     "data": {
      "text/plain": [
       "(12501, 13)"
      ]
     },
     "execution_count": 144,
     "metadata": {},
     "output_type": "execute_result"
    }
   ],
   "source": [
    "merged_data_2.shape"
   ]
  },
  {
   "cell_type": "markdown",
   "id": "fbc5721d",
   "metadata": {},
   "source": [
    "## 03. Export Final Data Set"
   ]
  },
  {
   "cell_type": "code",
   "execution_count": 140,
   "id": "d4ff202e",
   "metadata": {},
   "outputs": [],
   "source": [
    "merged_data_2.to_csv(os.path.join(path,'02 Data', 'Merged_Data' 'merged_data.csv'))"
   ]
  },
  {
   "cell_type": "code",
   "execution_count": null,
   "id": "e3ae0334",
   "metadata": {},
   "outputs": [],
   "source": []
  }
 ],
 "metadata": {
  "kernelspec": {
   "display_name": "Python 3 (ipykernel)",
   "language": "python",
   "name": "python3"
  },
  "language_info": {
   "codemirror_mode": {
    "name": "ipython",
    "version": 3
   },
   "file_extension": ".py",
   "mimetype": "text/x-python",
   "name": "python",
   "nbconvert_exporter": "python",
   "pygments_lexer": "ipython3",
   "version": "3.10.9"
  }
 },
 "nbformat": 4,
 "nbformat_minor": 5
}
