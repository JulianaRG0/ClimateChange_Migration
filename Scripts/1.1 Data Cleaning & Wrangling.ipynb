{
 "cells": [
  {
   "cell_type": "markdown",
   "id": "499bf442",
   "metadata": {},
   "source": [
    "# Content"
   ]
  },
  {
   "cell_type": "markdown",
   "id": "2c7f7556",
   "metadata": {},
   "source": [
    "### 00. Import Libraries\n",
    "### 01. Import Data Sets\n",
    "### 02. Natural Disasters Data Wrangling \n",
    "### 03.Temperature Changes Data Wrangling \n",
    "### 04. Migration Data Wrangling\n",
    "### 05. Population Data Wrangling\n",
    "### 06. CO2 Emissions Data Wrangling\n",
    "### 07. Energy Consumption Data Wrangling\n",
    "### 08. Export Clean Data"
   ]
  },
  {
   "cell_type": "markdown",
   "id": "297f763b",
   "metadata": {},
   "source": [
    "## 00. Import Libraries"
   ]
  },
  {
   "cell_type": "code",
   "execution_count": 1,
   "id": "908a69d1",
   "metadata": {},
   "outputs": [],
   "source": [
    "# Import libraries\n",
    "import pandas as pd\n",
    "import numpy as np\n",
    "import pycountry\n",
    "import os"
   ]
  },
  {
   "cell_type": "markdown",
   "id": "67a19dca",
   "metadata": {},
   "source": [
    "## 01. Import Data Sets"
   ]
  },
  {
   "cell_type": "code",
   "execution_count": 2,
   "id": "242a9eab",
   "metadata": {},
   "outputs": [],
   "source": [
    "# Create folder path\n",
    "path = r\"C:\\Users\\Juliana\\Documents\\DATA ANALYTICS COURSE\\IMMERSION\\6\""
   ]
  },
  {
   "cell_type": "code",
   "execution_count": 3,
   "id": "a09bbbeb",
   "metadata": {},
   "outputs": [],
   "source": [
    "# Import natural disasters data\n",
    "nat_disasters= pd.read_csv(os.path.join(path,'02 Data','Original Data','1900_2021_DISASTERS.csv'))"
   ]
  },
  {
   "cell_type": "code",
   "execution_count": 4,
   "id": "1b5de11d",
   "metadata": {},
   "outputs": [],
   "source": [
    "# Import temperature changes data\n",
    "temp_change = pd.read_csv(os.path.join(path, '02 Data', 'Original Data', 'Environment_Temperature_change.csv'), encoding='ISO-8859-1')"
   ]
  },
  {
   "cell_type": "code",
   "execution_count": 5,
   "id": "3988b82c",
   "metadata": {},
   "outputs": [],
   "source": [
    "# Import migration data\n",
    "net_migration = pd.read_csv(os.path.join(path, '02 Data', 'Original Data', 'net_migration_by_country.csv'))"
   ]
  },
  {
   "cell_type": "code",
   "execution_count": 6,
   "id": "51a5e7cf",
   "metadata": {},
   "outputs": [],
   "source": [
    "# Import population data\n",
    "population = pd.read_csv(os.path.join(path, '02 Data', 'Original Data', 'migration_population.csv'), delimiter=';')"
   ]
  },
  {
   "cell_type": "code",
   "execution_count": 7,
   "id": "6279c5b8",
   "metadata": {},
   "outputs": [],
   "source": [
    "# Import CO2 emissions data\n",
    "co2_emissions = pd.read_csv(os.path.join(path, '02 Data', 'Original Data', 'co2_emissions.csv'))"
   ]
  },
  {
   "cell_type": "code",
   "execution_count": 8,
   "id": "8ddb54a8",
   "metadata": {},
   "outputs": [],
   "source": [
    "# Import energy consumtion data\n",
    "energy_consumption = pd.read_csv(os.path.join(path, '02 Data', 'Original Data', 'primary-energy-cons (2).csv'))"
   ]
  },
  {
   "cell_type": "markdown",
   "id": "c5d6ddc3",
   "metadata": {},
   "source": [
    "## 02. Natural Disasters Data Wrangling "
   ]
  },
  {
   "cell_type": "code",
   "execution_count": 9,
   "id": "f0b9e740",
   "metadata": {},
   "outputs": [
    {
     "data": {
      "text/plain": [
       "(16126, 45)"
      ]
     },
     "execution_count": 9,
     "metadata": {},
     "output_type": "execute_result"
    }
   ],
   "source": [
    "# Natural Disasters Data Exploration \n",
    "nat_disasters.shape"
   ]
  },
  {
   "cell_type": "code",
   "execution_count": 10,
   "id": "0cf4c4a7",
   "metadata": {},
   "outputs": [
    {
     "data": {
      "text/html": [
       "<div>\n",
       "<style scoped>\n",
       "    .dataframe tbody tr th:only-of-type {\n",
       "        vertical-align: middle;\n",
       "    }\n",
       "\n",
       "    .dataframe tbody tr th {\n",
       "        vertical-align: top;\n",
       "    }\n",
       "\n",
       "    .dataframe thead th {\n",
       "        text-align: right;\n",
       "    }\n",
       "</style>\n",
       "<table border=\"1\" class=\"dataframe\">\n",
       "  <thead>\n",
       "    <tr style=\"text-align: right;\">\n",
       "      <th></th>\n",
       "      <th>Year</th>\n",
       "      <th>Seq</th>\n",
       "      <th>Glide</th>\n",
       "      <th>Disaster Group</th>\n",
       "      <th>Disaster Subgroup</th>\n",
       "      <th>Disaster Type</th>\n",
       "      <th>Disaster Subtype</th>\n",
       "      <th>Disaster Subsubtype</th>\n",
       "      <th>Event Name</th>\n",
       "      <th>Country</th>\n",
       "      <th>...</th>\n",
       "      <th>No Affected</th>\n",
       "      <th>No Homeless</th>\n",
       "      <th>Total Affected</th>\n",
       "      <th>Insured Damages ('000 US$)</th>\n",
       "      <th>Total Damages ('000 US$)</th>\n",
       "      <th>CPI</th>\n",
       "      <th>Adm Level</th>\n",
       "      <th>Admin1 Code</th>\n",
       "      <th>Admin2 Code</th>\n",
       "      <th>Geo Locations</th>\n",
       "    </tr>\n",
       "  </thead>\n",
       "  <tbody>\n",
       "    <tr>\n",
       "      <th>0</th>\n",
       "      <td>1900</td>\n",
       "      <td>9002</td>\n",
       "      <td>NaN</td>\n",
       "      <td>Natural</td>\n",
       "      <td>Climatological</td>\n",
       "      <td>Drought</td>\n",
       "      <td>Drought</td>\n",
       "      <td>NaN</td>\n",
       "      <td>NaN</td>\n",
       "      <td>Cabo Verde</td>\n",
       "      <td>...</td>\n",
       "      <td>NaN</td>\n",
       "      <td>NaN</td>\n",
       "      <td>NaN</td>\n",
       "      <td>NaN</td>\n",
       "      <td>NaN</td>\n",
       "      <td>3.221647</td>\n",
       "      <td>NaN</td>\n",
       "      <td>NaN</td>\n",
       "      <td>NaN</td>\n",
       "      <td>NaN</td>\n",
       "    </tr>\n",
       "    <tr>\n",
       "      <th>1</th>\n",
       "      <td>1900</td>\n",
       "      <td>9001</td>\n",
       "      <td>NaN</td>\n",
       "      <td>Natural</td>\n",
       "      <td>Climatological</td>\n",
       "      <td>Drought</td>\n",
       "      <td>Drought</td>\n",
       "      <td>NaN</td>\n",
       "      <td>NaN</td>\n",
       "      <td>India</td>\n",
       "      <td>...</td>\n",
       "      <td>NaN</td>\n",
       "      <td>NaN</td>\n",
       "      <td>NaN</td>\n",
       "      <td>NaN</td>\n",
       "      <td>NaN</td>\n",
       "      <td>3.221647</td>\n",
       "      <td>NaN</td>\n",
       "      <td>NaN</td>\n",
       "      <td>NaN</td>\n",
       "      <td>NaN</td>\n",
       "    </tr>\n",
       "    <tr>\n",
       "      <th>2</th>\n",
       "      <td>1902</td>\n",
       "      <td>12</td>\n",
       "      <td>NaN</td>\n",
       "      <td>Natural</td>\n",
       "      <td>Geophysical</td>\n",
       "      <td>Earthquake</td>\n",
       "      <td>Ground movement</td>\n",
       "      <td>NaN</td>\n",
       "      <td>NaN</td>\n",
       "      <td>Guatemala</td>\n",
       "      <td>...</td>\n",
       "      <td>NaN</td>\n",
       "      <td>NaN</td>\n",
       "      <td>NaN</td>\n",
       "      <td>NaN</td>\n",
       "      <td>25000.0</td>\n",
       "      <td>3.350513</td>\n",
       "      <td>NaN</td>\n",
       "      <td>NaN</td>\n",
       "      <td>NaN</td>\n",
       "      <td>NaN</td>\n",
       "    </tr>\n",
       "    <tr>\n",
       "      <th>3</th>\n",
       "      <td>1902</td>\n",
       "      <td>3</td>\n",
       "      <td>NaN</td>\n",
       "      <td>Natural</td>\n",
       "      <td>Geophysical</td>\n",
       "      <td>Volcanic activity</td>\n",
       "      <td>Ash fall</td>\n",
       "      <td>NaN</td>\n",
       "      <td>Santa Maria</td>\n",
       "      <td>Guatemala</td>\n",
       "      <td>...</td>\n",
       "      <td>NaN</td>\n",
       "      <td>NaN</td>\n",
       "      <td>NaN</td>\n",
       "      <td>NaN</td>\n",
       "      <td>NaN</td>\n",
       "      <td>3.350513</td>\n",
       "      <td>NaN</td>\n",
       "      <td>NaN</td>\n",
       "      <td>NaN</td>\n",
       "      <td>NaN</td>\n",
       "    </tr>\n",
       "    <tr>\n",
       "      <th>4</th>\n",
       "      <td>1902</td>\n",
       "      <td>10</td>\n",
       "      <td>NaN</td>\n",
       "      <td>Natural</td>\n",
       "      <td>Geophysical</td>\n",
       "      <td>Volcanic activity</td>\n",
       "      <td>Ash fall</td>\n",
       "      <td>NaN</td>\n",
       "      <td>Santa Maria</td>\n",
       "      <td>Guatemala</td>\n",
       "      <td>...</td>\n",
       "      <td>NaN</td>\n",
       "      <td>NaN</td>\n",
       "      <td>NaN</td>\n",
       "      <td>NaN</td>\n",
       "      <td>NaN</td>\n",
       "      <td>3.350513</td>\n",
       "      <td>NaN</td>\n",
       "      <td>NaN</td>\n",
       "      <td>NaN</td>\n",
       "      <td>NaN</td>\n",
       "    </tr>\n",
       "  </tbody>\n",
       "</table>\n",
       "<p>5 rows × 45 columns</p>\n",
       "</div>"
      ],
      "text/plain": [
       "   Year   Seq Glide Disaster Group Disaster Subgroup      Disaster Type  \\\n",
       "0  1900  9002   NaN        Natural    Climatological            Drought   \n",
       "1  1900  9001   NaN        Natural    Climatological            Drought   \n",
       "2  1902    12   NaN        Natural       Geophysical         Earthquake   \n",
       "3  1902     3   NaN        Natural       Geophysical  Volcanic activity   \n",
       "4  1902    10   NaN        Natural       Geophysical  Volcanic activity   \n",
       "\n",
       "  Disaster Subtype Disaster Subsubtype   Event Name     Country  ...  \\\n",
       "0          Drought                 NaN          NaN  Cabo Verde  ...   \n",
       "1          Drought                 NaN          NaN       India  ...   \n",
       "2  Ground movement                 NaN          NaN   Guatemala  ...   \n",
       "3         Ash fall                 NaN  Santa Maria   Guatemala  ...   \n",
       "4         Ash fall                 NaN  Santa Maria   Guatemala  ...   \n",
       "\n",
       "  No Affected No Homeless Total Affected Insured Damages ('000 US$)  \\\n",
       "0         NaN         NaN            NaN                        NaN   \n",
       "1         NaN         NaN            NaN                        NaN   \n",
       "2         NaN         NaN            NaN                        NaN   \n",
       "3         NaN         NaN            NaN                        NaN   \n",
       "4         NaN         NaN            NaN                        NaN   \n",
       "\n",
       "  Total Damages ('000 US$)       CPI Adm Level Admin1 Code Admin2 Code  \\\n",
       "0                      NaN  3.221647       NaN         NaN         NaN   \n",
       "1                      NaN  3.221647       NaN         NaN         NaN   \n",
       "2                  25000.0  3.350513       NaN         NaN         NaN   \n",
       "3                      NaN  3.350513       NaN         NaN         NaN   \n",
       "4                      NaN  3.350513       NaN         NaN         NaN   \n",
       "\n",
       "  Geo Locations  \n",
       "0           NaN  \n",
       "1           NaN  \n",
       "2           NaN  \n",
       "3           NaN  \n",
       "4           NaN  \n",
       "\n",
       "[5 rows x 45 columns]"
      ]
     },
     "execution_count": 10,
     "metadata": {},
     "output_type": "execute_result"
    }
   ],
   "source": [
    "nat_disasters.head()"
   ]
  },
  {
   "cell_type": "code",
   "execution_count": 11,
   "id": "2490d985",
   "metadata": {},
   "outputs": [
    {
     "data": {
      "text/plain": [
       "Index(['Year', 'Seq', 'Glide', 'Disaster Group', 'Disaster Subgroup',\n",
       "       'Disaster Type', 'Disaster Subtype', 'Disaster Subsubtype',\n",
       "       'Event Name', 'Country', 'ISO', 'Region', 'Continent', 'Location',\n",
       "       'Origin', 'Associated Dis', 'Associated Dis2', 'OFDA Response',\n",
       "       'Appeal', 'Declaration', 'Aid Contribution', 'Dis Mag Value',\n",
       "       'Dis Mag Scale', 'Latitude', 'Longitude', 'Local Time', 'River Basin',\n",
       "       'Start Year', 'Start Month', 'Start Day', 'End Year', 'End Month',\n",
       "       'End Day', 'Total Deaths', 'No Injured', 'No Affected', 'No Homeless',\n",
       "       'Total Affected', 'Insured Damages ('000 US$)',\n",
       "       'Total Damages ('000 US$)', 'CPI', 'Adm Level', 'Admin1 Code',\n",
       "       'Admin2 Code', 'Geo Locations'],\n",
       "      dtype='object')"
      ]
     },
     "execution_count": 11,
     "metadata": {},
     "output_type": "execute_result"
    }
   ],
   "source": [
    "nat_disasters.columns"
   ]
  },
  {
   "cell_type": "code",
   "execution_count": 12,
   "id": "957ad5df",
   "metadata": {},
   "outputs": [],
   "source": [
    "# Remove unnecessary or irrelevant columns\n",
    "nat_disasters=nat_disasters.drop(columns = ['Seq', 'Disaster Group','Glide','Associated Dis', 'Associated Dis2', 'OFDA Response',\n",
    "       'Appeal', 'Declaration', 'Aid Contribution', 'River Basin','No Homeless', \"Insured Damages ('000 US$)\",\"Total Damages ('000 US$)\", 'CPI', 'Adm Level', 'Admin1 Code',\n",
    "       'Admin2 Code', 'Geo Locations', 'Start Year', 'Start Month', 'Start Day', 'End Year', 'End Month','End Day'])"
   ]
  },
  {
   "cell_type": "code",
   "execution_count": 13,
   "id": "70593d75",
   "metadata": {},
   "outputs": [
    {
     "data": {
      "text/plain": [
       "Year                       0\n",
       "Disaster Subgroup          0\n",
       "Disaster Type              0\n",
       "Disaster Subtype        3110\n",
       "Disaster Subsubtype    15049\n",
       "Event Name             12265\n",
       "Country                    0\n",
       "ISO                        0\n",
       "Region                     0\n",
       "Continent                  0\n",
       "Location                1792\n",
       "Origin                 12332\n",
       "Dis Mag Value          11180\n",
       "Dis Mag Scale           1190\n",
       "Latitude               13397\n",
       "Longitude              13394\n",
       "Local Time             15023\n",
       "Total Deaths            4713\n",
       "No Injured             12231\n",
       "No Affected             6906\n",
       "Total Affected          4509\n",
       "dtype: int64"
      ]
     },
     "execution_count": 13,
     "metadata": {},
     "output_type": "execute_result"
    }
   ],
   "source": [
    "# Find missing values in nat_disasters\n",
    "nat_disasters.isnull().sum()"
   ]
  },
  {
   "cell_type": "code",
   "execution_count": 14,
   "id": "f35cb3f1",
   "metadata": {},
   "outputs": [],
   "source": [
    "# Remove Columns with Missing Values Exceeding 5%\n",
    "nat_disasters=nat_disasters.drop(columns = ['Disaster Subsubtype','Event Name','Location','Origin','Dis Mag Value','Dis Mag Scale','Latitude','Longitude','Local Time','No Injured','Total Affected'])"
   ]
  },
  {
   "cell_type": "code",
   "execution_count": 15,
   "id": "9c822869",
   "metadata": {},
   "outputs": [],
   "source": [
    "# Format column names\n",
    "nat_disasters.rename(columns={'Disaster Subgroup' : 'Event_type',\n",
    "                       'Disaster Type' : 'Event_Category',\n",
    "                        'ISO' : 'Country_Code',\n",
    "                        'Start Year': 'Start_Year',\n",
    "                        'Start Month': 'Start_Month',\n",
    "                        'Total Deaths':'Total_deaths',\n",
    "                         'No Affected':'No_Affected',\n",
    "                        'End Year':'End_Year',\n",
    "                        'End Month':'End_Month'}, inplace = True)"
   ]
  },
  {
   "cell_type": "code",
   "execution_count": 16,
   "id": "a93f5323",
   "metadata": {},
   "outputs": [
    {
     "data": {
      "text/html": [
       "<div>\n",
       "<style scoped>\n",
       "    .dataframe tbody tr th:only-of-type {\n",
       "        vertical-align: middle;\n",
       "    }\n",
       "\n",
       "    .dataframe tbody tr th {\n",
       "        vertical-align: top;\n",
       "    }\n",
       "\n",
       "    .dataframe thead th {\n",
       "        text-align: right;\n",
       "    }\n",
       "</style>\n",
       "<table border=\"1\" class=\"dataframe\">\n",
       "  <thead>\n",
       "    <tr style=\"text-align: right;\">\n",
       "      <th></th>\n",
       "      <th>Year</th>\n",
       "      <th>Total_deaths</th>\n",
       "      <th>No_Affected</th>\n",
       "    </tr>\n",
       "  </thead>\n",
       "  <tbody>\n",
       "    <tr>\n",
       "      <th>count</th>\n",
       "      <td>16126.000000</td>\n",
       "      <td>1.141300e+04</td>\n",
       "      <td>9.220000e+03</td>\n",
       "    </tr>\n",
       "    <tr>\n",
       "      <th>mean</th>\n",
       "      <td>1996.764790</td>\n",
       "      <td>2.842866e+03</td>\n",
       "      <td>8.823612e+05</td>\n",
       "    </tr>\n",
       "    <tr>\n",
       "      <th>std</th>\n",
       "      <td>20.159065</td>\n",
       "      <td>6.860595e+04</td>\n",
       "      <td>8.573913e+06</td>\n",
       "    </tr>\n",
       "    <tr>\n",
       "      <th>min</th>\n",
       "      <td>1900.000000</td>\n",
       "      <td>1.000000e+00</td>\n",
       "      <td>1.000000e+00</td>\n",
       "    </tr>\n",
       "    <tr>\n",
       "      <th>25%</th>\n",
       "      <td>1989.000000</td>\n",
       "      <td>6.000000e+00</td>\n",
       "      <td>1.244750e+03</td>\n",
       "    </tr>\n",
       "    <tr>\n",
       "      <th>50%</th>\n",
       "      <td>2001.000000</td>\n",
       "      <td>2.000000e+01</td>\n",
       "      <td>1.000000e+04</td>\n",
       "    </tr>\n",
       "    <tr>\n",
       "      <th>75%</th>\n",
       "      <td>2011.000000</td>\n",
       "      <td>6.300000e+01</td>\n",
       "      <td>9.182300e+04</td>\n",
       "    </tr>\n",
       "    <tr>\n",
       "      <th>max</th>\n",
       "      <td>2021.000000</td>\n",
       "      <td>3.700000e+06</td>\n",
       "      <td>3.300000e+08</td>\n",
       "    </tr>\n",
       "  </tbody>\n",
       "</table>\n",
       "</div>"
      ],
      "text/plain": [
       "               Year  Total_deaths   No_Affected\n",
       "count  16126.000000  1.141300e+04  9.220000e+03\n",
       "mean    1996.764790  2.842866e+03  8.823612e+05\n",
       "std       20.159065  6.860595e+04  8.573913e+06\n",
       "min     1900.000000  1.000000e+00  1.000000e+00\n",
       "25%     1989.000000  6.000000e+00  1.244750e+03\n",
       "50%     2001.000000  2.000000e+01  1.000000e+04\n",
       "75%     2011.000000  6.300000e+01  9.182300e+04\n",
       "max     2021.000000  3.700000e+06  3.300000e+08"
      ]
     },
     "execution_count": 16,
     "metadata": {},
     "output_type": "execute_result"
    }
   ],
   "source": [
    "# Generate descriptive statistics for nat_disasters\"\n",
    "nat_disasters.describe()"
   ]
  },
  {
   "cell_type": "code",
   "execution_count": 17,
   "id": "af3c91eb",
   "metadata": {},
   "outputs": [
    {
     "data": {
      "text/html": [
       "<div>\n",
       "<style scoped>\n",
       "    .dataframe tbody tr th:only-of-type {\n",
       "        vertical-align: middle;\n",
       "    }\n",
       "\n",
       "    .dataframe tbody tr th {\n",
       "        vertical-align: top;\n",
       "    }\n",
       "\n",
       "    .dataframe thead th {\n",
       "        text-align: right;\n",
       "    }\n",
       "</style>\n",
       "<table border=\"1\" class=\"dataframe\">\n",
       "  <thead>\n",
       "    <tr style=\"text-align: right;\">\n",
       "      <th></th>\n",
       "      <th>Year</th>\n",
       "      <th>Event_type</th>\n",
       "      <th>Event_Category</th>\n",
       "      <th>Disaster Subtype</th>\n",
       "      <th>Country</th>\n",
       "      <th>Country_Code</th>\n",
       "      <th>Region</th>\n",
       "      <th>Continent</th>\n",
       "      <th>Total_deaths</th>\n",
       "      <th>No_Affected</th>\n",
       "    </tr>\n",
       "  </thead>\n",
       "  <tbody>\n",
       "    <tr>\n",
       "      <th>508</th>\n",
       "      <td>1969</td>\n",
       "      <td>Climatological</td>\n",
       "      <td>Wildfire</td>\n",
       "      <td>Land fire (Brush, Bush, Pasture)</td>\n",
       "      <td>Hong Kong</td>\n",
       "      <td>HKG</td>\n",
       "      <td>Eastern Asia</td>\n",
       "      <td>Asia</td>\n",
       "      <td>NaN</td>\n",
       "      <td>NaN</td>\n",
       "    </tr>\n",
       "    <tr>\n",
       "      <th>550</th>\n",
       "      <td>1970</td>\n",
       "      <td>Climatological</td>\n",
       "      <td>Wildfire</td>\n",
       "      <td>Land fire (Brush, Bush, Pasture)</td>\n",
       "      <td>Hong Kong</td>\n",
       "      <td>HKG</td>\n",
       "      <td>Eastern Asia</td>\n",
       "      <td>Asia</td>\n",
       "      <td>NaN</td>\n",
       "      <td>NaN</td>\n",
       "    </tr>\n",
       "    <tr>\n",
       "      <th>579</th>\n",
       "      <td>1971</td>\n",
       "      <td>Climatological</td>\n",
       "      <td>Wildfire</td>\n",
       "      <td>Land fire (Brush, Bush, Pasture)</td>\n",
       "      <td>Hong Kong</td>\n",
       "      <td>HKG</td>\n",
       "      <td>Eastern Asia</td>\n",
       "      <td>Asia</td>\n",
       "      <td>NaN</td>\n",
       "      <td>NaN</td>\n",
       "    </tr>\n",
       "    <tr>\n",
       "      <th>596</th>\n",
       "      <td>1972</td>\n",
       "      <td>Climatological</td>\n",
       "      <td>Wildfire</td>\n",
       "      <td>Land fire (Brush, Bush, Pasture)</td>\n",
       "      <td>Hong Kong</td>\n",
       "      <td>HKG</td>\n",
       "      <td>Eastern Asia</td>\n",
       "      <td>Asia</td>\n",
       "      <td>NaN</td>\n",
       "      <td>NaN</td>\n",
       "    </tr>\n",
       "    <tr>\n",
       "      <th>597</th>\n",
       "      <td>1972</td>\n",
       "      <td>Climatological</td>\n",
       "      <td>Wildfire</td>\n",
       "      <td>Land fire (Brush, Bush, Pasture)</td>\n",
       "      <td>Hong Kong</td>\n",
       "      <td>HKG</td>\n",
       "      <td>Eastern Asia</td>\n",
       "      <td>Asia</td>\n",
       "      <td>NaN</td>\n",
       "      <td>NaN</td>\n",
       "    </tr>\n",
       "    <tr>\n",
       "      <th>...</th>\n",
       "      <td>...</td>\n",
       "      <td>...</td>\n",
       "      <td>...</td>\n",
       "      <td>...</td>\n",
       "      <td>...</td>\n",
       "      <td>...</td>\n",
       "      <td>...</td>\n",
       "      <td>...</td>\n",
       "      <td>...</td>\n",
       "      <td>...</td>\n",
       "    </tr>\n",
       "    <tr>\n",
       "      <th>16044</th>\n",
       "      <td>2020</td>\n",
       "      <td>Meteorological</td>\n",
       "      <td>Storm</td>\n",
       "      <td>Convective storm</td>\n",
       "      <td>United States of America (the)</td>\n",
       "      <td>USA</td>\n",
       "      <td>Northern America</td>\n",
       "      <td>Americas</td>\n",
       "      <td>NaN</td>\n",
       "      <td>NaN</td>\n",
       "    </tr>\n",
       "    <tr>\n",
       "      <th>16046</th>\n",
       "      <td>2020</td>\n",
       "      <td>Meteorological</td>\n",
       "      <td>Storm</td>\n",
       "      <td>Convective storm</td>\n",
       "      <td>United States of America (the)</td>\n",
       "      <td>USA</td>\n",
       "      <td>Northern America</td>\n",
       "      <td>Americas</td>\n",
       "      <td>NaN</td>\n",
       "      <td>NaN</td>\n",
       "    </tr>\n",
       "    <tr>\n",
       "      <th>16075</th>\n",
       "      <td>2021</td>\n",
       "      <td>Meteorological</td>\n",
       "      <td>Storm</td>\n",
       "      <td>Convective storm</td>\n",
       "      <td>United States of America (the)</td>\n",
       "      <td>USA</td>\n",
       "      <td>Northern America</td>\n",
       "      <td>Americas</td>\n",
       "      <td>3.0</td>\n",
       "      <td>NaN</td>\n",
       "    </tr>\n",
       "    <tr>\n",
       "      <th>16085</th>\n",
       "      <td>2021</td>\n",
       "      <td>Meteorological</td>\n",
       "      <td>Storm</td>\n",
       "      <td>Convective storm</td>\n",
       "      <td>United States of America (the)</td>\n",
       "      <td>USA</td>\n",
       "      <td>Northern America</td>\n",
       "      <td>Americas</td>\n",
       "      <td>3.0</td>\n",
       "      <td>NaN</td>\n",
       "    </tr>\n",
       "    <tr>\n",
       "      <th>16107</th>\n",
       "      <td>2021</td>\n",
       "      <td>Climatological</td>\n",
       "      <td>Wildfire</td>\n",
       "      <td>Forest fire</td>\n",
       "      <td>United States of America (the)</td>\n",
       "      <td>USA</td>\n",
       "      <td>Northern America</td>\n",
       "      <td>Americas</td>\n",
       "      <td>NaN</td>\n",
       "      <td>NaN</td>\n",
       "    </tr>\n",
       "  </tbody>\n",
       "</table>\n",
       "<p>322 rows × 10 columns</p>\n",
       "</div>"
      ],
      "text/plain": [
       "       Year      Event_type Event_Category                  Disaster Subtype  \\\n",
       "508    1969  Climatological       Wildfire  Land fire (Brush, Bush, Pasture)   \n",
       "550    1970  Climatological       Wildfire  Land fire (Brush, Bush, Pasture)   \n",
       "579    1971  Climatological       Wildfire  Land fire (Brush, Bush, Pasture)   \n",
       "596    1972  Climatological       Wildfire  Land fire (Brush, Bush, Pasture)   \n",
       "597    1972  Climatological       Wildfire  Land fire (Brush, Bush, Pasture)   \n",
       "...     ...             ...            ...                               ...   \n",
       "16044  2020  Meteorological          Storm                  Convective storm   \n",
       "16046  2020  Meteorological          Storm                  Convective storm   \n",
       "16075  2021  Meteorological          Storm                  Convective storm   \n",
       "16085  2021  Meteorological          Storm                  Convective storm   \n",
       "16107  2021  Climatological       Wildfire                       Forest fire   \n",
       "\n",
       "                              Country Country_Code            Region  \\\n",
       "508                         Hong Kong          HKG      Eastern Asia   \n",
       "550                         Hong Kong          HKG      Eastern Asia   \n",
       "579                         Hong Kong          HKG      Eastern Asia   \n",
       "596                         Hong Kong          HKG      Eastern Asia   \n",
       "597                         Hong Kong          HKG      Eastern Asia   \n",
       "...                               ...          ...               ...   \n",
       "16044  United States of America (the)          USA  Northern America   \n",
       "16046  United States of America (the)          USA  Northern America   \n",
       "16075  United States of America (the)          USA  Northern America   \n",
       "16085  United States of America (the)          USA  Northern America   \n",
       "16107  United States of America (the)          USA  Northern America   \n",
       "\n",
       "      Continent  Total_deaths  No_Affected  \n",
       "508        Asia           NaN          NaN  \n",
       "550        Asia           NaN          NaN  \n",
       "579        Asia           NaN          NaN  \n",
       "596        Asia           NaN          NaN  \n",
       "597        Asia           NaN          NaN  \n",
       "...         ...           ...          ...  \n",
       "16044  Americas           NaN          NaN  \n",
       "16046  Americas           NaN          NaN  \n",
       "16075  Americas           3.0          NaN  \n",
       "16085  Americas           3.0          NaN  \n",
       "16107  Americas           NaN          NaN  \n",
       "\n",
       "[322 rows x 10 columns]"
      ]
     },
     "execution_count": 17,
     "metadata": {},
     "output_type": "execute_result"
    }
   ],
   "source": [
    "# Identify duplicates in nat_disasters\n",
    "nat_disasters_dups= nat_disasters[nat_disasters.duplicated]\n",
    "#Print the duplicates\n",
    "nat_disasters_dups"
   ]
  },
  {
   "cell_type": "code",
   "execution_count": 18,
   "id": "ab5d35ec",
   "metadata": {},
   "outputs": [
    {
     "data": {
      "text/plain": [
       "(16126, 10)"
      ]
     },
     "execution_count": 18,
     "metadata": {},
     "output_type": "execute_result"
    }
   ],
   "source": [
    "# Addressing duplicates\n",
    "nat_disasters.shape"
   ]
  },
  {
   "cell_type": "code",
   "execution_count": 19,
   "id": "a0bf9523",
   "metadata": {},
   "outputs": [],
   "source": [
    "#Deleting duplicates\n",
    "nat_disasters=nat_disasters.drop_duplicates()"
   ]
  },
  {
   "cell_type": "code",
   "execution_count": 20,
   "id": "620a9bf2",
   "metadata": {},
   "outputs": [
    {
     "data": {
      "text/plain": [
       "(15804, 10)"
      ]
     },
     "execution_count": 20,
     "metadata": {},
     "output_type": "execute_result"
    }
   ],
   "source": [
    "#Reviewing the updated dataFrame\n",
    "nat_disasters.shape"
   ]
  },
  {
   "cell_type": "code",
   "execution_count": 21,
   "id": "99c92559",
   "metadata": {},
   "outputs": [
    {
     "name": "stdout",
     "output_type": "stream",
     "text": [
      "Disaster Subtype\n"
     ]
    }
   ],
   "source": [
    "#Inspect for mixed data types\n",
    "for col in nat_disasters.columns.tolist():\n",
    "  weird = (nat_disasters[[col]].applymap(type) != nat_disasters[[col]].iloc[0].apply(type)).any(axis = 1)\n",
    "  if len (nat_disasters[weird]) > 0:\n",
    "    print (col)"
   ]
  },
  {
   "cell_type": "code",
   "execution_count": 22,
   "id": "5b86d0eb",
   "metadata": {},
   "outputs": [],
   "source": [
    "#Convert 'Disaster Subtype' to string \n",
    "nat_disasters.loc[:, 'Disaster Subtype'] = nat_disasters['Disaster Subtype'].astype(str)"
   ]
  },
  {
   "cell_type": "code",
   "execution_count": 23,
   "id": "fc170944",
   "metadata": {},
   "outputs": [],
   "source": [
    "# Filtering nat_disasters to include only values from 1965 to maintain consistency with other datasets\n",
    "nat_disasters_filtered = nat_disasters[nat_disasters['Year'] >= 1965]"
   ]
  },
  {
   "cell_type": "code",
   "execution_count": 24,
   "id": "6548c42f",
   "metadata": {},
   "outputs": [
    {
     "data": {
      "text/html": [
       "<div>\n",
       "<style scoped>\n",
       "    .dataframe tbody tr th:only-of-type {\n",
       "        vertical-align: middle;\n",
       "    }\n",
       "\n",
       "    .dataframe tbody tr th {\n",
       "        vertical-align: top;\n",
       "    }\n",
       "\n",
       "    .dataframe thead th {\n",
       "        text-align: right;\n",
       "    }\n",
       "</style>\n",
       "<table border=\"1\" class=\"dataframe\">\n",
       "  <thead>\n",
       "    <tr style=\"text-align: right;\">\n",
       "      <th></th>\n",
       "      <th>Year</th>\n",
       "      <th>Total_deaths</th>\n",
       "      <th>No_Affected</th>\n",
       "    </tr>\n",
       "  </thead>\n",
       "  <tbody>\n",
       "    <tr>\n",
       "      <th>count</th>\n",
       "      <td>14724.000000</td>\n",
       "      <td>1.042300e+04</td>\n",
       "      <td>9.061000e+03</td>\n",
       "    </tr>\n",
       "    <tr>\n",
       "      <th>mean</th>\n",
       "      <td>2000.788509</td>\n",
       "      <td>5.100138e+02</td>\n",
       "      <td>8.867238e+05</td>\n",
       "    </tr>\n",
       "    <tr>\n",
       "      <th>std</th>\n",
       "      <td>13.567642</td>\n",
       "      <td>1.603767e+04</td>\n",
       "      <td>8.642699e+06</td>\n",
       "    </tr>\n",
       "    <tr>\n",
       "      <th>min</th>\n",
       "      <td>1965.000000</td>\n",
       "      <td>1.000000e+00</td>\n",
       "      <td>1.000000e+00</td>\n",
       "    </tr>\n",
       "    <tr>\n",
       "      <th>25%</th>\n",
       "      <td>1992.000000</td>\n",
       "      <td>5.000000e+00</td>\n",
       "      <td>1.200000e+03</td>\n",
       "    </tr>\n",
       "    <tr>\n",
       "      <th>50%</th>\n",
       "      <td>2003.000000</td>\n",
       "      <td>1.700000e+01</td>\n",
       "      <td>1.000000e+04</td>\n",
       "    </tr>\n",
       "    <tr>\n",
       "      <th>75%</th>\n",
       "      <td>2011.000000</td>\n",
       "      <td>5.200000e+01</td>\n",
       "      <td>9.000000e+04</td>\n",
       "    </tr>\n",
       "    <tr>\n",
       "      <th>max</th>\n",
       "      <td>2021.000000</td>\n",
       "      <td>1.500000e+06</td>\n",
       "      <td>3.300000e+08</td>\n",
       "    </tr>\n",
       "  </tbody>\n",
       "</table>\n",
       "</div>"
      ],
      "text/plain": [
       "               Year  Total_deaths   No_Affected\n",
       "count  14724.000000  1.042300e+04  9.061000e+03\n",
       "mean    2000.788509  5.100138e+02  8.867238e+05\n",
       "std       13.567642  1.603767e+04  8.642699e+06\n",
       "min     1965.000000  1.000000e+00  1.000000e+00\n",
       "25%     1992.000000  5.000000e+00  1.200000e+03\n",
       "50%     2003.000000  1.700000e+01  1.000000e+04\n",
       "75%     2011.000000  5.200000e+01  9.000000e+04\n",
       "max     2021.000000  1.500000e+06  3.300000e+08"
      ]
     },
     "execution_count": 24,
     "metadata": {},
     "output_type": "execute_result"
    }
   ],
   "source": [
    "# Validate filtered data\n",
    "nat_disasters_filtered.describe()"
   ]
  },
  {
   "cell_type": "code",
   "execution_count": 25,
   "id": "6d5f5082",
   "metadata": {},
   "outputs": [
    {
     "data": {
      "text/plain": [
       "Year                   0\n",
       "Event_type             0\n",
       "Event_Category         0\n",
       "Disaster Subtype       0\n",
       "Country                0\n",
       "Country_Code           0\n",
       "Region                 0\n",
       "Continent              0\n",
       "Total_deaths        4301\n",
       "No_Affected         5663\n",
       "dtype: int64"
      ]
     },
     "execution_count": 25,
     "metadata": {},
     "output_type": "execute_result"
    }
   ],
   "source": [
    "# Check for missing values\n",
    "nat_disasters_filtered.isnull().sum()"
   ]
  },
  {
   "cell_type": "markdown",
   "id": "e3180022",
   "metadata": {},
   "source": [
    "The columns 'Total_deaths' and 'No_Affected' have been kept due to their potential relevance for future analysis, even if incomplete."
   ]
  },
  {
   "cell_type": "markdown",
   "id": "e42f3a24",
   "metadata": {},
   "source": [
    "## 03.Temperature Changes Data Wrangling "
   ]
  },
  {
   "cell_type": "code",
   "execution_count": 26,
   "id": "2c9bc6b5",
   "metadata": {},
   "outputs": [
    {
     "data": {
      "text/plain": [
       "(554098, 12)"
      ]
     },
     "execution_count": 26,
     "metadata": {},
     "output_type": "execute_result"
    }
   ],
   "source": [
    "# Temperature changes data exploration \n",
    "temp_change.shape"
   ]
  },
  {
   "cell_type": "code",
   "execution_count": 27,
   "id": "373e6702",
   "metadata": {},
   "outputs": [
    {
     "data": {
      "text/html": [
       "<div>\n",
       "<style scoped>\n",
       "    .dataframe tbody tr th:only-of-type {\n",
       "        vertical-align: middle;\n",
       "    }\n",
       "\n",
       "    .dataframe tbody tr th {\n",
       "        vertical-align: top;\n",
       "    }\n",
       "\n",
       "    .dataframe thead th {\n",
       "        text-align: right;\n",
       "    }\n",
       "</style>\n",
       "<table border=\"1\" class=\"dataframe\">\n",
       "  <thead>\n",
       "    <tr style=\"text-align: right;\">\n",
       "      <th></th>\n",
       "      <th>Area Code</th>\n",
       "      <th>Area Code (M49)</th>\n",
       "      <th>Area</th>\n",
       "      <th>Months Code</th>\n",
       "      <th>Months</th>\n",
       "      <th>Element Code</th>\n",
       "      <th>Element</th>\n",
       "      <th>Year Code</th>\n",
       "      <th>Year</th>\n",
       "      <th>Unit</th>\n",
       "      <th>Value</th>\n",
       "      <th>Flag</th>\n",
       "    </tr>\n",
       "  </thead>\n",
       "  <tbody>\n",
       "    <tr>\n",
       "      <th>0</th>\n",
       "      <td>2</td>\n",
       "      <td>'004</td>\n",
       "      <td>Afghanistan</td>\n",
       "      <td>7001</td>\n",
       "      <td>January</td>\n",
       "      <td>7271</td>\n",
       "      <td>Temperature change</td>\n",
       "      <td>1961</td>\n",
       "      <td>1961</td>\n",
       "      <td>°C</td>\n",
       "      <td>0.756</td>\n",
       "      <td>E</td>\n",
       "    </tr>\n",
       "    <tr>\n",
       "      <th>1</th>\n",
       "      <td>2</td>\n",
       "      <td>'004</td>\n",
       "      <td>Afghanistan</td>\n",
       "      <td>7001</td>\n",
       "      <td>January</td>\n",
       "      <td>7271</td>\n",
       "      <td>Temperature change</td>\n",
       "      <td>1962</td>\n",
       "      <td>1962</td>\n",
       "      <td>°C</td>\n",
       "      <td>0.030</td>\n",
       "      <td>E</td>\n",
       "    </tr>\n",
       "    <tr>\n",
       "      <th>2</th>\n",
       "      <td>2</td>\n",
       "      <td>'004</td>\n",
       "      <td>Afghanistan</td>\n",
       "      <td>7001</td>\n",
       "      <td>January</td>\n",
       "      <td>7271</td>\n",
       "      <td>Temperature change</td>\n",
       "      <td>1963</td>\n",
       "      <td>1963</td>\n",
       "      <td>°C</td>\n",
       "      <td>2.716</td>\n",
       "      <td>E</td>\n",
       "    </tr>\n",
       "    <tr>\n",
       "      <th>3</th>\n",
       "      <td>2</td>\n",
       "      <td>'004</td>\n",
       "      <td>Afghanistan</td>\n",
       "      <td>7001</td>\n",
       "      <td>January</td>\n",
       "      <td>7271</td>\n",
       "      <td>Temperature change</td>\n",
       "      <td>1964</td>\n",
       "      <td>1964</td>\n",
       "      <td>°C</td>\n",
       "      <td>-5.260</td>\n",
       "      <td>E</td>\n",
       "    </tr>\n",
       "    <tr>\n",
       "      <th>4</th>\n",
       "      <td>2</td>\n",
       "      <td>'004</td>\n",
       "      <td>Afghanistan</td>\n",
       "      <td>7001</td>\n",
       "      <td>January</td>\n",
       "      <td>7271</td>\n",
       "      <td>Temperature change</td>\n",
       "      <td>1965</td>\n",
       "      <td>1965</td>\n",
       "      <td>°C</td>\n",
       "      <td>1.834</td>\n",
       "      <td>E</td>\n",
       "    </tr>\n",
       "  </tbody>\n",
       "</table>\n",
       "</div>"
      ],
      "text/plain": [
       "   Area Code Area Code (M49)         Area  Months Code   Months  Element Code  \\\n",
       "0          2            '004  Afghanistan         7001  January          7271   \n",
       "1          2            '004  Afghanistan         7001  January          7271   \n",
       "2          2            '004  Afghanistan         7001  January          7271   \n",
       "3          2            '004  Afghanistan         7001  January          7271   \n",
       "4          2            '004  Afghanistan         7001  January          7271   \n",
       "\n",
       "              Element  Year Code  Year Unit  Value Flag  \n",
       "0  Temperature change       1961  1961   °C  0.756    E  \n",
       "1  Temperature change       1962  1962   °C  0.030    E  \n",
       "2  Temperature change       1963  1963   °C  2.716    E  \n",
       "3  Temperature change       1964  1964   °C -5.260    E  \n",
       "4  Temperature change       1965  1965   °C  1.834    E  "
      ]
     },
     "execution_count": 27,
     "metadata": {},
     "output_type": "execute_result"
    }
   ],
   "source": [
    "temp_change.head()"
   ]
  },
  {
   "cell_type": "code",
   "execution_count": 28,
   "id": "c4bd5aa7",
   "metadata": {},
   "outputs": [],
   "source": [
    "# Remove unnecessary or irrelevant columns\n",
    "temp_change=temp_change.drop(columns = ['Area Code','Area Code (M49)', 'Months Code','Element Code',  'Year Code','Unit', 'Flag'])"
   ]
  },
  {
   "cell_type": "code",
   "execution_count": 29,
   "id": "98ea28e0",
   "metadata": {},
   "outputs": [],
   "source": [
    "# Create a new column containing ISO codes for each country to ensure consistency with other datasets.\n",
    "# Function to get ISO country code\n",
    "def get_country_code(country_name):\n",
    "    try:\n",
    "        country_obj = pycountry.countries.get(name=country_name)\n",
    "        return country_obj.alpha_3\n",
    "    except AttributeError:\n",
    "        return None\n",
    "\n",
    "# Add 'Country_Code' column to the DataFrame\n",
    "temp_change['Country_Code'] = temp_change['Area'].apply(get_country_code)"
   ]
  },
  {
   "cell_type": "code",
   "execution_count": 30,
   "id": "df2ab49e",
   "metadata": {},
   "outputs": [
    {
     "data": {
      "text/html": [
       "<div>\n",
       "<style scoped>\n",
       "    .dataframe tbody tr th:only-of-type {\n",
       "        vertical-align: middle;\n",
       "    }\n",
       "\n",
       "    .dataframe tbody tr th {\n",
       "        vertical-align: top;\n",
       "    }\n",
       "\n",
       "    .dataframe thead th {\n",
       "        text-align: right;\n",
       "    }\n",
       "</style>\n",
       "<table border=\"1\" class=\"dataframe\">\n",
       "  <thead>\n",
       "    <tr style=\"text-align: right;\">\n",
       "      <th></th>\n",
       "      <th>Area</th>\n",
       "      <th>Months</th>\n",
       "      <th>Element</th>\n",
       "      <th>Year</th>\n",
       "      <th>Value</th>\n",
       "      <th>Country_Code</th>\n",
       "    </tr>\n",
       "  </thead>\n",
       "  <tbody>\n",
       "    <tr>\n",
       "      <th>0</th>\n",
       "      <td>Afghanistan</td>\n",
       "      <td>January</td>\n",
       "      <td>Temperature change</td>\n",
       "      <td>1961</td>\n",
       "      <td>0.756</td>\n",
       "      <td>AFG</td>\n",
       "    </tr>\n",
       "    <tr>\n",
       "      <th>1</th>\n",
       "      <td>Afghanistan</td>\n",
       "      <td>January</td>\n",
       "      <td>Temperature change</td>\n",
       "      <td>1962</td>\n",
       "      <td>0.030</td>\n",
       "      <td>AFG</td>\n",
       "    </tr>\n",
       "    <tr>\n",
       "      <th>2</th>\n",
       "      <td>Afghanistan</td>\n",
       "      <td>January</td>\n",
       "      <td>Temperature change</td>\n",
       "      <td>1963</td>\n",
       "      <td>2.716</td>\n",
       "      <td>AFG</td>\n",
       "    </tr>\n",
       "    <tr>\n",
       "      <th>3</th>\n",
       "      <td>Afghanistan</td>\n",
       "      <td>January</td>\n",
       "      <td>Temperature change</td>\n",
       "      <td>1964</td>\n",
       "      <td>-5.260</td>\n",
       "      <td>AFG</td>\n",
       "    </tr>\n",
       "    <tr>\n",
       "      <th>4</th>\n",
       "      <td>Afghanistan</td>\n",
       "      <td>January</td>\n",
       "      <td>Temperature change</td>\n",
       "      <td>1965</td>\n",
       "      <td>1.834</td>\n",
       "      <td>AFG</td>\n",
       "    </tr>\n",
       "  </tbody>\n",
       "</table>\n",
       "</div>"
      ],
      "text/plain": [
       "          Area   Months             Element  Year  Value Country_Code\n",
       "0  Afghanistan  January  Temperature change  1961  0.756          AFG\n",
       "1  Afghanistan  January  Temperature change  1962  0.030          AFG\n",
       "2  Afghanistan  January  Temperature change  1963  2.716          AFG\n",
       "3  Afghanistan  January  Temperature change  1964 -5.260          AFG\n",
       "4  Afghanistan  January  Temperature change  1965  1.834          AFG"
      ]
     },
     "execution_count": 30,
     "metadata": {},
     "output_type": "execute_result"
    }
   ],
   "source": [
    "# Print the updated DataFrame\n",
    "temp_change.head()"
   ]
  },
  {
   "cell_type": "code",
   "execution_count": 31,
   "id": "420e860e",
   "metadata": {},
   "outputs": [],
   "source": [
    "# Format column names\n",
    "temp_change.rename(columns={'Area':'Country',\n",
    "                            'Value' : 'Temperature_Change'}, inplace = True)"
   ]
  },
  {
   "cell_type": "code",
   "execution_count": 32,
   "id": "e2477b59",
   "metadata": {},
   "outputs": [
    {
     "data": {
      "text/plain": [
       "Country                    0\n",
       "Months                     0\n",
       "Element                    0\n",
       "Year                       0\n",
       "Temperature_Change     37659\n",
       "Country_Code          139570\n",
       "dtype: int64"
      ]
     },
     "execution_count": 32,
     "metadata": {},
     "output_type": "execute_result"
    }
   ],
   "source": [
    "# Find missing values in temp_change\n",
    "temp_change.isnull().sum()"
   ]
  },
  {
   "cell_type": "code",
   "execution_count": 33,
   "id": "6e232d04",
   "metadata": {},
   "outputs": [],
   "source": [
    "# Create a df with the missing country codes to investigate further\n",
    "missing_cc = temp_change[pd.isnull(temp_change['Country_Code'])]\n",
    "\n",
    "#Export missing_cc\n",
    "missing_cc.to_csv(os.path.join(path,'02 Data','Cleaned Data', 'missing_cc.csv'))"
   ]
  },
  {
   "cell_type": "markdown",
   "id": "ba19a0eb",
   "metadata": {},
   "source": [
    "The missing values in the 'Country_Code' column refer to country groups or continents such as Africa, Americas, Asia, and specific entities like Hong Kong SAR. These groups include various countries, and there are no specific codes because of their diverse nature. Also, some countries in these groups do not exist anymore."
   ]
  },
  {
   "cell_type": "code",
   "execution_count": 34,
   "id": "8a844aa0",
   "metadata": {},
   "outputs": [
    {
     "name": "stderr",
     "output_type": "stream",
     "text": [
      "C:\\Users\\Juliana\\AppData\\Local\\Temp\\ipykernel_22600\\4197805029.py:32: SettingWithCopyWarning: \n",
      "A value is trying to be set on a copy of a slice from a DataFrame.\n",
      "Try using .loc[row_indexer,col_indexer] = value instead\n",
      "\n",
      "See the caveats in the documentation: https://pandas.pydata.org/pandas-docs/stable/user_guide/indexing.html#returning-a-view-versus-a-copy\n",
      "  subset_missing_country_codes['Country_Code'] = subset_missing_country_codes['Country'].map(country_code_mapping)\n"
     ]
    }
   ],
   "source": [
    "# Create a subset where 'Country_Code' is missing\n",
    "subset_missing_country_codes = temp_change[temp_change['Country_Code'].isnull()]\n",
    "\n",
    "# Manually add missing 'Country_Code' values based on the mapping dictionary\n",
    "country_code_mapping = {\n",
    "    'Bolivia (Plurinational State of)': 'BOL',\n",
    "    'British Virgin Islands': 'VGB',\n",
    "    'China, mainland': 'CHN',\n",
    "    'Czechoslovakia': 'CSK',\n",
    "    'Democratic People\\'s Republic of Korea': 'PRK',\n",
    "    'Democratic Republic of the Congo': 'COD',\n",
    "    'Ethiopia PDR': 'ETH',\n",
    "    'Iran (Islamic Republic of)': 'IRN',\n",
    "    'Micronesia (Federated States of)': 'FSM',\n",
    "    'Netherlands Antilles (former)': 'ANT',\n",
    "    'Palestine': 'PSE',\n",
    "    'Polynesia': 'PYF',\n",
    "    'Republic of Korea': 'KOR',\n",
    "    'Republic of Moldova': 'MDA',\n",
    "    'Serbia and Montenegro': 'SCG',\n",
    "    'Sudan (former)': 'SDN',\n",
    "    'Türkiye': 'TUR',\n",
    "    'United Kingdom of Great Britain and Northern Ireland': 'GBR',\n",
    "    'United Republic of Tanzania': 'TZA',\n",
    "    'United States of America': 'USA',\n",
    "    'United States Virgin Islands': 'VIR',\n",
    "    'USSR': 'RUS', \n",
    "    'Venezuela (Bolivarian Republic of)': 'VEN',\n",
    "    'Wallis and Futuna Islands': 'WLF',\n",
    "    'Yugoslav SFR': 'YUG'}\n",
    "\n",
    "subset_missing_country_codes['Country_Code'] = subset_missing_country_codes['Country'].map(country_code_mapping)\n",
    "\n",
    "# Combine the original DataFrame and the subset with manually filled 'Country_Code' values\n",
    "temp_change['Country_Code'].fillna(subset_missing_country_codes['Country_Code'], inplace=True)"
   ]
  },
  {
   "cell_type": "code",
   "execution_count": 35,
   "id": "ec100bd7",
   "metadata": {},
   "outputs": [
    {
     "data": {
      "text/plain": [
       "Country                   0\n",
       "Months                    0\n",
       "Element                   0\n",
       "Year                      0\n",
       "Temperature_Change    37659\n",
       "Country_Code          95098\n",
       "dtype: int64"
      ]
     },
     "execution_count": 35,
     "metadata": {},
     "output_type": "execute_result"
    }
   ],
   "source": [
    "temp_change.isnull().sum()"
   ]
  },
  {
   "cell_type": "code",
   "execution_count": 36,
   "id": "44af30aa",
   "metadata": {},
   "outputs": [],
   "source": [
    "# Drop rows with missing values in the 'Country_Code' column\n",
    "temp_change_cleaned = temp_change.dropna(subset=['Country_Code'])"
   ]
  },
  {
   "cell_type": "code",
   "execution_count": 37,
   "id": "b6541540",
   "metadata": {},
   "outputs": [
    {
     "data": {
      "text/plain": [
       "(459000, 6)"
      ]
     },
     "execution_count": 37,
     "metadata": {},
     "output_type": "execute_result"
    }
   ],
   "source": [
    "temp_change_cleaned.shape"
   ]
  },
  {
   "cell_type": "code",
   "execution_count": 38,
   "id": "df1c58be",
   "metadata": {},
   "outputs": [
    {
     "data": {
      "text/plain": [
       "Country                object\n",
       "Months                 object\n",
       "Element                object\n",
       "Year                    int64\n",
       "Temperature_Change    float64\n",
       "Country_Code           object\n",
       "dtype: object"
      ]
     },
     "execution_count": 38,
     "metadata": {},
     "output_type": "execute_result"
    }
   ],
   "source": [
    "#Verify data types\n",
    "temp_change_cleaned.dtypes"
   ]
  },
  {
   "cell_type": "code",
   "execution_count": 39,
   "id": "ec97f178",
   "metadata": {},
   "outputs": [],
   "source": [
    "#Inspect for mixed data types\n",
    "for col in temp_change_cleaned.columns.tolist():\n",
    "  weird = (temp_change_cleaned[[col]].applymap(type) != temp_change_cleaned[[col]].iloc[0].apply(type)).any(axis = 1)\n",
    "  if len (temp_change_cleaned[weird]) > 0:\n",
    "    print (col)"
   ]
  },
  {
   "cell_type": "code",
   "execution_count": 40,
   "id": "5c00f298",
   "metadata": {},
   "outputs": [
    {
     "data": {
      "text/html": [
       "<div>\n",
       "<style scoped>\n",
       "    .dataframe tbody tr th:only-of-type {\n",
       "        vertical-align: middle;\n",
       "    }\n",
       "\n",
       "    .dataframe tbody tr th {\n",
       "        vertical-align: top;\n",
       "    }\n",
       "\n",
       "    .dataframe thead th {\n",
       "        text-align: right;\n",
       "    }\n",
       "</style>\n",
       "<table border=\"1\" class=\"dataframe\">\n",
       "  <thead>\n",
       "    <tr style=\"text-align: right;\">\n",
       "      <th></th>\n",
       "      <th>Year</th>\n",
       "      <th>Temperature_Change</th>\n",
       "    </tr>\n",
       "  </thead>\n",
       "  <tbody>\n",
       "    <tr>\n",
       "      <th>count</th>\n",
       "      <td>459000.000000</td>\n",
       "      <td>425159.000000</td>\n",
       "    </tr>\n",
       "    <tr>\n",
       "      <th>mean</th>\n",
       "      <td>1992.436889</td>\n",
       "      <td>0.594697</td>\n",
       "    </tr>\n",
       "    <tr>\n",
       "      <th>std</th>\n",
       "      <td>17.895641</td>\n",
       "      <td>0.806221</td>\n",
       "    </tr>\n",
       "    <tr>\n",
       "      <th>min</th>\n",
       "      <td>1961.000000</td>\n",
       "      <td>-9.191000</td>\n",
       "    </tr>\n",
       "    <tr>\n",
       "      <th>25%</th>\n",
       "      <td>1977.000000</td>\n",
       "      <td>0.266000</td>\n",
       "    </tr>\n",
       "    <tr>\n",
       "      <th>50%</th>\n",
       "      <td>1993.000000</td>\n",
       "      <td>0.494000</td>\n",
       "    </tr>\n",
       "    <tr>\n",
       "      <th>75%</th>\n",
       "      <td>2008.000000</td>\n",
       "      <td>0.933000</td>\n",
       "    </tr>\n",
       "    <tr>\n",
       "      <th>max</th>\n",
       "      <td>2022.000000</td>\n",
       "      <td>9.724000</td>\n",
       "    </tr>\n",
       "  </tbody>\n",
       "</table>\n",
       "</div>"
      ],
      "text/plain": [
       "                Year  Temperature_Change\n",
       "count  459000.000000       425159.000000\n",
       "mean     1992.436889            0.594697\n",
       "std        17.895641            0.806221\n",
       "min      1961.000000           -9.191000\n",
       "25%      1977.000000            0.266000\n",
       "50%      1993.000000            0.494000\n",
       "75%      2008.000000            0.933000\n",
       "max      2022.000000            9.724000"
      ]
     },
     "execution_count": 40,
     "metadata": {},
     "output_type": "execute_result"
    }
   ],
   "source": [
    "# Generate descriptive statistics for temp_change_cleaned\n",
    "temp_change_cleaned.describe()"
   ]
  },
  {
   "cell_type": "code",
   "execution_count": 41,
   "id": "30af559a",
   "metadata": {},
   "outputs": [
    {
     "data": {
      "text/plain": [
       "Temperature change    229500\n",
       "Standard Deviation    229500\n",
       "Name: Element, dtype: int64"
      ]
     },
     "execution_count": 41,
     "metadata": {},
     "output_type": "execute_result"
    }
   ],
   "source": [
    "# Review the 'Element' column values for relevance\n",
    "temp_change_cleaned['Element'].value_counts()"
   ]
  },
  {
   "cell_type": "code",
   "execution_count": 42,
   "id": "8a34aa14",
   "metadata": {},
   "outputs": [],
   "source": [
    "# Filter data to display only 'Temperature Change' in the 'Element' column\n",
    "temp_change_cleaned_1 = temp_change_cleaned[temp_change_cleaned['Element'] == 'Temperature change']"
   ]
  },
  {
   "cell_type": "code",
   "execution_count": 43,
   "id": "eac158f9",
   "metadata": {},
   "outputs": [
    {
     "data": {
      "text/plain": [
       "Temperature change    229500\n",
       "Name: Element, dtype: int64"
      ]
     },
     "execution_count": 43,
     "metadata": {},
     "output_type": "execute_result"
    }
   ],
   "source": [
    "# Confirming filtered data\n",
    "temp_change_cleaned_1['Element'].value_counts()"
   ]
  },
  {
   "cell_type": "code",
   "execution_count": 44,
   "id": "14c088c8",
   "metadata": {},
   "outputs": [],
   "source": [
    "# Remove Column 'Element' since it is now irrelevant\n",
    "temp_change_cleaned_1=temp_change_cleaned_1.drop(columns = ['Element'])"
   ]
  },
  {
   "cell_type": "code",
   "execution_count": 45,
   "id": "e054d143",
   "metadata": {},
   "outputs": [
    {
     "data": {
      "text/plain": [
       "January                13500\n",
       "October                13500\n",
       "SepOctNov            13500\n",
       "JunJulAug            13500\n",
       "MarAprMay            13500\n",
       "DecJanFeb            13500\n",
       "December               13500\n",
       "November               13500\n",
       "September              13500\n",
       "February               13500\n",
       "August                 13500\n",
       "July                   13500\n",
       "June                   13500\n",
       "May                    13500\n",
       "April                  13500\n",
       "March                  13500\n",
       "Meteorological year    13500\n",
       "Name: Months, dtype: int64"
      ]
     },
     "execution_count": 45,
     "metadata": {},
     "output_type": "execute_result"
    }
   ],
   "source": [
    "# Review the 'Months' column values for relevance\n",
    "temp_change_cleaned_1['Months'].value_counts()"
   ]
  },
  {
   "cell_type": "code",
   "execution_count": 46,
   "id": "3a80db30",
   "metadata": {},
   "outputs": [],
   "source": [
    "# Filter data to display only the 12 months in the 'Months' column\n",
    "temp_change_cleaned_2 = temp_change_cleaned_1[temp_change_cleaned_1['Months'].isin(['January', 'February', 'March', 'April', 'May', 'June', 'July', 'August', 'September', 'October', 'November', 'December'])].copy()\n",
    "\n",
    "# Define a dictionary to map month names to numbers for consistency\n",
    "month_dict = {'January': 1, 'February': 2, 'March': 3, 'April': 4, 'May': 5, 'June': 6, 'July': 7, 'August': 8, 'September': 9, 'October': 10, 'November': 11, 'December': 12}\n",
    "\n",
    "# Map the month names to numbers using the dictionary and create a new column 'Month'\n",
    "temp_change_cleaned_2['Month'] = temp_change_cleaned_1['Months'].map(month_dict)"
   ]
  },
  {
   "cell_type": "code",
   "execution_count": 47,
   "id": "cdff492f",
   "metadata": {},
   "outputs": [
    {
     "data": {
      "text/plain": [
       "1.0     13500\n",
       "2.0     13500\n",
       "3.0     13500\n",
       "4.0     13500\n",
       "5.0     13500\n",
       "6.0     13500\n",
       "7.0     13500\n",
       "8.0     13500\n",
       "9.0     13500\n",
       "10.0    13500\n",
       "11.0    13500\n",
       "12.0    13500\n",
       "Name: Month, dtype: int64"
      ]
     },
     "execution_count": 47,
     "metadata": {},
     "output_type": "execute_result"
    }
   ],
   "source": [
    "#Verify month format change\n",
    "temp_change_cleaned_2['Month'].value_counts()"
   ]
  },
  {
   "cell_type": "code",
   "execution_count": 48,
   "id": "803b711c",
   "metadata": {},
   "outputs": [],
   "source": [
    "# Filter temp_change_filtered2 to include only values from 1965 to maintain consistency with other datasets\n",
    "temp_change_cleaned_3 = temp_change_cleaned_2[(temp_change_cleaned_2['Year'] >= 1965)]"
   ]
  },
  {
   "cell_type": "code",
   "execution_count": 49,
   "id": "e23f3dde",
   "metadata": {},
   "outputs": [
    {
     "data": {
      "text/html": [
       "<div>\n",
       "<style scoped>\n",
       "    .dataframe tbody tr th:only-of-type {\n",
       "        vertical-align: middle;\n",
       "    }\n",
       "\n",
       "    .dataframe tbody tr th {\n",
       "        vertical-align: top;\n",
       "    }\n",
       "\n",
       "    .dataframe thead th {\n",
       "        text-align: right;\n",
       "    }\n",
       "</style>\n",
       "<table border=\"1\" class=\"dataframe\">\n",
       "  <thead>\n",
       "    <tr style=\"text-align: right;\">\n",
       "      <th></th>\n",
       "      <th>Year</th>\n",
       "      <th>Temperature_Change</th>\n",
       "      <th>Month</th>\n",
       "    </tr>\n",
       "  </thead>\n",
       "  <tbody>\n",
       "    <tr>\n",
       "      <th>count</th>\n",
       "      <td>152160.000000</td>\n",
       "      <td>147142.000000</td>\n",
       "      <td>152160.000000</td>\n",
       "    </tr>\n",
       "    <tr>\n",
       "      <th>mean</th>\n",
       "      <td>1994.372871</td>\n",
       "      <td>0.561920</td>\n",
       "      <td>6.500000</td>\n",
       "    </tr>\n",
       "    <tr>\n",
       "      <th>std</th>\n",
       "      <td>16.708661</td>\n",
       "      <td>1.100637</td>\n",
       "      <td>3.452064</td>\n",
       "    </tr>\n",
       "    <tr>\n",
       "      <th>min</th>\n",
       "      <td>1965.000000</td>\n",
       "      <td>-9.191000</td>\n",
       "      <td>1.000000</td>\n",
       "    </tr>\n",
       "    <tr>\n",
       "      <th>25%</th>\n",
       "      <td>1980.000000</td>\n",
       "      <td>-0.042000</td>\n",
       "      <td>3.750000</td>\n",
       "    </tr>\n",
       "    <tr>\n",
       "      <th>50%</th>\n",
       "      <td>1995.000000</td>\n",
       "      <td>0.496000</td>\n",
       "      <td>6.500000</td>\n",
       "    </tr>\n",
       "    <tr>\n",
       "      <th>75%</th>\n",
       "      <td>2009.000000</td>\n",
       "      <td>1.099000</td>\n",
       "      <td>9.250000</td>\n",
       "    </tr>\n",
       "    <tr>\n",
       "      <th>max</th>\n",
       "      <td>2022.000000</td>\n",
       "      <td>9.724000</td>\n",
       "      <td>12.000000</td>\n",
       "    </tr>\n",
       "  </tbody>\n",
       "</table>\n",
       "</div>"
      ],
      "text/plain": [
       "                Year  Temperature_Change          Month\n",
       "count  152160.000000       147142.000000  152160.000000\n",
       "mean     1994.372871            0.561920       6.500000\n",
       "std        16.708661            1.100637       3.452064\n",
       "min      1965.000000           -9.191000       1.000000\n",
       "25%      1980.000000           -0.042000       3.750000\n",
       "50%      1995.000000            0.496000       6.500000\n",
       "75%      2009.000000            1.099000       9.250000\n",
       "max      2022.000000            9.724000      12.000000"
      ]
     },
     "execution_count": 49,
     "metadata": {},
     "output_type": "execute_result"
    }
   ],
   "source": [
    "# Validate filtered data\n",
    "temp_change_cleaned_3.describe()"
   ]
  },
  {
   "cell_type": "code",
   "execution_count": 50,
   "id": "0326ede1",
   "metadata": {},
   "outputs": [
    {
     "data": {
      "text/plain": [
       "(152160, 6)"
      ]
     },
     "execution_count": 50,
     "metadata": {},
     "output_type": "execute_result"
    }
   ],
   "source": [
    "temp_change_cleaned_3.shape"
   ]
  },
  {
   "cell_type": "code",
   "execution_count": 51,
   "id": "5078f602",
   "metadata": {},
   "outputs": [
    {
     "data": {
      "text/plain": [
       "Country                  0\n",
       "Months                   0\n",
       "Year                     0\n",
       "Temperature_Change    5018\n",
       "Country_Code             0\n",
       "Month                    0\n",
       "dtype: int64"
      ]
     },
     "execution_count": 51,
     "metadata": {},
     "output_type": "execute_result"
    }
   ],
   "source": [
    "# Find missing values in temp_change_cleaned_3\n",
    "temp_change_cleaned_3.isnull().sum()"
   ]
  },
  {
   "cell_type": "code",
   "execution_count": 52,
   "id": "2b7f4a1b",
   "metadata": {},
   "outputs": [
    {
     "data": {
      "text/html": [
       "<div>\n",
       "<style scoped>\n",
       "    .dataframe tbody tr th:only-of-type {\n",
       "        vertical-align: middle;\n",
       "    }\n",
       "\n",
       "    .dataframe tbody tr th {\n",
       "        vertical-align: top;\n",
       "    }\n",
       "\n",
       "    .dataframe thead th {\n",
       "        text-align: right;\n",
       "    }\n",
       "</style>\n",
       "<table border=\"1\" class=\"dataframe\">\n",
       "  <thead>\n",
       "    <tr style=\"text-align: right;\">\n",
       "      <th></th>\n",
       "      <th>Country</th>\n",
       "      <th>Months</th>\n",
       "      <th>Year</th>\n",
       "      <th>Temperature_Change</th>\n",
       "      <th>Country_Code</th>\n",
       "      <th>Month</th>\n",
       "    </tr>\n",
       "  </thead>\n",
       "  <tbody>\n",
       "  </tbody>\n",
       "</table>\n",
       "</div>"
      ],
      "text/plain": [
       "Empty DataFrame\n",
       "Columns: [Country, Months, Year, Temperature_Change, Country_Code, Month]\n",
       "Index: []"
      ]
     },
     "execution_count": 52,
     "metadata": {},
     "output_type": "execute_result"
    }
   ],
   "source": [
    "# Find duplicates for temp_change_cleaned_3\n",
    "temp_change_dups= temp_change_cleaned_3[temp_change_cleaned_3.duplicated]\n",
    "#Print the duplicates\n",
    "temp_change_dups"
   ]
  },
  {
   "cell_type": "markdown",
   "id": "01490c48",
   "metadata": {},
   "source": [
    "## 04. Migration Data Wrangling"
   ]
  },
  {
   "cell_type": "code",
   "execution_count": 53,
   "id": "26946f99",
   "metadata": {},
   "outputs": [
    {
     "data": {
      "text/plain": [
       "(16430, 4)"
      ]
     },
     "execution_count": 53,
     "metadata": {},
     "output_type": "execute_result"
    }
   ],
   "source": [
    "# Migration data exploration \n",
    "net_migration.shape"
   ]
  },
  {
   "cell_type": "code",
   "execution_count": 54,
   "id": "f90dfd50",
   "metadata": {},
   "outputs": [
    {
     "data": {
      "text/html": [
       "<div>\n",
       "<style scoped>\n",
       "    .dataframe tbody tr th:only-of-type {\n",
       "        vertical-align: middle;\n",
       "    }\n",
       "\n",
       "    .dataframe tbody tr th {\n",
       "        vertical-align: top;\n",
       "    }\n",
       "\n",
       "    .dataframe thead th {\n",
       "        text-align: right;\n",
       "    }\n",
       "</style>\n",
       "<table border=\"1\" class=\"dataframe\">\n",
       "  <thead>\n",
       "    <tr style=\"text-align: right;\">\n",
       "      <th></th>\n",
       "      <th>country_code</th>\n",
       "      <th>country_name</th>\n",
       "      <th>year</th>\n",
       "      <th>value</th>\n",
       "    </tr>\n",
       "  </thead>\n",
       "  <tbody>\n",
       "    <tr>\n",
       "      <th>0</th>\n",
       "      <td>ABW</td>\n",
       "      <td>Aruba</td>\n",
       "      <td>1960</td>\n",
       "      <td>0.0</td>\n",
       "    </tr>\n",
       "    <tr>\n",
       "      <th>1</th>\n",
       "      <td>ABW</td>\n",
       "      <td>Aruba</td>\n",
       "      <td>1961</td>\n",
       "      <td>-569.0</td>\n",
       "    </tr>\n",
       "    <tr>\n",
       "      <th>2</th>\n",
       "      <td>ABW</td>\n",
       "      <td>Aruba</td>\n",
       "      <td>1962</td>\n",
       "      <td>-609.0</td>\n",
       "    </tr>\n",
       "    <tr>\n",
       "      <th>3</th>\n",
       "      <td>ABW</td>\n",
       "      <td>Aruba</td>\n",
       "      <td>1963</td>\n",
       "      <td>-646.0</td>\n",
       "    </tr>\n",
       "    <tr>\n",
       "      <th>4</th>\n",
       "      <td>ABW</td>\n",
       "      <td>Aruba</td>\n",
       "      <td>1964</td>\n",
       "      <td>-684.0</td>\n",
       "    </tr>\n",
       "  </tbody>\n",
       "</table>\n",
       "</div>"
      ],
      "text/plain": [
       "  country_code country_name  year  value\n",
       "0          ABW        Aruba  1960    0.0\n",
       "1          ABW        Aruba  1961 -569.0\n",
       "2          ABW        Aruba  1962 -609.0\n",
       "3          ABW        Aruba  1963 -646.0\n",
       "4          ABW        Aruba  1964 -684.0"
      ]
     },
     "execution_count": 54,
     "metadata": {},
     "output_type": "execute_result"
    }
   ],
   "source": [
    "net_migration.head()"
   ]
  },
  {
   "cell_type": "code",
   "execution_count": 55,
   "id": "1d0b3878",
   "metadata": {},
   "outputs": [],
   "source": [
    "# Format column names\n",
    "net_migration.rename(columns={'country_code':'Country_Code',\n",
    "                             'country_name':'Country',\n",
    "                              'year':'Year',\n",
    "                              'value': 'Net_Migration'}, inplace = True)"
   ]
  },
  {
   "cell_type": "code",
   "execution_count": 56,
   "id": "925d0205",
   "metadata": {},
   "outputs": [
    {
     "data": {
      "text/plain": [
       "Country_Code      object\n",
       "Country           object\n",
       "Year               int64\n",
       "Net_Migration    float64\n",
       "dtype: object"
      ]
     },
     "execution_count": 56,
     "metadata": {},
     "output_type": "execute_result"
    }
   ],
   "source": [
    "#Verify data types\n",
    "net_migration.dtypes"
   ]
  },
  {
   "cell_type": "code",
   "execution_count": 57,
   "id": "b7a339f7",
   "metadata": {},
   "outputs": [],
   "source": [
    "#Inspect for mixed data types\n",
    "for col in net_migration.columns.tolist():\n",
    "  weird = (net_migration[[col]].applymap(type) != net_migration[[col]].iloc[0].apply(type)).any(axis = 1)\n",
    "  if len (net_migration[weird]) > 0:\n",
    "    print (col)"
   ]
  },
  {
   "cell_type": "code",
   "execution_count": 58,
   "id": "507828bc",
   "metadata": {},
   "outputs": [
    {
     "data": {
      "text/html": [
       "<div>\n",
       "<style scoped>\n",
       "    .dataframe tbody tr th:only-of-type {\n",
       "        vertical-align: middle;\n",
       "    }\n",
       "\n",
       "    .dataframe tbody tr th {\n",
       "        vertical-align: top;\n",
       "    }\n",
       "\n",
       "    .dataframe thead th {\n",
       "        text-align: right;\n",
       "    }\n",
       "</style>\n",
       "<table border=\"1\" class=\"dataframe\">\n",
       "  <thead>\n",
       "    <tr style=\"text-align: right;\">\n",
       "      <th></th>\n",
       "      <th>Year</th>\n",
       "      <th>Net_Migration</th>\n",
       "    </tr>\n",
       "  </thead>\n",
       "  <tbody>\n",
       "    <tr>\n",
       "      <th>count</th>\n",
       "      <td>16430.000000</td>\n",
       "      <td>1.643000e+04</td>\n",
       "    </tr>\n",
       "    <tr>\n",
       "      <th>mean</th>\n",
       "      <td>1990.500000</td>\n",
       "      <td>-5.161849e+04</td>\n",
       "    </tr>\n",
       "    <tr>\n",
       "      <th>std</th>\n",
       "      <td>17.896075</td>\n",
       "      <td>5.327357e+05</td>\n",
       "    </tr>\n",
       "    <tr>\n",
       "      <th>min</th>\n",
       "      <td>1960.000000</td>\n",
       "      <td>-5.955151e+06</td>\n",
       "    </tr>\n",
       "    <tr>\n",
       "      <th>25%</th>\n",
       "      <td>1975.000000</td>\n",
       "      <td>-2.665100e+04</td>\n",
       "    </tr>\n",
       "    <tr>\n",
       "      <th>50%</th>\n",
       "      <td>1990.500000</td>\n",
       "      <td>-1.075000e+03</td>\n",
       "    </tr>\n",
       "    <tr>\n",
       "      <th>75%</th>\n",
       "      <td>2006.000000</td>\n",
       "      <td>5.400000e+03</td>\n",
       "    </tr>\n",
       "    <tr>\n",
       "      <th>max</th>\n",
       "      <td>2021.000000</td>\n",
       "      <td>5.838720e+06</td>\n",
       "    </tr>\n",
       "  </tbody>\n",
       "</table>\n",
       "</div>"
      ],
      "text/plain": [
       "               Year  Net_Migration\n",
       "count  16430.000000   1.643000e+04\n",
       "mean    1990.500000  -5.161849e+04\n",
       "std       17.896075   5.327357e+05\n",
       "min     1960.000000  -5.955151e+06\n",
       "25%     1975.000000  -2.665100e+04\n",
       "50%     1990.500000  -1.075000e+03\n",
       "75%     2006.000000   5.400000e+03\n",
       "max     2021.000000   5.838720e+06"
      ]
     },
     "execution_count": 58,
     "metadata": {},
     "output_type": "execute_result"
    }
   ],
   "source": [
    "# Generate descriptive statistics for net_migration\n",
    "net_migration.describe()"
   ]
  },
  {
   "cell_type": "code",
   "execution_count": 59,
   "id": "d75395c8",
   "metadata": {},
   "outputs": [],
   "source": [
    "# Filter net_migration to include only values from 1965 to maintain consistency with other datasets\n",
    "net_migration_filtered = net_migration[(net_migration['Year'] >= 1965)]"
   ]
  },
  {
   "cell_type": "code",
   "execution_count": 60,
   "id": "cac406dc",
   "metadata": {},
   "outputs": [
    {
     "data": {
      "text/html": [
       "<div>\n",
       "<style scoped>\n",
       "    .dataframe tbody tr th:only-of-type {\n",
       "        vertical-align: middle;\n",
       "    }\n",
       "\n",
       "    .dataframe tbody tr th {\n",
       "        vertical-align: top;\n",
       "    }\n",
       "\n",
       "    .dataframe thead th {\n",
       "        text-align: right;\n",
       "    }\n",
       "</style>\n",
       "<table border=\"1\" class=\"dataframe\">\n",
       "  <thead>\n",
       "    <tr style=\"text-align: right;\">\n",
       "      <th></th>\n",
       "      <th>Year</th>\n",
       "      <th>Net_Migration</th>\n",
       "    </tr>\n",
       "  </thead>\n",
       "  <tbody>\n",
       "    <tr>\n",
       "      <th>count</th>\n",
       "      <td>15105.000000</td>\n",
       "      <td>1.510500e+04</td>\n",
       "    </tr>\n",
       "    <tr>\n",
       "      <th>mean</th>\n",
       "      <td>1993.000000</td>\n",
       "      <td>-5.466608e+04</td>\n",
       "    </tr>\n",
       "    <tr>\n",
       "      <th>std</th>\n",
       "      <td>16.452495</td>\n",
       "      <td>5.539480e+05</td>\n",
       "    </tr>\n",
       "    <tr>\n",
       "      <th>min</th>\n",
       "      <td>1965.000000</td>\n",
       "      <td>-5.955151e+06</td>\n",
       "    </tr>\n",
       "    <tr>\n",
       "      <th>25%</th>\n",
       "      <td>1979.000000</td>\n",
       "      <td>-2.746800e+04</td>\n",
       "    </tr>\n",
       "    <tr>\n",
       "      <th>50%</th>\n",
       "      <td>1993.000000</td>\n",
       "      <td>-1.206000e+03</td>\n",
       "    </tr>\n",
       "    <tr>\n",
       "      <th>75%</th>\n",
       "      <td>2007.000000</td>\n",
       "      <td>5.901000e+03</td>\n",
       "    </tr>\n",
       "    <tr>\n",
       "      <th>max</th>\n",
       "      <td>2021.000000</td>\n",
       "      <td>5.838720e+06</td>\n",
       "    </tr>\n",
       "  </tbody>\n",
       "</table>\n",
       "</div>"
      ],
      "text/plain": [
       "               Year  Net_Migration\n",
       "count  15105.000000   1.510500e+04\n",
       "mean    1993.000000  -5.466608e+04\n",
       "std       16.452495   5.539480e+05\n",
       "min     1965.000000  -5.955151e+06\n",
       "25%     1979.000000  -2.746800e+04\n",
       "50%     1993.000000  -1.206000e+03\n",
       "75%     2007.000000   5.901000e+03\n",
       "max     2021.000000   5.838720e+06"
      ]
     },
     "execution_count": 60,
     "metadata": {},
     "output_type": "execute_result"
    }
   ],
   "source": [
    "# Validate filtered data\n",
    "net_migration_filtered.describe()"
   ]
  },
  {
   "cell_type": "code",
   "execution_count": 61,
   "id": "fe776f13",
   "metadata": {},
   "outputs": [
    {
     "data": {
      "text/plain": [
       "Country_Code     0\n",
       "Country          0\n",
       "Year             0\n",
       "Net_Migration    0\n",
       "dtype: int64"
      ]
     },
     "execution_count": 61,
     "metadata": {},
     "output_type": "execute_result"
    }
   ],
   "source": [
    "# Find missing values in net_migration_filtered\n",
    "net_migration_filtered.isnull().sum()"
   ]
  },
  {
   "cell_type": "code",
   "execution_count": 62,
   "id": "c01091b8",
   "metadata": {},
   "outputs": [
    {
     "data": {
      "text/html": [
       "<div>\n",
       "<style scoped>\n",
       "    .dataframe tbody tr th:only-of-type {\n",
       "        vertical-align: middle;\n",
       "    }\n",
       "\n",
       "    .dataframe tbody tr th {\n",
       "        vertical-align: top;\n",
       "    }\n",
       "\n",
       "    .dataframe thead th {\n",
       "        text-align: right;\n",
       "    }\n",
       "</style>\n",
       "<table border=\"1\" class=\"dataframe\">\n",
       "  <thead>\n",
       "    <tr style=\"text-align: right;\">\n",
       "      <th></th>\n",
       "      <th>Country_Code</th>\n",
       "      <th>Country</th>\n",
       "      <th>Year</th>\n",
       "      <th>Net_Migration</th>\n",
       "    </tr>\n",
       "  </thead>\n",
       "  <tbody>\n",
       "  </tbody>\n",
       "</table>\n",
       "</div>"
      ],
      "text/plain": [
       "Empty DataFrame\n",
       "Columns: [Country_Code, Country, Year, Net_Migration]\n",
       "Index: []"
      ]
     },
     "execution_count": 62,
     "metadata": {},
     "output_type": "execute_result"
    }
   ],
   "source": [
    "# Find duplicates for net_migration\n",
    "net_migration_dups= net_migration_filtered[net_migration_filtered.duplicated]\n",
    "#Print the duplicates\n",
    "net_migration_dups"
   ]
  },
  {
   "cell_type": "markdown",
   "id": "a8a1881c",
   "metadata": {},
   "source": [
    "## 05. Population Data Wrangling"
   ]
  },
  {
   "cell_type": "code",
   "execution_count": 63,
   "id": "2a4e376b",
   "metadata": {},
   "outputs": [
    {
     "data": {
      "text/plain": [
       "(15576, 15)"
      ]
     },
     "execution_count": 63,
     "metadata": {},
     "output_type": "execute_result"
    }
   ],
   "source": [
    "#Population data exploration\n",
    "population.shape"
   ]
  },
  {
   "cell_type": "code",
   "execution_count": 64,
   "id": "f56f145e",
   "metadata": {},
   "outputs": [
    {
     "data": {
      "text/html": [
       "<div>\n",
       "<style scoped>\n",
       "    .dataframe tbody tr th:only-of-type {\n",
       "        vertical-align: middle;\n",
       "    }\n",
       "\n",
       "    .dataframe tbody tr th {\n",
       "        vertical-align: top;\n",
       "    }\n",
       "\n",
       "    .dataframe thead th {\n",
       "        text-align: right;\n",
       "    }\n",
       "</style>\n",
       "<table border=\"1\" class=\"dataframe\">\n",
       "  <thead>\n",
       "    <tr style=\"text-align: right;\">\n",
       "      <th></th>\n",
       "      <th>country</th>\n",
       "      <th>year</th>\n",
       "      <th>population</th>\n",
       "      <th>pop_density</th>\n",
       "      <th>net_migration</th>\n",
       "      <th>migration_perc</th>\n",
       "      <th>iso3c</th>\n",
       "      <th>iso2c</th>\n",
       "      <th>region</th>\n",
       "      <th>adminregion</th>\n",
       "      <th>incomeLevel</th>\n",
       "      <th>lendingType</th>\n",
       "      <th>capitalCity</th>\n",
       "      <th>longitude</th>\n",
       "      <th>latitude</th>\n",
       "    </tr>\n",
       "  </thead>\n",
       "  <tbody>\n",
       "    <tr>\n",
       "      <th>0</th>\n",
       "      <td>Arab World</td>\n",
       "      <td>1960</td>\n",
       "      <td>9.219775e+07</td>\n",
       "      <td>NaN</td>\n",
       "      <td>NaN</td>\n",
       "      <td>NaN</td>\n",
       "      <td>ARB</td>\n",
       "      <td>1A</td>\n",
       "      <td>Aggregates</td>\n",
       "      <td>NaN</td>\n",
       "      <td>Aggregates</td>\n",
       "      <td>Aggregates</td>\n",
       "      <td>NaN</td>\n",
       "      <td>NaN</td>\n",
       "      <td>NaN</td>\n",
       "    </tr>\n",
       "    <tr>\n",
       "      <th>1</th>\n",
       "      <td>Caribbean small states</td>\n",
       "      <td>1960</td>\n",
       "      <td>4.194710e+06</td>\n",
       "      <td>NaN</td>\n",
       "      <td>NaN</td>\n",
       "      <td>NaN</td>\n",
       "      <td>CSS</td>\n",
       "      <td>S3</td>\n",
       "      <td>Aggregates</td>\n",
       "      <td>NaN</td>\n",
       "      <td>Aggregates</td>\n",
       "      <td>Aggregates</td>\n",
       "      <td>NaN</td>\n",
       "      <td>NaN</td>\n",
       "      <td>NaN</td>\n",
       "    </tr>\n",
       "    <tr>\n",
       "      <th>2</th>\n",
       "      <td>Central Europe and the Baltics</td>\n",
       "      <td>1960</td>\n",
       "      <td>9.140176e+07</td>\n",
       "      <td>NaN</td>\n",
       "      <td>NaN</td>\n",
       "      <td>NaN</td>\n",
       "      <td>CEB</td>\n",
       "      <td>B8</td>\n",
       "      <td>Aggregates</td>\n",
       "      <td>NaN</td>\n",
       "      <td>Aggregates</td>\n",
       "      <td>Aggregates</td>\n",
       "      <td>NaN</td>\n",
       "      <td>NaN</td>\n",
       "      <td>NaN</td>\n",
       "    </tr>\n",
       "    <tr>\n",
       "      <th>3</th>\n",
       "      <td>Early-demographic dividend</td>\n",
       "      <td>1960</td>\n",
       "      <td>9.800853e+08</td>\n",
       "      <td>NaN</td>\n",
       "      <td>NaN</td>\n",
       "      <td>NaN</td>\n",
       "      <td>EAR</td>\n",
       "      <td>V2</td>\n",
       "      <td>Aggregates</td>\n",
       "      <td>NaN</td>\n",
       "      <td>Aggregates</td>\n",
       "      <td>Aggregates</td>\n",
       "      <td>NaN</td>\n",
       "      <td>NaN</td>\n",
       "      <td>NaN</td>\n",
       "    </tr>\n",
       "    <tr>\n",
       "      <th>4</th>\n",
       "      <td>East Asia &amp; Pacific</td>\n",
       "      <td>1960</td>\n",
       "      <td>1.040958e+09</td>\n",
       "      <td>NaN</td>\n",
       "      <td>NaN</td>\n",
       "      <td>NaN</td>\n",
       "      <td>EAS</td>\n",
       "      <td>Z4</td>\n",
       "      <td>Aggregates</td>\n",
       "      <td>NaN</td>\n",
       "      <td>Aggregates</td>\n",
       "      <td>Aggregates</td>\n",
       "      <td>NaN</td>\n",
       "      <td>NaN</td>\n",
       "      <td>NaN</td>\n",
       "    </tr>\n",
       "  </tbody>\n",
       "</table>\n",
       "</div>"
      ],
      "text/plain": [
       "                          country  year    population  pop_density  \\\n",
       "0                      Arab World  1960  9.219775e+07          NaN   \n",
       "1          Caribbean small states  1960  4.194710e+06          NaN   \n",
       "2  Central Europe and the Baltics  1960  9.140176e+07          NaN   \n",
       "3      Early-demographic dividend  1960  9.800853e+08          NaN   \n",
       "4             East Asia & Pacific  1960  1.040958e+09          NaN   \n",
       "\n",
       "   net_migration  migration_perc iso3c iso2c      region adminregion  \\\n",
       "0            NaN             NaN   ARB    1A  Aggregates         NaN   \n",
       "1            NaN             NaN   CSS    S3  Aggregates         NaN   \n",
       "2            NaN             NaN   CEB    B8  Aggregates         NaN   \n",
       "3            NaN             NaN   EAR    V2  Aggregates         NaN   \n",
       "4            NaN             NaN   EAS    Z4  Aggregates         NaN   \n",
       "\n",
       "  incomeLevel lendingType capitalCity  longitude  latitude  \n",
       "0  Aggregates  Aggregates         NaN        NaN       NaN  \n",
       "1  Aggregates  Aggregates         NaN        NaN       NaN  \n",
       "2  Aggregates  Aggregates         NaN        NaN       NaN  \n",
       "3  Aggregates  Aggregates         NaN        NaN       NaN  \n",
       "4  Aggregates  Aggregates         NaN        NaN       NaN  "
      ]
     },
     "execution_count": 64,
     "metadata": {},
     "output_type": "execute_result"
    }
   ],
   "source": [
    "population.head()"
   ]
  },
  {
   "cell_type": "code",
   "execution_count": 65,
   "id": "bbad6579",
   "metadata": {},
   "outputs": [],
   "source": [
    "# Remove unnecessary or irrelevant columns\n",
    "population=population.drop(columns = ['pop_density','net_migration','migration_perc', 'iso2c', 'region', 'adminregion','incomeLevel', 'lendingType', 'capitalCity', 'longitude', 'latitude'])"
   ]
  },
  {
   "cell_type": "code",
   "execution_count": 66,
   "id": "874f0f26",
   "metadata": {},
   "outputs": [],
   "source": [
    "# Format column names\n",
    "population.rename(columns={'country':'Country',\n",
    "                           'year':'Year',\n",
    "                           'population': 'Population',\n",
    "                           'iso3c': 'Country_Code'}, inplace = True)"
   ]
  },
  {
   "cell_type": "code",
   "execution_count": 67,
   "id": "9070fb38",
   "metadata": {},
   "outputs": [
    {
     "data": {
      "text/plain": [
       "Country          object\n",
       "Year              int64\n",
       "Population      float64\n",
       "Country_Code     object\n",
       "dtype: object"
      ]
     },
     "execution_count": 67,
     "metadata": {},
     "output_type": "execute_result"
    }
   ],
   "source": [
    "#Verify data types\n",
    "population.dtypes"
   ]
  },
  {
   "cell_type": "code",
   "execution_count": 68,
   "id": "a0f54996",
   "metadata": {},
   "outputs": [
    {
     "name": "stdout",
     "output_type": "stream",
     "text": [
      "Country_Code\n"
     ]
    }
   ],
   "source": [
    "#Inspect for mixed data types\n",
    "for col in population.columns.tolist():\n",
    "  weird = (population[[col]].applymap(type) != population[[col]].iloc[0].apply(type)).any(axis = 1)\n",
    "  if len (population[weird]) > 0:\n",
    "    print (col)"
   ]
  },
  {
   "cell_type": "code",
   "execution_count": 69,
   "id": "64339aea",
   "metadata": {},
   "outputs": [],
   "source": [
    "#Convert 'Country_Code Subtype' to string \n",
    "population.loc[:, 'Country_Code'] = population['Country_Code'].astype(str)"
   ]
  },
  {
   "cell_type": "code",
   "execution_count": 70,
   "id": "89757689",
   "metadata": {},
   "outputs": [
    {
     "data": {
      "text/html": [
       "<div>\n",
       "<style scoped>\n",
       "    .dataframe tbody tr th:only-of-type {\n",
       "        vertical-align: middle;\n",
       "    }\n",
       "\n",
       "    .dataframe tbody tr th {\n",
       "        vertical-align: top;\n",
       "    }\n",
       "\n",
       "    .dataframe thead th {\n",
       "        text-align: right;\n",
       "    }\n",
       "</style>\n",
       "<table border=\"1\" class=\"dataframe\">\n",
       "  <thead>\n",
       "    <tr style=\"text-align: right;\">\n",
       "      <th></th>\n",
       "      <th>Year</th>\n",
       "      <th>Population</th>\n",
       "    </tr>\n",
       "  </thead>\n",
       "  <tbody>\n",
       "    <tr>\n",
       "      <th>count</th>\n",
       "      <td>15576.000000</td>\n",
       "      <td>1.540900e+04</td>\n",
       "    </tr>\n",
       "    <tr>\n",
       "      <th>mean</th>\n",
       "      <td>1989.000000</td>\n",
       "      <td>2.078865e+08</td>\n",
       "    </tr>\n",
       "    <tr>\n",
       "      <th>std</th>\n",
       "      <td>17.029933</td>\n",
       "      <td>6.867796e+08</td>\n",
       "    </tr>\n",
       "    <tr>\n",
       "      <th>min</th>\n",
       "      <td>1960.000000</td>\n",
       "      <td>3.893000e+03</td>\n",
       "    </tr>\n",
       "    <tr>\n",
       "      <th>25%</th>\n",
       "      <td>1974.000000</td>\n",
       "      <td>9.268410e+05</td>\n",
       "    </tr>\n",
       "    <tr>\n",
       "      <th>50%</th>\n",
       "      <td>1989.000000</td>\n",
       "      <td>6.418773e+06</td>\n",
       "    </tr>\n",
       "    <tr>\n",
       "      <th>75%</th>\n",
       "      <td>2004.000000</td>\n",
       "      <td>4.244904e+07</td>\n",
       "    </tr>\n",
       "    <tr>\n",
       "      <th>max</th>\n",
       "      <td>2018.000000</td>\n",
       "      <td>7.594270e+09</td>\n",
       "    </tr>\n",
       "  </tbody>\n",
       "</table>\n",
       "</div>"
      ],
      "text/plain": [
       "               Year    Population\n",
       "count  15576.000000  1.540900e+04\n",
       "mean    1989.000000  2.078865e+08\n",
       "std       17.029933  6.867796e+08\n",
       "min     1960.000000  3.893000e+03\n",
       "25%     1974.000000  9.268410e+05\n",
       "50%     1989.000000  6.418773e+06\n",
       "75%     2004.000000  4.244904e+07\n",
       "max     2018.000000  7.594270e+09"
      ]
     },
     "execution_count": 70,
     "metadata": {},
     "output_type": "execute_result"
    }
   ],
   "source": [
    "# Generate descriptive statistics for population\n",
    "population.describe()"
   ]
  },
  {
   "cell_type": "code",
   "execution_count": 71,
   "id": "a6640262",
   "metadata": {},
   "outputs": [],
   "source": [
    "# Filter population to include only values from 1965 to maintain consistency with other datasets\n",
    "population_filtered = population[(population['Year'] >= 1965)]"
   ]
  },
  {
   "cell_type": "code",
   "execution_count": 72,
   "id": "7c6be2d2",
   "metadata": {},
   "outputs": [
    {
     "data": {
      "text/html": [
       "<div>\n",
       "<style scoped>\n",
       "    .dataframe tbody tr th:only-of-type {\n",
       "        vertical-align: middle;\n",
       "    }\n",
       "\n",
       "    .dataframe tbody tr th {\n",
       "        vertical-align: top;\n",
       "    }\n",
       "\n",
       "    .dataframe thead th {\n",
       "        text-align: right;\n",
       "    }\n",
       "</style>\n",
       "<table border=\"1\" class=\"dataframe\">\n",
       "  <thead>\n",
       "    <tr style=\"text-align: right;\">\n",
       "      <th></th>\n",
       "      <th>Year</th>\n",
       "      <th>Population</th>\n",
       "    </tr>\n",
       "  </thead>\n",
       "  <tbody>\n",
       "    <tr>\n",
       "      <th>count</th>\n",
       "      <td>14256.000000</td>\n",
       "      <td>1.410900e+04</td>\n",
       "    </tr>\n",
       "    <tr>\n",
       "      <th>mean</th>\n",
       "      <td>1991.500000</td>\n",
       "      <td>2.157830e+08</td>\n",
       "    </tr>\n",
       "    <tr>\n",
       "      <th>std</th>\n",
       "      <td>15.586331</td>\n",
       "      <td>7.076157e+08</td>\n",
       "    </tr>\n",
       "    <tr>\n",
       "      <th>min</th>\n",
       "      <td>1965.000000</td>\n",
       "      <td>4.468000e+03</td>\n",
       "    </tr>\n",
       "    <tr>\n",
       "      <th>25%</th>\n",
       "      <td>1978.000000</td>\n",
       "      <td>9.975220e+05</td>\n",
       "    </tr>\n",
       "    <tr>\n",
       "      <th>50%</th>\n",
       "      <td>1991.500000</td>\n",
       "      <td>6.736748e+06</td>\n",
       "    </tr>\n",
       "    <tr>\n",
       "      <th>75%</th>\n",
       "      <td>2005.000000</td>\n",
       "      <td>4.440590e+07</td>\n",
       "    </tr>\n",
       "    <tr>\n",
       "      <th>max</th>\n",
       "      <td>2018.000000</td>\n",
       "      <td>7.594270e+09</td>\n",
       "    </tr>\n",
       "  </tbody>\n",
       "</table>\n",
       "</div>"
      ],
      "text/plain": [
       "               Year    Population\n",
       "count  14256.000000  1.410900e+04\n",
       "mean    1991.500000  2.157830e+08\n",
       "std       15.586331  7.076157e+08\n",
       "min     1965.000000  4.468000e+03\n",
       "25%     1978.000000  9.975220e+05\n",
       "50%     1991.500000  6.736748e+06\n",
       "75%     2005.000000  4.440590e+07\n",
       "max     2018.000000  7.594270e+09"
      ]
     },
     "execution_count": 72,
     "metadata": {},
     "output_type": "execute_result"
    }
   ],
   "source": [
    "# Validate filtered data\n",
    "population_filtered.describe()"
   ]
  },
  {
   "cell_type": "code",
   "execution_count": 73,
   "id": "1fa8a2e1",
   "metadata": {},
   "outputs": [
    {
     "data": {
      "text/plain": [
       "Country           0\n",
       "Year              0\n",
       "Population      147\n",
       "Country_Code      0\n",
       "dtype: int64"
      ]
     },
     "execution_count": 73,
     "metadata": {},
     "output_type": "execute_result"
    }
   ],
   "source": [
    "# Finding missing values in population_filtered\n",
    "population_filtered.isnull().sum()"
   ]
  },
  {
   "cell_type": "code",
   "execution_count": 74,
   "id": "4c5d41be",
   "metadata": {},
   "outputs": [
    {
     "data": {
      "text/html": [
       "<div>\n",
       "<style scoped>\n",
       "    .dataframe tbody tr th:only-of-type {\n",
       "        vertical-align: middle;\n",
       "    }\n",
       "\n",
       "    .dataframe tbody tr th {\n",
       "        vertical-align: top;\n",
       "    }\n",
       "\n",
       "    .dataframe thead th {\n",
       "        text-align: right;\n",
       "    }\n",
       "</style>\n",
       "<table border=\"1\" class=\"dataframe\">\n",
       "  <thead>\n",
       "    <tr style=\"text-align: right;\">\n",
       "      <th></th>\n",
       "      <th>Country</th>\n",
       "      <th>Year</th>\n",
       "      <th>Population</th>\n",
       "      <th>Country_Code</th>\n",
       "    </tr>\n",
       "  </thead>\n",
       "  <tbody>\n",
       "  </tbody>\n",
       "</table>\n",
       "</div>"
      ],
      "text/plain": [
       "Empty DataFrame\n",
       "Columns: [Country, Year, Population, Country_Code]\n",
       "Index: []"
      ]
     },
     "execution_count": 74,
     "metadata": {},
     "output_type": "execute_result"
    }
   ],
   "source": [
    "# Find duplicates for population_filtered\n",
    "population_dups= population_filtered[population_filtered.duplicated]\n",
    "#Print the duplicates\n",
    "population_dups"
   ]
  },
  {
   "cell_type": "code",
   "execution_count": 75,
   "id": "75e9e1e3",
   "metadata": {},
   "outputs": [
    {
     "data": {
      "text/plain": [
       "(14256, 4)"
      ]
     },
     "execution_count": 75,
     "metadata": {},
     "output_type": "execute_result"
    }
   ],
   "source": [
    "population_filtered.shape"
   ]
  },
  {
   "cell_type": "markdown",
   "id": "569dd2da",
   "metadata": {},
   "source": [
    "## 06. CO2 Emissions Data Wrangling"
   ]
  },
  {
   "cell_type": "code",
   "execution_count": 76,
   "id": "88e0f5e5",
   "metadata": {},
   "outputs": [
    {
     "data": {
      "text/plain": [
       "(13953, 4)"
      ]
     },
     "execution_count": 76,
     "metadata": {},
     "output_type": "execute_result"
    }
   ],
   "source": [
    "# CO2 Emissions data exploration \n",
    "co2_emissions.shape"
   ]
  },
  {
   "cell_type": "code",
   "execution_count": 77,
   "id": "07704568",
   "metadata": {},
   "outputs": [
    {
     "data": {
      "text/html": [
       "<div>\n",
       "<style scoped>\n",
       "    .dataframe tbody tr th:only-of-type {\n",
       "        vertical-align: middle;\n",
       "    }\n",
       "\n",
       "    .dataframe tbody tr th {\n",
       "        vertical-align: top;\n",
       "    }\n",
       "\n",
       "    .dataframe thead th {\n",
       "        text-align: right;\n",
       "    }\n",
       "</style>\n",
       "<table border=\"1\" class=\"dataframe\">\n",
       "  <thead>\n",
       "    <tr style=\"text-align: right;\">\n",
       "      <th></th>\n",
       "      <th>country_code</th>\n",
       "      <th>country_name</th>\n",
       "      <th>year</th>\n",
       "      <th>value</th>\n",
       "    </tr>\n",
       "  </thead>\n",
       "  <tbody>\n",
       "    <tr>\n",
       "      <th>0</th>\n",
       "      <td>ABW</td>\n",
       "      <td>Aruba</td>\n",
       "      <td>1960</td>\n",
       "      <td>11092.675</td>\n",
       "    </tr>\n",
       "    <tr>\n",
       "      <th>1</th>\n",
       "      <td>ABW</td>\n",
       "      <td>Aruba</td>\n",
       "      <td>1961</td>\n",
       "      <td>11576.719</td>\n",
       "    </tr>\n",
       "    <tr>\n",
       "      <th>2</th>\n",
       "      <td>ABW</td>\n",
       "      <td>Aruba</td>\n",
       "      <td>1962</td>\n",
       "      <td>12713.489</td>\n",
       "    </tr>\n",
       "    <tr>\n",
       "      <th>3</th>\n",
       "      <td>ABW</td>\n",
       "      <td>Aruba</td>\n",
       "      <td>1963</td>\n",
       "      <td>12178.107</td>\n",
       "    </tr>\n",
       "    <tr>\n",
       "      <th>4</th>\n",
       "      <td>ABW</td>\n",
       "      <td>Aruba</td>\n",
       "      <td>1964</td>\n",
       "      <td>11840.743</td>\n",
       "    </tr>\n",
       "  </tbody>\n",
       "</table>\n",
       "</div>"
      ],
      "text/plain": [
       "  country_code country_name  year      value\n",
       "0          ABW        Aruba  1960  11092.675\n",
       "1          ABW        Aruba  1961  11576.719\n",
       "2          ABW        Aruba  1962  12713.489\n",
       "3          ABW        Aruba  1963  12178.107\n",
       "4          ABW        Aruba  1964  11840.743"
      ]
     },
     "execution_count": 77,
     "metadata": {},
     "output_type": "execute_result"
    }
   ],
   "source": [
    "co2_emissions.head()"
   ]
  },
  {
   "cell_type": "code",
   "execution_count": 78,
   "id": "e814a88a",
   "metadata": {},
   "outputs": [],
   "source": [
    "# Format column names\n",
    "co2_emissions.rename(columns={'country_code':'Country_Code', \n",
    "                              'country_name':'Country',\n",
    "                              'year':'Year',\n",
    "                              'value':'Carbon_Emissions'}, inplace = True)"
   ]
  },
  {
   "cell_type": "code",
   "execution_count": 79,
   "id": "8dbbf5ec",
   "metadata": {},
   "outputs": [
    {
     "data": {
      "text/plain": [
       "Country_Code         object\n",
       "Country              object\n",
       "Year                  int64\n",
       "Carbon_Emissions    float64\n",
       "dtype: object"
      ]
     },
     "execution_count": 79,
     "metadata": {},
     "output_type": "execute_result"
    }
   ],
   "source": [
    "#Verify data types\n",
    "co2_emissions.dtypes"
   ]
  },
  {
   "cell_type": "code",
   "execution_count": 80,
   "id": "7a42ee03",
   "metadata": {},
   "outputs": [],
   "source": [
    "#Inspect for mixed data types\n",
    "for col in co2_emissions.columns.tolist():\n",
    "  weird = (co2_emissions[[col]].applymap(type) != co2_emissions[[col]].iloc[0].apply(type)).any(axis = 1)\n",
    "  if len (co2_emissions[weird]) > 0:\n",
    "    print (col)"
   ]
  },
  {
   "cell_type": "code",
   "execution_count": 81,
   "id": "9d73cc12",
   "metadata": {},
   "outputs": [
    {
     "data": {
      "text/html": [
       "<div>\n",
       "<style scoped>\n",
       "    .dataframe tbody tr th:only-of-type {\n",
       "        vertical-align: middle;\n",
       "    }\n",
       "\n",
       "    .dataframe tbody tr th {\n",
       "        vertical-align: top;\n",
       "    }\n",
       "\n",
       "    .dataframe thead th {\n",
       "        text-align: right;\n",
       "    }\n",
       "</style>\n",
       "<table border=\"1\" class=\"dataframe\">\n",
       "  <thead>\n",
       "    <tr style=\"text-align: right;\">\n",
       "      <th></th>\n",
       "      <th>Year</th>\n",
       "      <th>Carbon_Emissions</th>\n",
       "    </tr>\n",
       "  </thead>\n",
       "  <tbody>\n",
       "    <tr>\n",
       "      <th>count</th>\n",
       "      <td>13953.000000</td>\n",
       "      <td>1.395300e+04</td>\n",
       "    </tr>\n",
       "    <tr>\n",
       "      <th>mean</th>\n",
       "      <td>1990.732316</td>\n",
       "      <td>8.254983e+05</td>\n",
       "    </tr>\n",
       "    <tr>\n",
       "      <th>std</th>\n",
       "      <td>17.187585</td>\n",
       "      <td>2.788923e+06</td>\n",
       "    </tr>\n",
       "    <tr>\n",
       "      <th>min</th>\n",
       "      <td>1960.000000</td>\n",
       "      <td>-8.067400e+01</td>\n",
       "    </tr>\n",
       "    <tr>\n",
       "      <th>25%</th>\n",
       "      <td>1976.000000</td>\n",
       "      <td>1.100000e+03</td>\n",
       "    </tr>\n",
       "    <tr>\n",
       "      <th>50%</th>\n",
       "      <td>1992.000000</td>\n",
       "      <td>1.390000e+04</td>\n",
       "    </tr>\n",
       "    <tr>\n",
       "      <th>75%</th>\n",
       "      <td>2006.000000</td>\n",
       "      <td>1.642779e+05</td>\n",
       "    </tr>\n",
       "    <tr>\n",
       "      <th>max</th>\n",
       "      <td>2019.000000</td>\n",
       "      <td>3.434401e+07</td>\n",
       "    </tr>\n",
       "  </tbody>\n",
       "</table>\n",
       "</div>"
      ],
      "text/plain": [
       "               Year  Carbon_Emissions\n",
       "count  13953.000000      1.395300e+04\n",
       "mean    1990.732316      8.254983e+05\n",
       "std       17.187585      2.788923e+06\n",
       "min     1960.000000     -8.067400e+01\n",
       "25%     1976.000000      1.100000e+03\n",
       "50%     1992.000000      1.390000e+04\n",
       "75%     2006.000000      1.642779e+05\n",
       "max     2019.000000      3.434401e+07"
      ]
     },
     "execution_count": 81,
     "metadata": {},
     "output_type": "execute_result"
    }
   ],
   "source": [
    "# Generate descriptive statistics for co2_emissions\n",
    "co2_emissions.describe()"
   ]
  },
  {
   "cell_type": "markdown",
   "id": "e0bd8d02",
   "metadata": {},
   "source": [
    "There is a negative value that does not make sense"
   ]
  },
  {
   "cell_type": "code",
   "execution_count": 82,
   "id": "fbceb1f3",
   "metadata": {},
   "outputs": [
    {
     "data": {
      "text/plain": [
       "1"
      ]
     },
     "execution_count": 82,
     "metadata": {},
     "output_type": "execute_result"
    }
   ],
   "source": [
    "# Count the number of negative values in the 'Carbon_Emissions' column\n",
    "co2_emissions[co2_emissions['Carbon_Emissions'] < 0]['Carbon_Emissions'].count()"
   ]
  },
  {
   "cell_type": "code",
   "execution_count": 83,
   "id": "6bdf3a56",
   "metadata": {},
   "outputs": [
    {
     "data": {
      "text/html": [
       "<div>\n",
       "<style scoped>\n",
       "    .dataframe tbody tr th:only-of-type {\n",
       "        vertical-align: middle;\n",
       "    }\n",
       "\n",
       "    .dataframe tbody tr th {\n",
       "        vertical-align: top;\n",
       "    }\n",
       "\n",
       "    .dataframe thead th {\n",
       "        text-align: right;\n",
       "    }\n",
       "</style>\n",
       "<table border=\"1\" class=\"dataframe\">\n",
       "  <thead>\n",
       "    <tr style=\"text-align: right;\">\n",
       "      <th></th>\n",
       "      <th>Country_Code</th>\n",
       "      <th>Country</th>\n",
       "      <th>Year</th>\n",
       "      <th>Carbon_Emissions</th>\n",
       "    </tr>\n",
       "  </thead>\n",
       "  <tbody>\n",
       "    <tr>\n",
       "      <th>11002</th>\n",
       "      <td>SEN</td>\n",
       "      <td>Senegal</td>\n",
       "      <td>1968</td>\n",
       "      <td>-80.674</td>\n",
       "    </tr>\n",
       "  </tbody>\n",
       "</table>\n",
       "</div>"
      ],
      "text/plain": [
       "      Country_Code  Country  Year  Carbon_Emissions\n",
       "11002          SEN  Senegal  1968           -80.674"
      ]
     },
     "execution_count": 83,
     "metadata": {},
     "output_type": "execute_result"
    }
   ],
   "source": [
    "# Find the row that constains the negative value\n",
    "co2_emissions.loc[(co2_emissions['Carbon_Emissions'] == -80.674)]"
   ]
  },
  {
   "cell_type": "markdown",
   "id": "7e3ff91c",
   "metadata": {},
   "source": [
    "The negative value is replaced with the average of the preceding and succeeding year's values."
   ]
  },
  {
   "cell_type": "code",
   "execution_count": 84,
   "id": "7b21d497",
   "metadata": {},
   "outputs": [],
   "source": [
    "# Replace negative values with the average of previous and next year's values\n",
    "for index, row in co2_emissions.iterrows():\n",
    "    if row['Carbon_Emissions'] < 0:\n",
    "        # Find the average of previous and next year's values for the same country\n",
    "        previous_year_value = co2_emissions.loc[(co2_emissions['Country'] == row['Country']) & (co2_emissions['Year'] == row['Year'] - 1), 'Carbon_Emissions'].mean()\n",
    "        next_year_value = co2_emissions.loc[(co2_emissions['Country'] == row['Country']) & (co2_emissions['Year'] == row['Year'] + 1), 'Carbon_Emissions'].mean()\n",
    "        \n",
    "        # Calculate the average of previous and next year's values\n",
    "        average_value = (previous_year_value + next_year_value) / 2\n",
    "        \n",
    "        # Replace the negative value with the calculated average\n",
    "        co2_emissions.at[index, 'Carbon_Emissions'] = average_value"
   ]
  },
  {
   "cell_type": "code",
   "execution_count": 85,
   "id": "5dbcfe39",
   "metadata": {},
   "outputs": [
    {
     "data": {
      "text/html": [
       "<div>\n",
       "<style scoped>\n",
       "    .dataframe tbody tr th:only-of-type {\n",
       "        vertical-align: middle;\n",
       "    }\n",
       "\n",
       "    .dataframe tbody tr th {\n",
       "        vertical-align: top;\n",
       "    }\n",
       "\n",
       "    .dataframe thead th {\n",
       "        text-align: right;\n",
       "    }\n",
       "</style>\n",
       "<table border=\"1\" class=\"dataframe\">\n",
       "  <thead>\n",
       "    <tr style=\"text-align: right;\">\n",
       "      <th></th>\n",
       "      <th>Country_Code</th>\n",
       "      <th>Country</th>\n",
       "      <th>Year</th>\n",
       "      <th>Carbon_Emissions</th>\n",
       "    </tr>\n",
       "  </thead>\n",
       "  <tbody>\n",
       "    <tr>\n",
       "      <th>11002</th>\n",
       "      <td>SEN</td>\n",
       "      <td>Senegal</td>\n",
       "      <td>1968</td>\n",
       "      <td>595.8875</td>\n",
       "    </tr>\n",
       "  </tbody>\n",
       "</table>\n",
       "</div>"
      ],
      "text/plain": [
       "      Country_Code  Country  Year  Carbon_Emissions\n",
       "11002          SEN  Senegal  1968          595.8875"
      ]
     },
     "execution_count": 85,
     "metadata": {},
     "output_type": "execute_result"
    }
   ],
   "source": [
    "#Verifying Data Input\n",
    "co2_emissions.loc[(co2_emissions['Country'] == 'Senegal') & (co2_emissions['Year'] == 1968)]"
   ]
  },
  {
   "cell_type": "code",
   "execution_count": 86,
   "id": "26a2fc22",
   "metadata": {},
   "outputs": [],
   "source": [
    "# Filter co2_emissions to include only values from 1965 to maintain consistency with other datasets\n",
    "co2_emissions_filtered = co2_emissions[(co2_emissions['Year'] >= 1965)]"
   ]
  },
  {
   "cell_type": "code",
   "execution_count": 87,
   "id": "13cac519",
   "metadata": {},
   "outputs": [
    {
     "data": {
      "text/html": [
       "<div>\n",
       "<style scoped>\n",
       "    .dataframe tbody tr th:only-of-type {\n",
       "        vertical-align: middle;\n",
       "    }\n",
       "\n",
       "    .dataframe tbody tr th {\n",
       "        vertical-align: top;\n",
       "    }\n",
       "\n",
       "    .dataframe thead th {\n",
       "        text-align: right;\n",
       "    }\n",
       "</style>\n",
       "<table border=\"1\" class=\"dataframe\">\n",
       "  <thead>\n",
       "    <tr style=\"text-align: right;\">\n",
       "      <th></th>\n",
       "      <th>Year</th>\n",
       "      <th>Carbon_Emissions</th>\n",
       "    </tr>\n",
       "  </thead>\n",
       "  <tbody>\n",
       "    <tr>\n",
       "      <th>count</th>\n",
       "      <td>12920.000000</td>\n",
       "      <td>1.292000e+04</td>\n",
       "    </tr>\n",
       "    <tr>\n",
       "      <th>mean</th>\n",
       "      <td>1993.027786</td>\n",
       "      <td>8.603268e+05</td>\n",
       "    </tr>\n",
       "    <tr>\n",
       "      <th>std</th>\n",
       "      <td>15.738357</td>\n",
       "      <td>2.873120e+06</td>\n",
       "    </tr>\n",
       "    <tr>\n",
       "      <th>min</th>\n",
       "      <td>1965.000000</td>\n",
       "      <td>0.000000e+00</td>\n",
       "    </tr>\n",
       "    <tr>\n",
       "      <th>25%</th>\n",
       "      <td>1980.000000</td>\n",
       "      <td>1.271186e+03</td>\n",
       "    </tr>\n",
       "    <tr>\n",
       "      <th>50%</th>\n",
       "      <td>1994.000000</td>\n",
       "      <td>1.541987e+04</td>\n",
       "    </tr>\n",
       "    <tr>\n",
       "      <th>75%</th>\n",
       "      <td>2007.000000</td>\n",
       "      <td>1.759988e+05</td>\n",
       "    </tr>\n",
       "    <tr>\n",
       "      <th>max</th>\n",
       "      <td>2019.000000</td>\n",
       "      <td>3.434401e+07</td>\n",
       "    </tr>\n",
       "  </tbody>\n",
       "</table>\n",
       "</div>"
      ],
      "text/plain": [
       "               Year  Carbon_Emissions\n",
       "count  12920.000000      1.292000e+04\n",
       "mean    1993.027786      8.603268e+05\n",
       "std       15.738357      2.873120e+06\n",
       "min     1965.000000      0.000000e+00\n",
       "25%     1980.000000      1.271186e+03\n",
       "50%     1994.000000      1.541987e+04\n",
       "75%     2007.000000      1.759988e+05\n",
       "max     2019.000000      3.434401e+07"
      ]
     },
     "execution_count": 87,
     "metadata": {},
     "output_type": "execute_result"
    }
   ],
   "source": [
    "# Validate filtered data\n",
    "co2_emissions_filtered.describe()"
   ]
  },
  {
   "cell_type": "code",
   "execution_count": 88,
   "id": "62f6ed1a",
   "metadata": {},
   "outputs": [
    {
     "data": {
      "text/plain": [
       "Country_Code        0\n",
       "Country             0\n",
       "Year                0\n",
       "Carbon_Emissions    0\n",
       "dtype: int64"
      ]
     },
     "execution_count": 88,
     "metadata": {},
     "output_type": "execute_result"
    }
   ],
   "source": [
    "# Find missing values in co2_emissions_filtered\n",
    "co2_emissions_filtered.isnull().sum()"
   ]
  },
  {
   "cell_type": "code",
   "execution_count": 89,
   "id": "9224f751",
   "metadata": {},
   "outputs": [
    {
     "data": {
      "text/html": [
       "<div>\n",
       "<style scoped>\n",
       "    .dataframe tbody tr th:only-of-type {\n",
       "        vertical-align: middle;\n",
       "    }\n",
       "\n",
       "    .dataframe tbody tr th {\n",
       "        vertical-align: top;\n",
       "    }\n",
       "\n",
       "    .dataframe thead th {\n",
       "        text-align: right;\n",
       "    }\n",
       "</style>\n",
       "<table border=\"1\" class=\"dataframe\">\n",
       "  <thead>\n",
       "    <tr style=\"text-align: right;\">\n",
       "      <th></th>\n",
       "      <th>Country_Code</th>\n",
       "      <th>Country</th>\n",
       "      <th>Year</th>\n",
       "      <th>Carbon_Emissions</th>\n",
       "    </tr>\n",
       "  </thead>\n",
       "  <tbody>\n",
       "  </tbody>\n",
       "</table>\n",
       "</div>"
      ],
      "text/plain": [
       "Empty DataFrame\n",
       "Columns: [Country_Code, Country, Year, Carbon_Emissions]\n",
       "Index: []"
      ]
     },
     "execution_count": 89,
     "metadata": {},
     "output_type": "execute_result"
    }
   ],
   "source": [
    "# Find duplicates for co2_emissions_filtered\n",
    "co2_emissions_dups= co2_emissions_filtered[co2_emissions_filtered.duplicated]\n",
    "#Print the duplicates\n",
    "co2_emissions_dups"
   ]
  },
  {
   "cell_type": "markdown",
   "id": "a8eba4fe",
   "metadata": {},
   "source": [
    "## 07. Energy Consumption Data Wrangling"
   ]
  },
  {
   "cell_type": "code",
   "execution_count": 90,
   "id": "47a04be9",
   "metadata": {},
   "outputs": [
    {
     "data": {
      "text/plain": [
       "(12588, 4)"
      ]
     },
     "execution_count": 90,
     "metadata": {},
     "output_type": "execute_result"
    }
   ],
   "source": [
    "# Energy consumption data exploration\n",
    "energy_consumption.shape"
   ]
  },
  {
   "cell_type": "code",
   "execution_count": 91,
   "id": "a3d21468",
   "metadata": {},
   "outputs": [
    {
     "data": {
      "text/html": [
       "<div>\n",
       "<style scoped>\n",
       "    .dataframe tbody tr th:only-of-type {\n",
       "        vertical-align: middle;\n",
       "    }\n",
       "\n",
       "    .dataframe tbody tr th {\n",
       "        vertical-align: top;\n",
       "    }\n",
       "\n",
       "    .dataframe thead th {\n",
       "        text-align: right;\n",
       "    }\n",
       "</style>\n",
       "<table border=\"1\" class=\"dataframe\">\n",
       "  <thead>\n",
       "    <tr style=\"text-align: right;\">\n",
       "      <th></th>\n",
       "      <th>Entity</th>\n",
       "      <th>Code</th>\n",
       "      <th>Year</th>\n",
       "      <th>Primary energy consumption (TWh)</th>\n",
       "    </tr>\n",
       "  </thead>\n",
       "  <tbody>\n",
       "    <tr>\n",
       "      <th>0</th>\n",
       "      <td>Afghanistan</td>\n",
       "      <td>AFG</td>\n",
       "      <td>1980</td>\n",
       "      <td>7.790772</td>\n",
       "    </tr>\n",
       "    <tr>\n",
       "      <th>1</th>\n",
       "      <td>Afghanistan</td>\n",
       "      <td>AFG</td>\n",
       "      <td>1981</td>\n",
       "      <td>8.777320</td>\n",
       "    </tr>\n",
       "    <tr>\n",
       "      <th>2</th>\n",
       "      <td>Afghanistan</td>\n",
       "      <td>AFG</td>\n",
       "      <td>1982</td>\n",
       "      <td>9.348327</td>\n",
       "    </tr>\n",
       "    <tr>\n",
       "      <th>3</th>\n",
       "      <td>Afghanistan</td>\n",
       "      <td>AFG</td>\n",
       "      <td>1983</td>\n",
       "      <td>11.436162</td>\n",
       "    </tr>\n",
       "    <tr>\n",
       "      <th>4</th>\n",
       "      <td>Afghanistan</td>\n",
       "      <td>AFG</td>\n",
       "      <td>1984</td>\n",
       "      <td>11.489043</td>\n",
       "    </tr>\n",
       "  </tbody>\n",
       "</table>\n",
       "</div>"
      ],
      "text/plain": [
       "        Entity Code  Year  Primary energy consumption (TWh)\n",
       "0  Afghanistan  AFG  1980                          7.790772\n",
       "1  Afghanistan  AFG  1981                          8.777320\n",
       "2  Afghanistan  AFG  1982                          9.348327\n",
       "3  Afghanistan  AFG  1983                         11.436162\n",
       "4  Afghanistan  AFG  1984                         11.489043"
      ]
     },
     "execution_count": 91,
     "metadata": {},
     "output_type": "execute_result"
    }
   ],
   "source": [
    "energy_consumption.head()"
   ]
  },
  {
   "cell_type": "code",
   "execution_count": 92,
   "id": "08dca8ba",
   "metadata": {},
   "outputs": [],
   "source": [
    "# Format column names\n",
    "energy_consumption.rename(columns={'Entity':'Country', \n",
    "                                   'Code': 'Country_Code',\n",
    "                                   'Primary energy consumption (TWh)':\n",
    "                                   'Energy_Consumption'}, inplace = True)"
   ]
  },
  {
   "cell_type": "code",
   "execution_count": 93,
   "id": "744eab34",
   "metadata": {},
   "outputs": [
    {
     "data": {
      "text/plain": [
       "Country                object\n",
       "Country_Code           object\n",
       "Year                    int64\n",
       "Energy_Consumption    float64\n",
       "dtype: object"
      ]
     },
     "execution_count": 93,
     "metadata": {},
     "output_type": "execute_result"
    }
   ],
   "source": [
    "#Verify data types\n",
    "energy_consumption.dtypes"
   ]
  },
  {
   "cell_type": "code",
   "execution_count": 94,
   "id": "d327bff9",
   "metadata": {},
   "outputs": [
    {
     "name": "stdout",
     "output_type": "stream",
     "text": [
      "Country_Code\n"
     ]
    }
   ],
   "source": [
    "#Inspect for mixed data types\n",
    "for col in energy_consumption.columns.tolist():\n",
    "  weird = (energy_consumption[[col]].applymap(type) != energy_consumption[[col]].iloc[0].apply(type)).any(axis = 1)\n",
    "  if len (energy_consumption[weird]) > 0:\n",
    "    print (col)"
   ]
  },
  {
   "cell_type": "code",
   "execution_count": 95,
   "id": "59958182",
   "metadata": {},
   "outputs": [],
   "source": [
    "# Convert the column Country_Code to object data type\n",
    "energy_consumption.loc[:, 'Country_Code'] = energy_consumption['Country_Code'].astype(str)"
   ]
  },
  {
   "cell_type": "code",
   "execution_count": 96,
   "id": "6b3f1106",
   "metadata": {},
   "outputs": [
    {
     "data": {
      "text/html": [
       "<div>\n",
       "<style scoped>\n",
       "    .dataframe tbody tr th:only-of-type {\n",
       "        vertical-align: middle;\n",
       "    }\n",
       "\n",
       "    .dataframe tbody tr th {\n",
       "        vertical-align: top;\n",
       "    }\n",
       "\n",
       "    .dataframe thead th {\n",
       "        text-align: right;\n",
       "    }\n",
       "</style>\n",
       "<table border=\"1\" class=\"dataframe\">\n",
       "  <thead>\n",
       "    <tr style=\"text-align: right;\">\n",
       "      <th></th>\n",
       "      <th>Year</th>\n",
       "      <th>Energy_Consumption</th>\n",
       "    </tr>\n",
       "  </thead>\n",
       "  <tbody>\n",
       "    <tr>\n",
       "      <th>count</th>\n",
       "      <td>12588.000000</td>\n",
       "      <td>12588.000000</td>\n",
       "    </tr>\n",
       "    <tr>\n",
       "      <th>mean</th>\n",
       "      <td>1997.845249</td>\n",
       "      <td>4510.825633</td>\n",
       "    </tr>\n",
       "    <tr>\n",
       "      <th>std</th>\n",
       "      <td>14.661257</td>\n",
       "      <td>14901.770356</td>\n",
       "    </tr>\n",
       "    <tr>\n",
       "      <th>min</th>\n",
       "      <td>1965.000000</td>\n",
       "      <td>0.000000</td>\n",
       "    </tr>\n",
       "    <tr>\n",
       "      <th>25%</th>\n",
       "      <td>1987.000000</td>\n",
       "      <td>9.265126</td>\n",
       "    </tr>\n",
       "    <tr>\n",
       "      <th>50%</th>\n",
       "      <td>1999.000000</td>\n",
       "      <td>98.920415</td>\n",
       "    </tr>\n",
       "    <tr>\n",
       "      <th>75%</th>\n",
       "      <td>2010.000000</td>\n",
       "      <td>1007.898175</td>\n",
       "    </tr>\n",
       "    <tr>\n",
       "      <th>max</th>\n",
       "      <td>2022.000000</td>\n",
       "      <td>167787.670000</td>\n",
       "    </tr>\n",
       "  </tbody>\n",
       "</table>\n",
       "</div>"
      ],
      "text/plain": [
       "               Year  Energy_Consumption\n",
       "count  12588.000000        12588.000000\n",
       "mean    1997.845249         4510.825633\n",
       "std       14.661257        14901.770356\n",
       "min     1965.000000            0.000000\n",
       "25%     1987.000000            9.265126\n",
       "50%     1999.000000           98.920415\n",
       "75%     2010.000000         1007.898175\n",
       "max     2022.000000       167787.670000"
      ]
     },
     "execution_count": 96,
     "metadata": {},
     "output_type": "execute_result"
    }
   ],
   "source": [
    "# Generate descriptive statistics for energy_consumption\n",
    "energy_consumption.describe()"
   ]
  },
  {
   "cell_type": "code",
   "execution_count": 97,
   "id": "347d63af",
   "metadata": {},
   "outputs": [
    {
     "data": {
      "text/plain": [
       "Country               0\n",
       "Country_Code          0\n",
       "Year                  0\n",
       "Energy_Consumption    0\n",
       "dtype: int64"
      ]
     },
     "execution_count": 97,
     "metadata": {},
     "output_type": "execute_result"
    }
   ],
   "source": [
    "# Finding missing values in energy_consumption\n",
    "energy_consumption.isnull().sum()"
   ]
  },
  {
   "cell_type": "code",
   "execution_count": 98,
   "id": "09881a69",
   "metadata": {},
   "outputs": [
    {
     "data": {
      "text/html": [
       "<div>\n",
       "<style scoped>\n",
       "    .dataframe tbody tr th:only-of-type {\n",
       "        vertical-align: middle;\n",
       "    }\n",
       "\n",
       "    .dataframe tbody tr th {\n",
       "        vertical-align: top;\n",
       "    }\n",
       "\n",
       "    .dataframe thead th {\n",
       "        text-align: right;\n",
       "    }\n",
       "</style>\n",
       "<table border=\"1\" class=\"dataframe\">\n",
       "  <thead>\n",
       "    <tr style=\"text-align: right;\">\n",
       "      <th></th>\n",
       "      <th>Country</th>\n",
       "      <th>Country_Code</th>\n",
       "      <th>Year</th>\n",
       "      <th>Energy_Consumption</th>\n",
       "    </tr>\n",
       "  </thead>\n",
       "  <tbody>\n",
       "  </tbody>\n",
       "</table>\n",
       "</div>"
      ],
      "text/plain": [
       "Empty DataFrame\n",
       "Columns: [Country, Country_Code, Year, Energy_Consumption]\n",
       "Index: []"
      ]
     },
     "execution_count": 98,
     "metadata": {},
     "output_type": "execute_result"
    }
   ],
   "source": [
    "# Find duplicates for energy_consumption_filtered\n",
    "energy_consumption_dups= energy_consumption[energy_consumption.duplicated]\n",
    "#Print the duplicates\n",
    "energy_consumption_dups"
   ]
  },
  {
   "cell_type": "markdown",
   "id": "adcab76a",
   "metadata": {},
   "source": [
    "## 08. Export Clean Data Sets"
   ]
  },
  {
   "cell_type": "code",
   "execution_count": 99,
   "id": "bd452fb6",
   "metadata": {},
   "outputs": [],
   "source": [
    "#Export nat_disasters\n",
    "nat_disasters_filtered.to_csv(os.path.join(path,'02 Data','Cleaned Data', 'nat_disasters_clean.csv'))"
   ]
  },
  {
   "cell_type": "code",
   "execution_count": 100,
   "id": "08dff6e6",
   "metadata": {},
   "outputs": [],
   "source": [
    "#Export temp_change_filtered3\n",
    "temp_change_cleaned_3.to_csv(os.path.join(path,'02 Data','Cleaned Data', 'temp_changes_clean.csv'))"
   ]
  },
  {
   "cell_type": "code",
   "execution_count": 101,
   "id": "03fb9c76",
   "metadata": {},
   "outputs": [],
   "source": [
    "#Export net_migration_filtered\n",
    "net_migration_filtered.to_csv(os.path.join(path,'02 Data','Cleaned Data', 'net_migration_clean.csv'))"
   ]
  },
  {
   "cell_type": "code",
   "execution_count": 102,
   "id": "33a9f0d1",
   "metadata": {},
   "outputs": [],
   "source": [
    "#Export population_filtered\n",
    "population_filtered.to_csv(os.path.join(path,'02 Data','Cleaned Data','population_clean.csv'))"
   ]
  },
  {
   "cell_type": "code",
   "execution_count": 103,
   "id": "7e93fc68",
   "metadata": {},
   "outputs": [],
   "source": [
    "#Export co2_emissions_filtered\n",
    "co2_emissions_filtered.to_csv(os.path.join(path,'02 Data','Cleaned Data', 'co2_emissions_filtered_clean.csv'))"
   ]
  },
  {
   "cell_type": "code",
   "execution_count": 104,
   "id": "5155b1da",
   "metadata": {},
   "outputs": [],
   "source": [
    "#Export energy_consumption_filtered\n",
    "energy_consumption.to_csv(os.path.join(path,'02 Data','Cleaned Data', 'energy_consumption_filtered_clean.csv'))"
   ]
  },
  {
   "cell_type": "code",
   "execution_count": null,
   "id": "0bd41944",
   "metadata": {},
   "outputs": [],
   "source": []
  }
 ],
 "metadata": {
  "kernelspec": {
   "display_name": "Python 3 (ipykernel)",
   "language": "python",
   "name": "python3"
  },
  "language_info": {
   "codemirror_mode": {
    "name": "ipython",
    "version": 3
   },
   "file_extension": ".py",
   "mimetype": "text/x-python",
   "name": "python",
   "nbconvert_exporter": "python",
   "pygments_lexer": "ipython3",
   "version": "3.10.9"
  }
 },
 "nbformat": 4,
 "nbformat_minor": 5
}
